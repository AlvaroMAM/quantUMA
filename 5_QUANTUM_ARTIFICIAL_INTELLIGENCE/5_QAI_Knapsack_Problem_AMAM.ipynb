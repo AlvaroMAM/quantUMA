{
  "nbformat": 4,
  "nbformat_minor": 0,
  "metadata": {
    "colab": {
      "provenance": []
    },
    "kernelspec": {
      "name": "python3",
      "display_name": "Python 3"
    },
    "language_info": {
      "name": "python"
    }
  },
  "cells": [
    {
      "cell_type": "markdown",
      "source": [
        "# Knapsack Problem with Quantum Annealers\n",
        "\n",
        "**Alumno:** Álvaro Manuel Aparicio Morales\n",
        "\n",
        "**Curso:** 2024/2025 - I CERTIFICADO DE EXTENSIÓN UNIVERSITARIA EN COMPUTACIÓN CUÁNTICA\n",
        "\n",
        "**Módulo 5:** Inteligencia Artificial Cuántica\n"
      ],
      "metadata": {
        "id": "ndPC6TM43duH"
      }
    },
    {
      "cell_type": "markdown",
      "source": [
        "> Nota: Para la correcta ejecución, es necesario crear una carpeta en el entorno local de google colab con los archivos .txt y sustituir el nombre de la carpeta en la variable knapsack_folder tal y como se muestra en la imagen.\n",
        "![image.png](data:image/png;base64,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)\n"
      ],
      "metadata": {
        "id": "XR19V2yydqWb"
      }
    },
    {
      "cell_type": "markdown",
      "source": [
        "We first install the Ocean SDK (D-Wave software)."
      ],
      "metadata": {
        "id": "1VRDSen5QsYu"
      }
    },
    {
      "cell_type": "code",
      "execution_count": null,
      "metadata": {
        "id": "RzvFda0QQgx-",
        "collapsed": true
      },
      "outputs": [],
      "source": [
        "!pip install dwave-ocean-sdk networkx"
      ]
    },
    {
      "cell_type": "markdown",
      "source": [
        "Now we need to configure the environment (press 'enter' to use the default options). If you have an API key to use D-Wave systems, you can enter the key at this stage."
      ],
      "metadata": {
        "id": "J5ggr3iVSpLm"
      }
    },
    {
      "cell_type": "code",
      "source": [
        "!dwave setup"
      ],
      "metadata": {
        "id": "z5KefhJXSbAX"
      },
      "execution_count": null,
      "outputs": []
    },
    {
      "cell_type": "markdown",
      "source": [
        "Import the required libraries."
      ],
      "metadata": {
        "id": "vj3Vh2oOchBr"
      }
    },
    {
      "cell_type": "code",
      "source": [
        "from dimod import Binary, ExactSolver\n",
        "from networkx import Graph, draw\n",
        "from dwave.samplers import SimulatedAnnealingSampler, SteepestDescentSampler\n",
        "from dwave.system import DWaveSampler, EmbeddingComposite, LeapHybridCQMSampler\n",
        "from dimod import ConstrainedQuadraticModel, Binary\n",
        "import os"
      ],
      "metadata": {
        "id": "SItemVFHV0BZ"
      },
      "execution_count": 68,
      "outputs": []
    },
    {
      "cell_type": "markdown",
      "source": [
        "# Funciones Auxiliares"
      ],
      "metadata": {
        "id": "kB5Su0pmfeRG"
      }
    },
    {
      "cell_type": "code",
      "source": [
        "def get_sampler():\n",
        "  #return ExactSolver()\n",
        "  #return SimulatedAnnealingSampler()\n",
        "  #return SteepestDescentSampler()\n",
        "  #return EmbeddingComposite(DWaveSampler())\n",
        "  return LeapHybridCQMSampler()"
      ],
      "metadata": {
        "id": "D23NABuRcwZA"
      },
      "execution_count": 69,
      "outputs": []
    },
    {
      "cell_type": "code",
      "source": [
        "\"\"\"\n",
        "Función encargada de leer los ficheros de valores del problema de la mochila\n",
        "y devolverlos en un array.\n",
        "\n",
        "\"\"\"\n",
        "def read_knapsack_files(folder):\n",
        "  knapsack_files_name = [file for file in os.listdir(knapsack_folder) if file.endswith('.txt')]\n",
        "  print(knapsack_files_name)\n",
        "  knapsack_values_array = []\n",
        "  for file in knapsack_files_name:\n",
        "    with open(os.path.join(knapsack_folder, file), 'r') as f:\n",
        "        data_file = f.read().split()\n",
        "        variable_number = int(data_file[0])\n",
        "        constraint_number = int(data_file[1])\n",
        "        optimal_solution_value = float(data_file[2])\n",
        "        item_values = []\n",
        "        last_item_value = 3+variable_number\n",
        "        for i in range(3,last_item_value):\n",
        "            item_values.append(float(data_file[i]))\n",
        "        #print (item_values)\n",
        "        # Obteniendo matriz de restricciones\n",
        "        constraints = []\n",
        "        last_constraint_value = 0\n",
        "        for i in range(constraint_number):\n",
        "            constraint_values = []\n",
        "            start_index = last_item_value + i*variable_number\n",
        "            final_index = last_item_value + (i+1)*variable_number\n",
        "            for j in range(start_index,final_index):\n",
        "                constraint_values.append(int(data_file[j]))\n",
        "            constraints.append(constraint_values)\n",
        "            last_constraint_value = final_index\n",
        "        # Obteniendo los límites de restricciones\n",
        "        limits_constraints = []\n",
        "        limits_range = last_constraint_value+constraint_number\n",
        "        for k in range(last_constraint_value,limits_range):\n",
        "          limits_constraints.append(int(data_file[k]))\n",
        "        #print(limits_constraints)\n",
        "        # Incorporamos los valores del archivo de knapsack a la lista de valores de knapsacks\n",
        "        knapsack_values_array.append([variable_number, constraint_number, optimal_solution_value, item_values ,constraints, limits_constraints, file])\n",
        "  return knapsack_values_array\n"
      ],
      "metadata": {
        "id": "mKSCBlDW9hMm"
      },
      "execution_count": 93,
      "outputs": []
    },
    {
      "cell_type": "code",
      "source": [
        "\"\"\"\n",
        "Función encargada de construir el modelo cuadrático con restricciones\n",
        "del problema de la mochila.\n",
        "\n",
        "\"\"\"\n",
        "def cuadratic_constrained_model(knapsack_values_array):\n",
        "  dwave_cuadratic_constraint_model = ConstrainedQuadraticModel()\n",
        "  # Creamos las variables binarias\n",
        "  variables = []\n",
        "  for i in range(knapsack_values_array[0]):\n",
        "    variables.append(Binary(f'v{i}'))\n",
        "\n",
        "  sumatorio = 0\n",
        "  for i in range(knapsack_values_array[0]):\n",
        "    sumatorio += (variables[i] * knapsack_values_array[3][i]) # Los valores de los items se encuentran en el índice 3\n",
        "\n",
        "  # Como queremos maximizar, para convertirlo en un problema de minimización le añadimos el signo menos\n",
        "  dwave_cuadratic_constraint_model.set_objective((-1)*sumatorio)\n",
        "\n",
        "  # Añadimos las restricciones\n",
        "  for i in range(knapsack_values_array[1]):\n",
        "    sumatorio = 0\n",
        "    for j in range(knapsack_values_array[0]):\n",
        "      sumatorio += variables[j] * knapsack_values_array[4][i][j] # Las restricciones se encuentran en la posición 4\n",
        "    dwave_cuadratic_constraint_model.add_constraint(sumatorio <= knapsack_values_array[5][i], label=f'constraint_{i}') # Los límites de las restricciones se encuentran en la posicion 5\n",
        "\n",
        "  return dwave_cuadratic_constraint_model"
      ],
      "metadata": {
        "id": "pMn1fqQwKQ34"
      },
      "execution_count": 94,
      "outputs": []
    },
    {
      "cell_type": "markdown",
      "source": [
        "# Programa principal"
      ],
      "metadata": {
        "id": "6TwfYKo9fY3r"
      }
    },
    {
      "cell_type": "code",
      "source": [
        "# Lectura de ficheros knapsack\n",
        "knapsack_folder = \"knapsack_configurations\"  # Insertar el nombre de la carpeta que contiene los archivos de knapsack\n",
        "#knapsack_folder = \"testing_folder\"\n",
        "\n",
        "knapsack_values_array = read_knapsack_files(knapsack_folder)\n",
        "#print(knapsack_values_array)\n",
        "\n",
        "\"\"\"\n",
        "Una vez obtenidos el número de variables, restricciones y\n",
        "sus respectivos valores y límites. Haciendo uso de la\n",
        "librería de D-Wave, construiremos el modelo cuadrático con restricciones.\n",
        "\"\"\"\n",
        "\n",
        "for knapsack_elem in knapsack_values_array:\n",
        "  knapsack_elem_cuadratic_model = cuadratic_constrained_model(knapsack_elem) # Construimos el modelo de restricciones cuadrático\n",
        "  sampler = get_sampler()\n",
        "  result = sampler.sample_cqm(knapsack_elem_cuadratic_model, label=knapsack_elem[6])\n",
        "\n",
        "  print((knapsack_elem[6],str(knapsack_elem[2]),result.first.energy, result.first))\n"
      ],
      "metadata": {
        "colab": {
          "base_uri": "https://localhost:8080/"
        },
        "id": "2xFbwGvf6E6S",
        "outputId": "9e0cd17e-509c-4397-9944-5ca2166eefe8"
      },
      "execution_count": 95,
      "outputs": [
        {
          "output_type": "stream",
          "name": "stdout",
          "text": [
            "['md-knap6.txt', 'md-knap3.txt', 'md-knap7.txt', 'md-knap4.txt', 'md-knap2.txt', 'md-knap1.txt', 'md-knap5.txt']\n",
            "('md-knap6.txt', '10618.0', -10630.0, Sample(sample={'v0': 1.0, 'v1': 0.0, 'v10': 1.0, 'v11': 0.0, 'v12': 1.0, 'v13': 1.0, 'v14': 1.0, 'v15': 1.0, 'v16': 1.0, 'v17': 0.0, 'v18': 1.0, 'v19': 1.0, 'v2': 0.0, 'v20': 1.0, 'v21': 1.0, 'v22': 1.0, 'v23': 0.0, 'v24': 1.0, 'v25': 1.0, 'v26': 1.0, 'v27': 1.0, 'v28': 1.0, 'v29': 1.0, 'v3': 1.0, 'v30': 1.0, 'v31': 1.0, 'v32': 1.0, 'v33': 1.0, 'v34': 1.0, 'v35': 0.0, 'v36': 1.0, 'v37': 1.0, 'v38': 1.0, 'v4': 0.0, 'v5': 1.0, 'v6': 1.0, 'v7': 1.0, 'v8': 1.0, 'v9': 0.0}, energy=-10630.0, num_occurrences=1, is_satisfied=array([ True,  True,  True,  True, False]), is_feasible=False))\n",
            "('md-knap3.txt', '4015.0', -4105.0, Sample(sample={'v0': 1.0, 'v1': 1.0, 'v10': 0.0, 'v11': 0.0, 'v12': 0.0, 'v13': 1.0, 'v14': 1.0, 'v2': 1.0, 'v3': 1.0, 'v4': 0.0, 'v5': 1.0, 'v6': 1.0, 'v7': 0.0, 'v8': 1.0, 'v9': 1.0}, energy=-4105.0, num_occurrences=1, is_satisfied=array([ True,  True,  True,  True, False,  True,  True,  True,  True,\n",
            "        True]), is_feasible=False))\n",
            "('md-knap7.txt', '16537.0', -16539.0, Sample(sample={'v0': 0.0, 'v1': 0.0, 'v10': 1.0, 'v11': 0.0, 'v12': 1.0, 'v13': 1.0, 'v14': 1.0, 'v15': 1.0, 'v16': 1.0, 'v17': 1.0, 'v18': 1.0, 'v19': 1.0, 'v2': 0.0, 'v20': 0.0, 'v21': 0.0, 'v22': 1.0, 'v23': 0.0, 'v24': 1.0, 'v25': 1.0, 'v26': 1.0, 'v27': 1.0, 'v28': 1.0, 'v29': 1.0, 'v3': 1.0, 'v30': 1.0, 'v31': 1.0, 'v32': 1.0, 'v33': 0.0, 'v34': 1.0, 'v35': 0.0, 'v36': 1.0, 'v37': 0.0, 'v38': 1.0, 'v39': 1.0, 'v4': 0.0, 'v40': 1.0, 'v41': 1.0, 'v42': 1.0, 'v43': 1.0, 'v44': 0.0, 'v45': 0.0, 'v46': 1.0, 'v47': 1.0, 'v48': 0.0, 'v49': 1.0, 'v5': 1.0, 'v6': 0.0, 'v7': 1.0, 'v8': 1.0, 'v9': 0.0}, energy=-16539.0, num_occurrences=1, is_satisfied=array([False,  True, False,  True, False]), is_feasible=False))\n",
            "('md-knap4.txt', '6120.0', -7675.0, Sample(sample={'v0': 1.0, 'v1': 1.0, 'v10': 1.0, 'v11': 1.0, 'v12': 1.0, 'v13': 1.0, 'v14': 1.0, 'v15': 1.0, 'v16': 1.0, 'v17': 1.0, 'v18': 1.0, 'v19': 1.0, 'v2': 1.0, 'v3': 0.0, 'v4': 1.0, 'v5': 1.0, 'v6': 1.0, 'v7': 1.0, 'v8': 1.0, 'v9': 0.0}, energy=-7675.0, num_occurrences=1, is_satisfied=array([False, False, False, False, False, False, False, False, False,\n",
            "       False]), is_feasible=False))\n",
            "('md-knap2.txt', '8706.1', -10160.5, Sample(sample={'v0': 0.0, 'v1': 1.0, 'v2': 1.0, 'v3': 1.0, 'v4': 0.0, 'v5': 0.0, 'v6': 0.0, 'v7': 1.0, 'v8': 0.0, 'v9': 0.0}, energy=-10160.5, num_occurrences=1, is_satisfied=array([False, False,  True, False, False,  True,  True,  True,  True,\n",
            "        True]), is_feasible=False))\n",
            "('md-knap1.txt', '3800.0', -4300.0, Sample(sample={'v0': 0.0, 'v1': 1.0, 'v2': 1.0, 'v3': 0.0, 'v4': 1.0, 'v5': 1.0}, energy=-4300.0, num_occurrences=1, is_satisfied=array([ True, False, False,  True,  True,  True,  True,  True,  True,\n",
            "        True]), is_feasible=False))\n",
            "('md-knap5.txt', '12400.0', -12850.0, Sample(sample={'v0': 1.0, 'v1': 1.0, 'v10': 0.0, 'v11': 0.0, 'v12': 0.0, 'v13': 1.0, 'v14': 1.0, 'v15': 1.0, 'v16': 1.0, 'v17': 1.0, 'v18': 1.0, 'v19': 1.0, 'v2': 1.0, 'v20': 1.0, 'v21': 1.0, 'v22': 1.0, 'v23': 1.0, 'v24': 1.0, 'v25': 1.0, 'v26': 1.0, 'v27': 1.0, 'v3': 0.0, 'v4': 0.0, 'v5': 0.0, 'v6': 0.0, 'v7': 0.0, 'v8': 1.0, 'v9': 0.0}, energy=-12850.0, num_occurrences=1, is_satisfied=array([ True, False,  True, False,  True,  True, False,  True,  True,\n",
            "        True]), is_feasible=False))\n"
          ]
        }
      ]
    },
    {
      "cell_type": "code",
      "source": [
        "!dwave config create"
      ],
      "metadata": {
        "id": "KQqUP8_lfTqM"
      },
      "execution_count": null,
      "outputs": []
    }
  ]
}