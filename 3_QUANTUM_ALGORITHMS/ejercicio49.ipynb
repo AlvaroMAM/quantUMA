{
 "cells": [
  {
   "cell_type": "markdown",
   "metadata": {},
   "source": [
    "# Bloque 2: Algoritmos Cuánticos\n",
    "Alumno: Álvaro Manuel Aparicio Morales\n",
    "\n",
    "I Certificado de Extensión Universitaria en Computación Cuántica (2024-2025)"
   ]
  },
  {
   "cell_type": "markdown",
   "metadata": {},
   "source": [
    "## Ejercicio 49\n",
    "\n",
    "Para la resolución de este ejercicio, se ha desarrollado una función para comprobar que dos operadores unitarios son equivalentes mediante el producto de un operador del circuito 1 con el traspuesto conjugado del circuito 2 y la comprobación de que esa multiplicación es igual a la identidad.\n"
   ]
  },
  {
   "cell_type": "code",
   "execution_count": 37,
   "metadata": {},
   "outputs": [],
   "source": [
    "from qiskit import QuantumCircuit, quantum_info\n",
    "import numpy as np"
   ]
  },
  {
   "cell_type": "code",
   "execution_count": 38,
   "metadata": {},
   "outputs": [],
   "source": [
    "def operators_equivalence(qc_1,qc_2):\n",
    "    unitary_operator_qc1 = quantum_info.Operator(qc_1)\n",
    "    unitary_operator_qc2 = quantum_info.Operator(qc_2)\n",
    "    \n",
    "    # Para comprobar si ambos operadores son idénticos el producto del operador del circuito 1\n",
    "    # con el traspueto conjugado del circuito 2, debe dar la identidad\n",
    "\n",
    "    unitary_operator_matrix_qc1 = unitary_operator_qc1.data\n",
    "    unitary_operator_matrix_qc2 = unitary_operator_qc2.data\n",
    "\n",
    "    print(unitary_operator_matrix_qc1)\n",
    "    print(unitary_operator_matrix_qc2)\n",
    "\n",
    "    identity = np.identity(unitary_operator_matrix_qc1.shape[0]) # Obtenemos el tamaño de la matriz para generar la identidad\n",
    "    operators_products = unitary_operator_matrix_qc1 @ (np.conjugate(unitary_operator_matrix_qc2.T))\n",
    "    equivalence = np.allclose(identity, operators_products,atol=1e-9)\n",
    "    return equivalence\n",
    "\n"
   ]
  },
  {
   "cell_type": "code",
   "execution_count": 39,
   "metadata": {},
   "outputs": [
    {
     "name": "stdout",
     "output_type": "stream",
     "text": [
      "[[ 1.+0.j  0.+0.j  0.+0.j  0.+0.j]\n",
      " [ 0.+0.j  1.+0.j  0.+0.j  0.+0.j]\n",
      " [ 0.+0.j  0.+0.j  1.+0.j  0.+0.j]\n",
      " [ 0.+0.j  0.+0.j  0.+0.j -1.+0.j]]\n",
      "[[ 1.+0.j  0.+0.j  0.+0.j  0.+0.j]\n",
      " [ 0.+0.j  1.+0.j  0.+0.j  0.+0.j]\n",
      " [ 0.+0.j  0.+0.j  1.+0.j  0.+0.j]\n",
      " [ 0.+0.j  0.+0.j  0.+0.j -1.+0.j]]\n",
      "Result of equivalence is:  True\n"
     ]
    }
   ],
   "source": [
    "# Circuito 14.3.3.1\n",
    "qc1_1 = QuantumCircuit(2)\n",
    "qc1_1.cz(0,1)\n",
    "qc1_2 = QuantumCircuit(2)\n",
    "qc1_2.cz(1,0)\n",
    "equivalence = operators_equivalence(qc_1=qc1_1, qc_2=qc1_2)\n",
    "print(\"Result of equivalence is: \", equivalence)\n"
   ]
  },
  {
   "cell_type": "code",
   "execution_count": 40,
   "metadata": {},
   "outputs": [
    {
     "name": "stdout",
     "output_type": "stream",
     "text": [
      "[[1.+0.j 0.+0.j 0.+0.j 0.+0.j]\n",
      " [0.+0.j 1.+0.j 0.+0.j 0.+0.j]\n",
      " [0.+0.j 0.+0.j 0.+0.j 1.+0.j]\n",
      " [0.+0.j 0.+0.j 1.+0.j 0.+0.j]]\n",
      "[[1.+0.j 0.+0.j 0.+0.j 0.+0.j]\n",
      " [0.+0.j 1.+0.j 0.+0.j 0.+0.j]\n",
      " [0.+0.j 0.+0.j 0.+0.j 1.+0.j]\n",
      " [0.+0.j 0.+0.j 1.+0.j 0.+0.j]]\n",
      "Result of equivalence is:  True\n"
     ]
    }
   ],
   "source": [
    "# Circuito 14.3.3.2\n",
    "qc2_1 = QuantumCircuit(2)\n",
    "qc2_1.h(0)\n",
    "qc2_1.h(1)\n",
    "qc2_1.cx(0,1) # cnot\n",
    "qc2_1.h(0)\n",
    "qc2_1.h(1)\n",
    "\n",
    "qc2_2 = QuantumCircuit(2)\n",
    "qc2_2.cx(1,0) # cnot()\n",
    "equivalence = operators_equivalence(qc_1=qc2_1, qc_2=qc2_2)\n",
    "print(\"Result of equivalence is: \", equivalence)\n"
   ]
  },
  {
   "cell_type": "code",
   "execution_count": 41,
   "metadata": {},
   "outputs": [
    {
     "name": "stdout",
     "output_type": "stream",
     "text": [
      "[[1.+0.j 0.+0.j 0.+0.j 0.+0.j]\n",
      " [0.+0.j 0.+0.j 1.+0.j 0.+0.j]\n",
      " [0.+0.j 1.+0.j 0.+0.j 0.+0.j]\n",
      " [0.+0.j 0.+0.j 0.+0.j 1.+0.j]]\n",
      "[[1.+0.j 0.+0.j 0.+0.j 0.+0.j]\n",
      " [0.+0.j 0.+0.j 1.+0.j 0.+0.j]\n",
      " [0.+0.j 1.+0.j 0.+0.j 0.+0.j]\n",
      " [0.+0.j 0.+0.j 0.+0.j 1.+0.j]]\n",
      "Result of equivalence is:  True\n"
     ]
    }
   ],
   "source": [
    "# Circuito 14.3.3.3\n",
    "qc3_1 = QuantumCircuit(2)\n",
    "qc3_1.cx(1,0)\n",
    "qc3_1.cx(0,1)\n",
    "qc3_1.cx(1,0)\n",
    "qc3_2 = QuantumCircuit(2)\n",
    "qc3_2.swap(0,1)\n",
    "equivalence = operators_equivalence(qc_1=qc3_1, qc_2=qc3_2)\n",
    "print(\"Result of equivalence is: \", equivalence)\n"
   ]
  },
  {
   "cell_type": "code",
   "execution_count": 42,
   "metadata": {},
   "outputs": [
    {
     "name": "stdout",
     "output_type": "stream",
     "text": [
      "[[ 1.+0.0000000e+00j  0.+0.0000000e+00j  0.+0.0000000e+00j\n",
      "   0.+0.0000000e+00j]\n",
      " [ 0.+0.0000000e+00j  1.+0.0000000e+00j  0.+0.0000000e+00j\n",
      "   0.+0.0000000e+00j]\n",
      " [ 0.+0.0000000e+00j  0.+0.0000000e+00j -1.+1.2246468e-16j\n",
      "   0.+0.0000000e+00j]\n",
      " [ 0.+0.0000000e+00j  0.+0.0000000e+00j  0.+0.0000000e+00j\n",
      "  -1.+1.2246468e-16j]]\n",
      "[[ 1.+0.0000000e+00j  0.+0.0000000e+00j  0.+0.0000000e+00j\n",
      "   0.+0.0000000e+00j]\n",
      " [ 0.+0.0000000e+00j  1.+0.0000000e+00j  0.+0.0000000e+00j\n",
      "   0.+0.0000000e+00j]\n",
      " [ 0.+0.0000000e+00j  0.+0.0000000e+00j -1.+1.2246468e-16j\n",
      "   0.+0.0000000e+00j]\n",
      " [ 0.+0.0000000e+00j  0.+0.0000000e+00j  0.+0.0000000e+00j\n",
      "  -1.+1.2246468e-16j]]\n",
      "Result of equivalence is:  True\n"
     ]
    }
   ],
   "source": [
    "# Circuito 14.3.3.4\n",
    "from qiskit.circuit.library import U1Gate\n",
    "\n",
    "def get_ckmatrix (phi):\n",
    "    ckmatrix = np.array([\n",
    "        [1, 0, 0, 0],\n",
    "        [0, 1, 0, 0],\n",
    "        [0, 0, np.exp(1j * phi), 0],\n",
    "        [0, 0, 0, np.exp(1j * phi)]\n",
    "    ])\n",
    "    return ckmatrix\n",
    "\n",
    "phase = np.pi\n",
    "\n",
    "qc4_1 = QuantumCircuit(2)\n",
    "ck_operator = quantum_info.Operator(get_ckmatrix(phase)) # Construimos el operador CKphi para cualquier fase\n",
    "qc4_1.append(ck_operator,[0,1])\n",
    "\n",
    "qc4_2 = QuantumCircuit(2)\n",
    "qc4_2.append(U1Gate(phase),[1])\n",
    "\n",
    "equivalence = operators_equivalence(qc_1=qc4_1, qc_2=qc4_2)\n",
    "print(\"Result of equivalence is: \", equivalence)"
   ]
  }
 ],
 "metadata": {
  "kernelspec": {
   "display_name": ".venv",
   "language": "python",
   "name": "python3"
  },
  "language_info": {
   "codemirror_mode": {
    "name": "ipython",
    "version": 3
   },
   "file_extension": ".py",
   "mimetype": "text/x-python",
   "name": "python",
   "nbconvert_exporter": "python",
   "pygments_lexer": "ipython3",
   "version": "3.11.9"
  }
 },
 "nbformat": 4,
 "nbformat_minor": 2
}
