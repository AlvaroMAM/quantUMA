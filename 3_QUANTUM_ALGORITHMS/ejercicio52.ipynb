{
 "cells": [
  {
   "cell_type": "markdown",
   "metadata": {},
   "source": [
    "# Bloque 2: Algoritmos Cuánticos\n",
    "Alumno: Álvaro Manuel Aparicio Morales\n",
    "\n",
    "I Certificado de Extensión Universitaria en Computación Cuántica (2024-2025)"
   ]
  },
  {
   "cell_type": "markdown",
   "metadata": {},
   "source": [
    "## Ejercicio 52"
   ]
  },
  {
   "cell_type": "code",
   "execution_count": 2,
   "metadata": {},
   "outputs": [],
   "source": [
    "from qiskit import QuantumCircuit\n",
    "import numpy as np"
   ]
  },
  {
   "cell_type": "code",
   "execution_count": null,
   "metadata": {},
   "outputs": [
    {
     "name": "stdout",
     "output_type": "stream",
     "text": [
      "      ┌───┐                                                                 »\n",
      " q_0: ┤ H ├──■──────────────────────────────────────────────────────────────»\n",
      "      └───┘┌─┴─┐                                                            »\n",
      " q_1: ─────┤ X ├──■─────────────────────────────────────────────────────────»\n",
      "           └───┘┌─┴─┐                                                       »\n",
      " q_2: ──────────┤ X ├──■────────────────────────────────────────────────────»\n",
      "                └───┘┌─┴─┐                                                  »\n",
      " q_3: ───────────────┤ X ├──■───────────────────────────────────────────────»\n",
      "                     └───┘┌─┴─┐                                             »\n",
      " q_4: ────────────────────┤ X ├──■──────────────────────────────────────────»\n",
      "                          └───┘┌─┴─┐                                        »\n",
      " q_5: ─────────────────────────┤ X ├──■─────────────────────────────────────»\n",
      "                               └───┘┌─┴─┐                                   »\n",
      " q_6: ──────────────────────────────┤ X ├──■────────────────────────────────»\n",
      "                                    └───┘┌─┴─┐                              »\n",
      " q_7: ───────────────────────────────────┤ X ├──■───────────────────────────»\n",
      "                                         └───┘┌─┴─┐                         »\n",
      " q_8: ────────────────────────────────────────┤ X ├──■──────────────────────»\n",
      "                                              └───┘┌─┴─┐                    »\n",
      " q_9: ─────────────────────────────────────────────┤ X ├──■─────────────────»\n",
      "                                                   └───┘┌─┴─┐               »\n",
      "q_10: ──────────────────────────────────────────────────┤ X ├──■────────────»\n",
      "                                                        └───┘┌─┴─┐          »\n",
      "q_11: ───────────────────────────────────────────────────────┤ X ├──■───────»\n",
      "                                                             └───┘┌─┴─┐     »\n",
      "q_12: ────────────────────────────────────────────────────────────┤ X ├──■──»\n",
      "                                                                  └───┘┌─┴─┐»\n",
      "q_13: ─────────────────────────────────────────────────────────────────┤ X ├»\n",
      "                                                                       └───┘»\n",
      "q_14: ──────────────────────────────────────────────────────────────────────»\n",
      "                                                                            »\n",
      "q_15: ──────────────────────────────────────────────────────────────────────»\n",
      "                                                                            »\n",
      "«                \n",
      "« q_0: ──────────\n",
      "«                \n",
      "« q_1: ──────────\n",
      "«                \n",
      "« q_2: ──────────\n",
      "«                \n",
      "« q_3: ──────────\n",
      "«                \n",
      "« q_4: ──────────\n",
      "«                \n",
      "« q_5: ──────────\n",
      "«                \n",
      "« q_6: ──────────\n",
      "«                \n",
      "« q_7: ──────────\n",
      "«                \n",
      "« q_8: ──────────\n",
      "«                \n",
      "« q_9: ──────────\n",
      "«                \n",
      "«q_10: ──────────\n",
      "«                \n",
      "«q_11: ──────────\n",
      "«                \n",
      "«q_12: ──────────\n",
      "«                \n",
      "«q_13: ──■───────\n",
      "«      ┌─┴─┐     \n",
      "«q_14: ┤ X ├──■──\n",
      "«      └───┘┌─┴─┐\n",
      "«q_15: ─────┤ X ├\n",
      "«           └───┘\n"
     ]
    }
   ],
   "source": [
    "# Circuito de 16 qubits\n",
    "qc = QuantumCircuit(16)\n",
    "qc.h(0)\n",
    "for q in range(1,qc.num_qubits):\n",
    "    qc.cx(q-1,q)\n",
    "print(qc)"
   ]
  },
  {
   "cell_type": "markdown",
   "metadata": {},
   "source": [
    "Para poder optimizar el circuito anterior, podemos trabajar con el circuito mediante la apliación de puertas en paralelo. Para lograrlo se puede seguir la estructura de un árbol binario donde cada nivel es una etapa donde se pueden aplicar puertas cnots paralelas. \n",
    "\n",
    "A continuación generamos el circuito optimizado:"
   ]
  },
  {
   "cell_type": "code",
   "execution_count": 14,
   "metadata": {},
   "outputs": [
    {
     "name": "stdout",
     "output_type": "stream",
     "text": [
      "Circuito optimizado con profundidad 5:\n",
      "      ┌───┐                    \n",
      " q_0: ┤ H ├──■────■────■────■──\n",
      "      └───┘┌─┴─┐  │    │    │  \n",
      " q_1: ─────┤ X ├──┼────┼────┼──\n",
      "           └───┘┌─┴─┐  │    │  \n",
      " q_2: ──■───────┤ X ├──┼────┼──\n",
      "      ┌─┴─┐     └───┘  │    │  \n",
      " q_3: ┤ X ├────────────┼────┼──\n",
      "      └───┘          ┌─┴─┐  │  \n",
      " q_4: ──■────■───────┤ X ├──┼──\n",
      "      ┌─┴─┐  │       └───┘  │  \n",
      " q_5: ┤ X ├──┼──────────────┼──\n",
      "      └───┘┌─┴─┐            │  \n",
      " q_6: ──■──┤ X ├────────────┼──\n",
      "      ┌─┴─┐└───┘            │  \n",
      " q_7: ┤ X ├─────────────────┼──\n",
      "      └───┘               ┌─┴─┐\n",
      " q_8: ──■────■────■───────┤ X ├\n",
      "      ┌─┴─┐  │    │       └───┘\n",
      " q_9: ┤ X ├──┼────┼────────────\n",
      "      └───┘┌─┴─┐  │            \n",
      "q_10: ──■──┤ X ├──┼────────────\n",
      "      ┌─┴─┐└───┘  │            \n",
      "q_11: ┤ X ├───────┼────────────\n",
      "      └───┘     ┌─┴─┐          \n",
      "q_12: ──■────■──┤ X ├──────────\n",
      "      ┌─┴─┐  │  └───┘          \n",
      "q_13: ┤ X ├──┼─────────────────\n",
      "      └───┘┌─┴─┐               \n",
      "q_14: ──■──┤ X ├───────────────\n",
      "      ┌─┴─┐└───┘               \n",
      "q_15: ┤ X ├────────────────────\n",
      "      └───┘                    \n"
     ]
    }
   ],
   "source": [
    "# Crear un nuevo circuito\n",
    "qc_optimized = QuantumCircuit(16)\n",
    "\n",
    "# 1. Aplicar la puerta Hadamard al primer qubit\n",
    "qc_optimized.h(0)\n",
    "\n",
    "# 2. Usar CNOT en paralelo dividiendo los qubits\n",
    "step = 1\n",
    "while step < qc.num_qubits:\n",
    "    for i in range(0, qc.num_qubits - step, 2 * step):\n",
    "        qc_optimized.cx(i, i + step)\n",
    "    step *= 2\n",
    "\n",
    "# Dibujar el circuito optimizado\n",
    "print(\"Circuito optimizado con profundidad 5:\")\n",
    "print(qc_optimized)"
   ]
  }
 ],
 "metadata": {
  "kernelspec": {
   "display_name": ".venv",
   "language": "python",
   "name": "python3"
  },
  "language_info": {
   "codemirror_mode": {
    "name": "ipython",
    "version": 3
   },
   "file_extension": ".py",
   "mimetype": "text/x-python",
   "name": "python",
   "nbconvert_exporter": "python",
   "pygments_lexer": "ipython3",
   "version": "3.11.9"
  }
 },
 "nbformat": 4,
 "nbformat_minor": 2
}
