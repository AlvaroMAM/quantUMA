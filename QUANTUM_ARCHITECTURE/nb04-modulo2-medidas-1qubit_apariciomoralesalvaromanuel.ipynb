{
  "cells": [
    {
      "cell_type": "markdown",
      "id": "RQAXNwusLSwO",
      "metadata": {
        "id": "RQAXNwusLSwO"
      },
      "source": [
        "**Bloque 2**: Arquitecturas Cuánticas  \n",
        "**Alumno**: Álvaro Manuel Aparicio Morales  \n",
        "*I Certificado de Extensión Universitaria en Computación Cuántica*"
      ]
    },
    {
      "cell_type": "markdown",
      "id": "ae2c465a-5e5e-4e68-a4f1-b2249651ceb9",
      "metadata": {
        "id": "ae2c465a-5e5e-4e68-a4f1-b2249651ceb9"
      },
      "source": [
        "<a id='sec_Notebooks_Circ_1_qubit'></a>\n",
        "# Mediciones en circuitos de un qubit\n",
        "$\\newcommand{\\ket}[1]{|#1\\rangle}$"
      ]
    },
    {
      "cell_type": "code",
      "execution_count": 2,
      "id": "cdfc07da-b773-4048-a6b8-1258f41edd85",
      "metadata": {
        "colab": {
          "base_uri": "https://localhost:8080/"
        },
        "collapsed": true,
        "id": "cdfc07da-b773-4048-a6b8-1258f41edd85",
        "outputId": "d1ca509d-f0d8-4d88-8066-d20a102c8f92"
      },
      "outputs": [
        {
          "output_type": "stream",
          "name": "stdout",
          "text": [
            "In colab, let's install things...\n",
            "Requirement already satisfied: qiskit==0.45.2 in /usr/local/lib/python3.10/dist-packages (from qiskit[visualization]==0.45.2) (0.45.2)\n",
            "Requirement already satisfied: qiskit-aer in /usr/local/lib/python3.10/dist-packages (0.14.2)\n",
            "Requirement already satisfied: qiskit-ibm-runtime in /usr/local/lib/python3.10/dist-packages (0.20.0)\n",
            "Requirement already satisfied: qiskit-terra==0.45.2 in /usr/local/lib/python3.10/dist-packages (from qiskit==0.45.2->qiskit[visualization]==0.45.2) (0.45.2)\n",
            "Requirement already satisfied: rustworkx>=0.13.0 in /usr/local/lib/python3.10/dist-packages (from qiskit-terra==0.45.2->qiskit==0.45.2->qiskit[visualization]==0.45.2) (0.15.1)\n",
            "Requirement already satisfied: numpy<2,>=1.17 in /usr/local/lib/python3.10/dist-packages (from qiskit-terra==0.45.2->qiskit==0.45.2->qiskit[visualization]==0.45.2) (1.26.4)\n",
            "Requirement already satisfied: ply>=3.10 in /usr/local/lib/python3.10/dist-packages (from qiskit-terra==0.45.2->qiskit==0.45.2->qiskit[visualization]==0.45.2) (3.11)\n",
            "Requirement already satisfied: psutil>=5 in /usr/local/lib/python3.10/dist-packages (from qiskit-terra==0.45.2->qiskit==0.45.2->qiskit[visualization]==0.45.2) (5.9.5)\n",
            "Requirement already satisfied: scipy>=1.5 in /usr/local/lib/python3.10/dist-packages (from qiskit-terra==0.45.2->qiskit==0.45.2->qiskit[visualization]==0.45.2) (1.13.1)\n",
            "Requirement already satisfied: sympy>=1.3 in /usr/local/lib/python3.10/dist-packages (from qiskit-terra==0.45.2->qiskit==0.45.2->qiskit[visualization]==0.45.2) (1.13.3)\n",
            "Requirement already satisfied: dill>=0.3 in /usr/local/lib/python3.10/dist-packages (from qiskit-terra==0.45.2->qiskit==0.45.2->qiskit[visualization]==0.45.2) (0.3.9)\n",
            "Requirement already satisfied: python-dateutil>=2.8.0 in /usr/local/lib/python3.10/dist-packages (from qiskit-terra==0.45.2->qiskit==0.45.2->qiskit[visualization]==0.45.2) (2.8.2)\n",
            "Requirement already satisfied: stevedore>=3.0.0 in /usr/local/lib/python3.10/dist-packages (from qiskit-terra==0.45.2->qiskit==0.45.2->qiskit[visualization]==0.45.2) (5.3.0)\n",
            "Requirement already satisfied: symengine!=0.10.0,>=0.9 in /usr/local/lib/python3.10/dist-packages (from qiskit-terra==0.45.2->qiskit==0.45.2->qiskit[visualization]==0.45.2) (0.13.0)\n",
            "Requirement already satisfied: typing-extensions in /usr/local/lib/python3.10/dist-packages (from qiskit-terra==0.45.2->qiskit==0.45.2->qiskit[visualization]==0.45.2) (4.12.2)\n",
            "Requirement already satisfied: requests>=2.19 in /usr/local/lib/python3.10/dist-packages (from qiskit-ibm-runtime) (2.32.3)\n",
            "Requirement already satisfied: requests-ntlm>=1.1.0 in /usr/local/lib/python3.10/dist-packages (from qiskit-ibm-runtime) (1.3.0)\n",
            "Requirement already satisfied: urllib3>=1.21.1 in /usr/local/lib/python3.10/dist-packages (from qiskit-ibm-runtime) (2.2.3)\n",
            "Requirement already satisfied: websocket-client>=1.5.1 in /usr/local/lib/python3.10/dist-packages (from qiskit-ibm-runtime) (1.8.0)\n",
            "Requirement already satisfied: ibm-platform-services>=0.22.6 in /usr/local/lib/python3.10/dist-packages (from qiskit-ibm-runtime) (0.57.2)\n",
            "Requirement already satisfied: ibm-cloud-sdk-core<4.0.0,>=3.22.0 in /usr/local/lib/python3.10/dist-packages (from ibm-platform-services>=0.22.6->qiskit-ibm-runtime) (3.22.0)\n",
            "Requirement already satisfied: six>=1.5 in /usr/local/lib/python3.10/dist-packages (from python-dateutil>=2.8.0->qiskit-terra==0.45.2->qiskit==0.45.2->qiskit[visualization]==0.45.2) (1.16.0)\n",
            "Requirement already satisfied: charset-normalizer<4,>=2 in /usr/local/lib/python3.10/dist-packages (from requests>=2.19->qiskit-ibm-runtime) (3.4.0)\n",
            "Requirement already satisfied: idna<4,>=2.5 in /usr/local/lib/python3.10/dist-packages (from requests>=2.19->qiskit-ibm-runtime) (3.10)\n",
            "Requirement already satisfied: certifi>=2017.4.17 in /usr/local/lib/python3.10/dist-packages (from requests>=2.19->qiskit-ibm-runtime) (2024.8.30)\n",
            "Requirement already satisfied: cryptography>=1.3 in /usr/local/lib/python3.10/dist-packages (from requests-ntlm>=1.1.0->qiskit-ibm-runtime) (43.0.1)\n",
            "Requirement already satisfied: pyspnego>=0.4.0 in /usr/local/lib/python3.10/dist-packages (from requests-ntlm>=1.1.0->qiskit-ibm-runtime) (0.11.1)\n",
            "Requirement already satisfied: matplotlib>=3.3 in /usr/local/lib/python3.10/dist-packages (from qiskit-terra[visualization]; extra == \"visualization\"->qiskit[visualization]==0.45.2) (3.7.1)\n",
            "Requirement already satisfied: ipywidgets>=7.3.0 in /usr/local/lib/python3.10/dist-packages (from qiskit-terra[visualization]; extra == \"visualization\"->qiskit[visualization]==0.45.2) (7.7.1)\n",
            "Requirement already satisfied: pydot in /usr/local/lib/python3.10/dist-packages (from qiskit-terra[visualization]; extra == \"visualization\"->qiskit[visualization]==0.45.2) (3.0.2)\n",
            "Requirement already satisfied: pillow>=4.2.1 in /usr/local/lib/python3.10/dist-packages (from qiskit-terra[visualization]; extra == \"visualization\"->qiskit[visualization]==0.45.2) (10.4.0)\n",
            "Requirement already satisfied: pylatexenc>=1.4 in /usr/local/lib/python3.10/dist-packages (from qiskit-terra[visualization]; extra == \"visualization\"->qiskit[visualization]==0.45.2) (2.10)\n",
            "Requirement already satisfied: seaborn>=0.9.0 in /usr/local/lib/python3.10/dist-packages (from qiskit-terra[visualization]; extra == \"visualization\"->qiskit[visualization]==0.45.2) (0.13.2)\n",
            "Requirement already satisfied: pygments>=2.4 in /usr/local/lib/python3.10/dist-packages (from qiskit-terra[visualization]; extra == \"visualization\"->qiskit[visualization]==0.45.2) (2.18.0)\n",
            "Requirement already satisfied: cffi>=1.12 in /usr/local/lib/python3.10/dist-packages (from cryptography>=1.3->requests-ntlm>=1.1.0->qiskit-ibm-runtime) (1.17.1)\n",
            "Requirement already satisfied: PyJWT<3.0.0,>=2.8.0 in /usr/local/lib/python3.10/dist-packages (from ibm-cloud-sdk-core<4.0.0,>=3.22.0->ibm-platform-services>=0.22.6->qiskit-ibm-runtime) (2.9.0)\n",
            "Requirement already satisfied: ipykernel>=4.5.1 in /usr/local/lib/python3.10/dist-packages (from ipywidgets>=7.3.0->qiskit-terra[visualization]; extra == \"visualization\"->qiskit[visualization]==0.45.2) (5.5.6)\n",
            "Requirement already satisfied: ipython-genutils~=0.2.0 in /usr/local/lib/python3.10/dist-packages (from ipywidgets>=7.3.0->qiskit-terra[visualization]; extra == \"visualization\"->qiskit[visualization]==0.45.2) (0.2.0)\n",
            "Requirement already satisfied: traitlets>=4.3.1 in /usr/local/lib/python3.10/dist-packages (from ipywidgets>=7.3.0->qiskit-terra[visualization]; extra == \"visualization\"->qiskit[visualization]==0.45.2) (5.7.1)\n",
            "Requirement already satisfied: widgetsnbextension~=3.6.0 in /usr/local/lib/python3.10/dist-packages (from ipywidgets>=7.3.0->qiskit-terra[visualization]; extra == \"visualization\"->qiskit[visualization]==0.45.2) (3.6.9)\n",
            "Requirement already satisfied: ipython>=4.0.0 in /usr/local/lib/python3.10/dist-packages (from ipywidgets>=7.3.0->qiskit-terra[visualization]; extra == \"visualization\"->qiskit[visualization]==0.45.2) (7.34.0)\n",
            "Requirement already satisfied: jupyterlab-widgets>=1.0.0 in /usr/local/lib/python3.10/dist-packages (from ipywidgets>=7.3.0->qiskit-terra[visualization]; extra == \"visualization\"->qiskit[visualization]==0.45.2) (3.0.13)\n",
            "Requirement already satisfied: contourpy>=1.0.1 in /usr/local/lib/python3.10/dist-packages (from matplotlib>=3.3->qiskit-terra[visualization]; extra == \"visualization\"->qiskit[visualization]==0.45.2) (1.3.0)\n",
            "Requirement already satisfied: cycler>=0.10 in /usr/local/lib/python3.10/dist-packages (from matplotlib>=3.3->qiskit-terra[visualization]; extra == \"visualization\"->qiskit[visualization]==0.45.2) (0.12.1)\n",
            "Requirement already satisfied: fonttools>=4.22.0 in /usr/local/lib/python3.10/dist-packages (from matplotlib>=3.3->qiskit-terra[visualization]; extra == \"visualization\"->qiskit[visualization]==0.45.2) (4.54.1)\n",
            "Requirement already satisfied: kiwisolver>=1.0.1 in /usr/local/lib/python3.10/dist-packages (from matplotlib>=3.3->qiskit-terra[visualization]; extra == \"visualization\"->qiskit[visualization]==0.45.2) (1.4.7)\n",
            "Requirement already satisfied: packaging>=20.0 in /usr/local/lib/python3.10/dist-packages (from matplotlib>=3.3->qiskit-terra[visualization]; extra == \"visualization\"->qiskit[visualization]==0.45.2) (24.1)\n",
            "Requirement already satisfied: pyparsing>=2.3.1 in /usr/local/lib/python3.10/dist-packages (from matplotlib>=3.3->qiskit-terra[visualization]; extra == \"visualization\"->qiskit[visualization]==0.45.2) (3.2.0)\n",
            "Requirement already satisfied: pandas>=1.2 in /usr/local/lib/python3.10/dist-packages (from seaborn>=0.9.0->qiskit-terra[visualization]; extra == \"visualization\"->qiskit[visualization]==0.45.2) (2.2.2)\n",
            "Requirement already satisfied: pbr>=2.0.0 in /usr/local/lib/python3.10/dist-packages (from stevedore>=3.0.0->qiskit-terra==0.45.2->qiskit==0.45.2->qiskit[visualization]==0.45.2) (6.1.0)\n",
            "Requirement already satisfied: mpmath<1.4,>=1.1.0 in /usr/local/lib/python3.10/dist-packages (from sympy>=1.3->qiskit-terra==0.45.2->qiskit==0.45.2->qiskit[visualization]==0.45.2) (1.3.0)\n",
            "Requirement already satisfied: pycparser in /usr/local/lib/python3.10/dist-packages (from cffi>=1.12->cryptography>=1.3->requests-ntlm>=1.1.0->qiskit-ibm-runtime) (2.22)\n",
            "Requirement already satisfied: jupyter-client in /usr/local/lib/python3.10/dist-packages (from ipykernel>=4.5.1->ipywidgets>=7.3.0->qiskit-terra[visualization]; extra == \"visualization\"->qiskit[visualization]==0.45.2) (6.1.12)\n",
            "Requirement already satisfied: tornado>=4.2 in /usr/local/lib/python3.10/dist-packages (from ipykernel>=4.5.1->ipywidgets>=7.3.0->qiskit-terra[visualization]; extra == \"visualization\"->qiskit[visualization]==0.45.2) (6.3.3)\n",
            "Requirement already satisfied: setuptools>=18.5 in /usr/local/lib/python3.10/dist-packages (from ipython>=4.0.0->ipywidgets>=7.3.0->qiskit-terra[visualization]; extra == \"visualization\"->qiskit[visualization]==0.45.2) (75.1.0)\n",
            "Requirement already satisfied: jedi>=0.16 in /usr/local/lib/python3.10/dist-packages (from ipython>=4.0.0->ipywidgets>=7.3.0->qiskit-terra[visualization]; extra == \"visualization\"->qiskit[visualization]==0.45.2) (0.19.1)\n",
            "Requirement already satisfied: decorator in /usr/local/lib/python3.10/dist-packages (from ipython>=4.0.0->ipywidgets>=7.3.0->qiskit-terra[visualization]; extra == \"visualization\"->qiskit[visualization]==0.45.2) (4.4.2)\n",
            "Requirement already satisfied: pickleshare in /usr/local/lib/python3.10/dist-packages (from ipython>=4.0.0->ipywidgets>=7.3.0->qiskit-terra[visualization]; extra == \"visualization\"->qiskit[visualization]==0.45.2) (0.7.5)\n",
            "Requirement already satisfied: prompt-toolkit!=3.0.0,!=3.0.1,<3.1.0,>=2.0.0 in /usr/local/lib/python3.10/dist-packages (from ipython>=4.0.0->ipywidgets>=7.3.0->qiskit-terra[visualization]; extra == \"visualization\"->qiskit[visualization]==0.45.2) (3.0.48)\n",
            "Requirement already satisfied: backcall in /usr/local/lib/python3.10/dist-packages (from ipython>=4.0.0->ipywidgets>=7.3.0->qiskit-terra[visualization]; extra == \"visualization\"->qiskit[visualization]==0.45.2) (0.2.0)\n",
            "Requirement already satisfied: matplotlib-inline in /usr/local/lib/python3.10/dist-packages (from ipython>=4.0.0->ipywidgets>=7.3.0->qiskit-terra[visualization]; extra == \"visualization\"->qiskit[visualization]==0.45.2) (0.1.7)\n",
            "Requirement already satisfied: pexpect>4.3 in /usr/local/lib/python3.10/dist-packages (from ipython>=4.0.0->ipywidgets>=7.3.0->qiskit-terra[visualization]; extra == \"visualization\"->qiskit[visualization]==0.45.2) (4.9.0)\n",
            "Requirement already satisfied: pytz>=2020.1 in /usr/local/lib/python3.10/dist-packages (from pandas>=1.2->seaborn>=0.9.0->qiskit-terra[visualization]; extra == \"visualization\"->qiskit[visualization]==0.45.2) (2024.2)\n",
            "Requirement already satisfied: tzdata>=2022.7 in /usr/local/lib/python3.10/dist-packages (from pandas>=1.2->seaborn>=0.9.0->qiskit-terra[visualization]; extra == \"visualization\"->qiskit[visualization]==0.45.2) (2024.2)\n",
            "Requirement already satisfied: notebook>=4.4.1 in /usr/local/lib/python3.10/dist-packages (from widgetsnbextension~=3.6.0->ipywidgets>=7.3.0->qiskit-terra[visualization]; extra == \"visualization\"->qiskit[visualization]==0.45.2) (6.5.5)\n",
            "Requirement already satisfied: parso<0.9.0,>=0.8.3 in /usr/local/lib/python3.10/dist-packages (from jedi>=0.16->ipython>=4.0.0->ipywidgets>=7.3.0->qiskit-terra[visualization]; extra == \"visualization\"->qiskit[visualization]==0.45.2) (0.8.4)\n",
            "Requirement already satisfied: jinja2 in /usr/local/lib/python3.10/dist-packages (from notebook>=4.4.1->widgetsnbextension~=3.6.0->ipywidgets>=7.3.0->qiskit-terra[visualization]; extra == \"visualization\"->qiskit[visualization]==0.45.2) (3.1.4)\n",
            "Requirement already satisfied: pyzmq<25,>=17 in /usr/local/lib/python3.10/dist-packages (from notebook>=4.4.1->widgetsnbextension~=3.6.0->ipywidgets>=7.3.0->qiskit-terra[visualization]; extra == \"visualization\"->qiskit[visualization]==0.45.2) (24.0.1)\n",
            "Requirement already satisfied: argon2-cffi in /usr/local/lib/python3.10/dist-packages (from notebook>=4.4.1->widgetsnbextension~=3.6.0->ipywidgets>=7.3.0->qiskit-terra[visualization]; extra == \"visualization\"->qiskit[visualization]==0.45.2) (23.1.0)\n",
            "Requirement already satisfied: jupyter-core>=4.6.1 in /usr/local/lib/python3.10/dist-packages (from notebook>=4.4.1->widgetsnbextension~=3.6.0->ipywidgets>=7.3.0->qiskit-terra[visualization]; extra == \"visualization\"->qiskit[visualization]==0.45.2) (5.7.2)\n",
            "Requirement already satisfied: nbformat in /usr/local/lib/python3.10/dist-packages (from notebook>=4.4.1->widgetsnbextension~=3.6.0->ipywidgets>=7.3.0->qiskit-terra[visualization]; extra == \"visualization\"->qiskit[visualization]==0.45.2) (5.10.4)\n",
            "Requirement already satisfied: nbconvert>=5 in /usr/local/lib/python3.10/dist-packages (from notebook>=4.4.1->widgetsnbextension~=3.6.0->ipywidgets>=7.3.0->qiskit-terra[visualization]; extra == \"visualization\"->qiskit[visualization]==0.45.2) (6.5.4)\n",
            "Requirement already satisfied: nest-asyncio>=1.5 in /usr/local/lib/python3.10/dist-packages (from notebook>=4.4.1->widgetsnbextension~=3.6.0->ipywidgets>=7.3.0->qiskit-terra[visualization]; extra == \"visualization\"->qiskit[visualization]==0.45.2) (1.6.0)\n",
            "Requirement already satisfied: Send2Trash>=1.8.0 in /usr/local/lib/python3.10/dist-packages (from notebook>=4.4.1->widgetsnbextension~=3.6.0->ipywidgets>=7.3.0->qiskit-terra[visualization]; extra == \"visualization\"->qiskit[visualization]==0.45.2) (1.8.3)\n",
            "Requirement already satisfied: terminado>=0.8.3 in /usr/local/lib/python3.10/dist-packages (from notebook>=4.4.1->widgetsnbextension~=3.6.0->ipywidgets>=7.3.0->qiskit-terra[visualization]; extra == \"visualization\"->qiskit[visualization]==0.45.2) (0.18.1)\n",
            "Requirement already satisfied: prometheus-client in /usr/local/lib/python3.10/dist-packages (from notebook>=4.4.1->widgetsnbextension~=3.6.0->ipywidgets>=7.3.0->qiskit-terra[visualization]; extra == \"visualization\"->qiskit[visualization]==0.45.2) (0.21.0)\n",
            "Requirement already satisfied: nbclassic>=0.4.7 in /usr/local/lib/python3.10/dist-packages (from notebook>=4.4.1->widgetsnbextension~=3.6.0->ipywidgets>=7.3.0->qiskit-terra[visualization]; extra == \"visualization\"->qiskit[visualization]==0.45.2) (1.1.0)\n",
            "Requirement already satisfied: ptyprocess>=0.5 in /usr/local/lib/python3.10/dist-packages (from pexpect>4.3->ipython>=4.0.0->ipywidgets>=7.3.0->qiskit-terra[visualization]; extra == \"visualization\"->qiskit[visualization]==0.45.2) (0.7.0)\n",
            "Requirement already satisfied: wcwidth in /usr/local/lib/python3.10/dist-packages (from prompt-toolkit!=3.0.0,!=3.0.1,<3.1.0,>=2.0.0->ipython>=4.0.0->ipywidgets>=7.3.0->qiskit-terra[visualization]; extra == \"visualization\"->qiskit[visualization]==0.45.2) (0.2.13)\n",
            "Requirement already satisfied: platformdirs>=2.5 in /usr/local/lib/python3.10/dist-packages (from jupyter-core>=4.6.1->notebook>=4.4.1->widgetsnbextension~=3.6.0->ipywidgets>=7.3.0->qiskit-terra[visualization]; extra == \"visualization\"->qiskit[visualization]==0.45.2) (4.3.6)\n",
            "Requirement already satisfied: notebook-shim>=0.2.3 in /usr/local/lib/python3.10/dist-packages (from nbclassic>=0.4.7->notebook>=4.4.1->widgetsnbextension~=3.6.0->ipywidgets>=7.3.0->qiskit-terra[visualization]; extra == \"visualization\"->qiskit[visualization]==0.45.2) (0.2.4)\n",
            "Requirement already satisfied: lxml in /usr/local/lib/python3.10/dist-packages (from nbconvert>=5->notebook>=4.4.1->widgetsnbextension~=3.6.0->ipywidgets>=7.3.0->qiskit-terra[visualization]; extra == \"visualization\"->qiskit[visualization]==0.45.2) (4.9.4)\n",
            "Requirement already satisfied: beautifulsoup4 in /usr/local/lib/python3.10/dist-packages (from nbconvert>=5->notebook>=4.4.1->widgetsnbextension~=3.6.0->ipywidgets>=7.3.0->qiskit-terra[visualization]; extra == \"visualization\"->qiskit[visualization]==0.45.2) (4.12.3)\n",
            "Requirement already satisfied: bleach in /usr/local/lib/python3.10/dist-packages (from nbconvert>=5->notebook>=4.4.1->widgetsnbextension~=3.6.0->ipywidgets>=7.3.0->qiskit-terra[visualization]; extra == \"visualization\"->qiskit[visualization]==0.45.2) (6.1.0)\n",
            "Requirement already satisfied: defusedxml in /usr/local/lib/python3.10/dist-packages (from nbconvert>=5->notebook>=4.4.1->widgetsnbextension~=3.6.0->ipywidgets>=7.3.0->qiskit-terra[visualization]; extra == \"visualization\"->qiskit[visualization]==0.45.2) (0.7.1)\n",
            "Requirement already satisfied: entrypoints>=0.2.2 in /usr/local/lib/python3.10/dist-packages (from nbconvert>=5->notebook>=4.4.1->widgetsnbextension~=3.6.0->ipywidgets>=7.3.0->qiskit-terra[visualization]; extra == \"visualization\"->qiskit[visualization]==0.45.2) (0.4)\n",
            "Requirement already satisfied: jupyterlab-pygments in /usr/local/lib/python3.10/dist-packages (from nbconvert>=5->notebook>=4.4.1->widgetsnbextension~=3.6.0->ipywidgets>=7.3.0->qiskit-terra[visualization]; extra == \"visualization\"->qiskit[visualization]==0.45.2) (0.3.0)\n",
            "Requirement already satisfied: MarkupSafe>=2.0 in /usr/local/lib/python3.10/dist-packages (from nbconvert>=5->notebook>=4.4.1->widgetsnbextension~=3.6.0->ipywidgets>=7.3.0->qiskit-terra[visualization]; extra == \"visualization\"->qiskit[visualization]==0.45.2) (3.0.1)\n",
            "Requirement already satisfied: mistune<2,>=0.8.1 in /usr/local/lib/python3.10/dist-packages (from nbconvert>=5->notebook>=4.4.1->widgetsnbextension~=3.6.0->ipywidgets>=7.3.0->qiskit-terra[visualization]; extra == \"visualization\"->qiskit[visualization]==0.45.2) (0.8.4)\n",
            "Requirement already satisfied: nbclient>=0.5.0 in /usr/local/lib/python3.10/dist-packages (from nbconvert>=5->notebook>=4.4.1->widgetsnbextension~=3.6.0->ipywidgets>=7.3.0->qiskit-terra[visualization]; extra == \"visualization\"->qiskit[visualization]==0.45.2) (0.10.0)\n",
            "Requirement already satisfied: pandocfilters>=1.4.1 in /usr/local/lib/python3.10/dist-packages (from nbconvert>=5->notebook>=4.4.1->widgetsnbextension~=3.6.0->ipywidgets>=7.3.0->qiskit-terra[visualization]; extra == \"visualization\"->qiskit[visualization]==0.45.2) (1.5.1)\n",
            "Requirement already satisfied: tinycss2 in /usr/local/lib/python3.10/dist-packages (from nbconvert>=5->notebook>=4.4.1->widgetsnbextension~=3.6.0->ipywidgets>=7.3.0->qiskit-terra[visualization]; extra == \"visualization\"->qiskit[visualization]==0.45.2) (1.3.0)\n",
            "Requirement already satisfied: fastjsonschema>=2.15 in /usr/local/lib/python3.10/dist-packages (from nbformat->notebook>=4.4.1->widgetsnbextension~=3.6.0->ipywidgets>=7.3.0->qiskit-terra[visualization]; extra == \"visualization\"->qiskit[visualization]==0.45.2) (2.20.0)\n",
            "Requirement already satisfied: jsonschema>=2.6 in /usr/local/lib/python3.10/dist-packages (from nbformat->notebook>=4.4.1->widgetsnbextension~=3.6.0->ipywidgets>=7.3.0->qiskit-terra[visualization]; extra == \"visualization\"->qiskit[visualization]==0.45.2) (4.23.0)\n",
            "Requirement already satisfied: argon2-cffi-bindings in /usr/local/lib/python3.10/dist-packages (from argon2-cffi->notebook>=4.4.1->widgetsnbextension~=3.6.0->ipywidgets>=7.3.0->qiskit-terra[visualization]; extra == \"visualization\"->qiskit[visualization]==0.45.2) (21.2.0)\n",
            "Requirement already satisfied: attrs>=22.2.0 in /usr/local/lib/python3.10/dist-packages (from jsonschema>=2.6->nbformat->notebook>=4.4.1->widgetsnbextension~=3.6.0->ipywidgets>=7.3.0->qiskit-terra[visualization]; extra == \"visualization\"->qiskit[visualization]==0.45.2) (24.2.0)\n",
            "Requirement already satisfied: jsonschema-specifications>=2023.03.6 in /usr/local/lib/python3.10/dist-packages (from jsonschema>=2.6->nbformat->notebook>=4.4.1->widgetsnbextension~=3.6.0->ipywidgets>=7.3.0->qiskit-terra[visualization]; extra == \"visualization\"->qiskit[visualization]==0.45.2) (2024.10.1)\n",
            "Requirement already satisfied: referencing>=0.28.4 in /usr/local/lib/python3.10/dist-packages (from jsonschema>=2.6->nbformat->notebook>=4.4.1->widgetsnbextension~=3.6.0->ipywidgets>=7.3.0->qiskit-terra[visualization]; extra == \"visualization\"->qiskit[visualization]==0.45.2) (0.35.1)\n",
            "Requirement already satisfied: rpds-py>=0.7.1 in /usr/local/lib/python3.10/dist-packages (from jsonschema>=2.6->nbformat->notebook>=4.4.1->widgetsnbextension~=3.6.0->ipywidgets>=7.3.0->qiskit-terra[visualization]; extra == \"visualization\"->qiskit[visualization]==0.45.2) (0.20.0)\n",
            "Requirement already satisfied: jupyter-server<3,>=1.8 in /usr/local/lib/python3.10/dist-packages (from notebook-shim>=0.2.3->nbclassic>=0.4.7->notebook>=4.4.1->widgetsnbextension~=3.6.0->ipywidgets>=7.3.0->qiskit-terra[visualization]; extra == \"visualization\"->qiskit[visualization]==0.45.2) (1.24.0)\n",
            "Requirement already satisfied: soupsieve>1.2 in /usr/local/lib/python3.10/dist-packages (from beautifulsoup4->nbconvert>=5->notebook>=4.4.1->widgetsnbextension~=3.6.0->ipywidgets>=7.3.0->qiskit-terra[visualization]; extra == \"visualization\"->qiskit[visualization]==0.45.2) (2.6)\n",
            "Requirement already satisfied: webencodings in /usr/local/lib/python3.10/dist-packages (from bleach->nbconvert>=5->notebook>=4.4.1->widgetsnbextension~=3.6.0->ipywidgets>=7.3.0->qiskit-terra[visualization]; extra == \"visualization\"->qiskit[visualization]==0.45.2) (0.5.1)\n",
            "Requirement already satisfied: anyio<4,>=3.1.0 in /usr/local/lib/python3.10/dist-packages (from jupyter-server<3,>=1.8->notebook-shim>=0.2.3->nbclassic>=0.4.7->notebook>=4.4.1->widgetsnbextension~=3.6.0->ipywidgets>=7.3.0->qiskit-terra[visualization]; extra == \"visualization\"->qiskit[visualization]==0.45.2) (3.7.1)\n",
            "Requirement already satisfied: sniffio>=1.1 in /usr/local/lib/python3.10/dist-packages (from anyio<4,>=3.1.0->jupyter-server<3,>=1.8->notebook-shim>=0.2.3->nbclassic>=0.4.7->notebook>=4.4.1->widgetsnbextension~=3.6.0->ipywidgets>=7.3.0->qiskit-terra[visualization]; extra == \"visualization\"->qiskit[visualization]==0.45.2) (1.3.1)\n",
            "Requirement already satisfied: exceptiongroup in /usr/local/lib/python3.10/dist-packages (from anyio<4,>=3.1.0->jupyter-server<3,>=1.8->notebook-shim>=0.2.3->nbclassic>=0.4.7->notebook>=4.4.1->widgetsnbextension~=3.6.0->ipywidgets>=7.3.0->qiskit-terra[visualization]; extra == \"visualization\"->qiskit[visualization]==0.45.2) (1.2.2)\n"
          ]
        }
      ],
      "source": [
        "# No olvidar que en \"google colab\" hay que instalar qiskit\n",
        "\n",
        "########################\n",
        "# Instala versión 0.45.2\n",
        "########################\n",
        "# Importante, poner qiskit-aer en la misma linea de \"pip install\" para que coja la versión adecuada\n",
        "try:\n",
        "    import google.colab\n",
        "    print(\"In colab, let's install things...\")\n",
        "    #\n",
        "    !pip install qiskit[visualization]==0.45.2 qiskit-aer qiskit-ibm-runtime\n",
        "except ImportError:\n",
        "    print(\"NOT in colab\")"
      ]
    },
    {
      "cell_type": "code",
      "execution_count": 3,
      "id": "0e7883d6-0e8f-4f24-af8f-228c4c79e46f",
      "metadata": {
        "id": "0e7883d6-0e8f-4f24-af8f-228c4c79e46f"
      },
      "outputs": [],
      "source": [
        "from IPython.display import display, Latex, Markdown\n",
        "from matplotlib import pyplot as plt\n",
        "import scipy.linalg as la\n",
        "import numpy as np"
      ]
    },
    {
      "cell_type": "code",
      "execution_count": 4,
      "id": "83412cb3-3dac-4059-b2c1-ab9eb7e07fd4",
      "metadata": {
        "id": "83412cb3-3dac-4059-b2c1-ab9eb7e07fd4"
      },
      "outputs": [],
      "source": [
        "from qiskit.circuit import QuantumRegister, ClassicalRegister,QuantumCircuit\n",
        "from qiskit_aer import AerSimulator\n",
        "from qiskit import transpile\n",
        "from qiskit.quantum_info import Statevector, schmidt_decomposition\n",
        "from qiskit.visualization import plot_histogram, plot_bloch_multivector, array_to_latex"
      ]
    },
    {
      "cell_type": "code",
      "execution_count": 5,
      "id": "8b677d21-8a76-4ff6-ba66-869a863e3ce5",
      "metadata": {
        "id": "8b677d21-8a76-4ff6-ba66-869a863e3ce5"
      },
      "outputs": [],
      "source": [
        "# Utilería acumulada\n",
        "\n",
        "# Definimos una función para visualizar el estado y la esfera a la vez\n",
        "# Permite escalar la(s) esferas(s) con 'inches' pulgadas, si este parámetro\n",
        "# no se pone, se dibuja al tamaño por defecto\n",
        "# Si se pone 0, no se dibuja la esfera\n",
        "def my_display_state_vector(psi, inches=None, prefix=r\"|\\psi\\rangle = \"):\n",
        "    d_latex = psi.draw('latex', prefix=prefix)\n",
        "    display(d_latex)\n",
        "    #\n",
        "    d_bloch = psi.draw('bloch')\n",
        "    if isinstance(inches, (int,float)):\n",
        "        if inches > 0:\n",
        "            d_bloch.set_size_inches(inches, inches, forward=True)\n",
        "            display(d_bloch)\n",
        "    else:\n",
        "        display(d_bloch)\n",
        "\n",
        "# Función para simular un cirucito dado:\n",
        "# devuelve esta terna (estado final, cuenta, resultado del job)\n",
        "def my_get_circuit_state(qcirc_in, shots=1, final_probe=True):\n",
        "    # Instancia del simulador\n",
        "    sim = AerSimulator(method = \"statevector\")\n",
        "\n",
        "    # Hacemos una copia ya que vamos a cambiar el objeto circuito\n",
        "    qcirc = qcirc_in.copy()\n",
        "\n",
        "    # Ponemos el \"probe\" para el vector de estado al final\n",
        "    # del cirucito dado\n",
        "    # ojo! el circuito no debe de tener un \"save_statevector\" ya!\n",
        "    if final_probe:\n",
        "        qcirc.save_statevector()\n",
        "\n",
        "    # Hacemos una simulación y obtenemos los resultados\n",
        "    qobj = transpile(qcirc, sim)\n",
        "    result = sim.run(qobj, shots=shots).result()\n",
        "    state = result.get_statevector()\n",
        "    counts_ideal = result.get_counts()\n",
        "\n",
        "    return state, counts_ideal, result\n",
        "\n",
        "# Función para simular un cirucito dado devuelve el resultado\n",
        "# de la simulación\n",
        "def my_circuit_simulation(qcirc, shots=1):\n",
        "    # Instancia del simulador\n",
        "    sim = AerSimulator(method = \"statevector\")\n",
        "\n",
        "    # Hacemos una simulación y obtenemos los resultados\n",
        "\n",
        "\n",
        "    qobj = transpile(qcirc, backend=sim)\n",
        "    result = sim.run(qobj, shots=shots).result()\n",
        "\n",
        "    return result"
      ]
    },
    {
      "cell_type": "markdown",
      "id": "1baaa913-0a6a-4a34-8d37-bca835f9d34b",
      "metadata": {
        "id": "1baaa913-0a6a-4a34-8d37-bca835f9d34b"
      },
      "source": [
        "<a id='sec_Notebooks_Circ_1_qubit_1'></a>\n",
        "## Creación y medición de circuitos de 1 qúbit con Qiskit"
      ]
    },
    {
      "cell_type": "markdown",
      "id": "961152c7-176f-408f-833c-e7700d1d5c14",
      "metadata": {
        "id": "961152c7-176f-408f-833c-e7700d1d5c14"
      },
      "source": [
        "Vamos a introducir los objetos Qiskit **Registros**, que pueden ser cuánticos o clásicos.\n",
        "\n",
        "Básicamente un registro es una _array_ de qubits o bits, respectivamente, y nos sirven para agrupar lógicamente grupos de bits ya sean cuánticos (qubits) o clásicos."
      ]
    },
    {
      "cell_type": "code",
      "execution_count": 6,
      "id": "92747f43-b4e8-405c-96c7-3ab23aa17788",
      "metadata": {
        "id": "92747f43-b4e8-405c-96c7-3ab23aa17788"
      },
      "outputs": [],
      "source": [
        "# Definimos un registro cuántico con un qubit, etiquetado con 'q'\n",
        "quantum_reg = QuantumRegister(1, 'q')\n",
        "\n",
        "# Definimos un registro clásico con un bit, etiquetado con 'c'\n",
        "classic_reg = ClassicalRegister(1, 'c')"
      ]
    },
    {
      "cell_type": "markdown",
      "id": "99f94787-21b1-4c34-b907-2c46c79b4d84",
      "metadata": {
        "id": "99f94787-21b1-4c34-b907-2c46c79b4d84"
      },
      "source": [
        "<a id='sec_Notebooks_Circ_1_qubit_1.1'></a>\n",
        "### Circuito con solo medidor"
      ]
    },
    {
      "cell_type": "markdown",
      "id": "9769cb7a-09b3-43bc-907e-d1da0c4aef4e",
      "metadata": {
        "id": "9769cb7a-09b3-43bc-907e-d1da0c4aef4e"
      },
      "source": [
        "Creamos un primer circuito. En este solo vamos a poner un medidor. De esta forma vamos a verificar que por defecto Qiskit (y la mayoría de libreas de quantum) inicializan los estados en $| 0 \\rangle$"
      ]
    },
    {
      "cell_type": "code",
      "execution_count": 7,
      "id": "3031ae5a-9205-4966-9fae-79f464c7b0c2",
      "metadata": {
        "colab": {
          "base_uri": "https://localhost:8080/",
          "height": 191
        },
        "id": "3031ae5a-9205-4966-9fae-79f464c7b0c2",
        "outputId": "d931a34c-2112-48f3-ffa3-0687d4518e65"
      },
      "outputs": [
        {
          "output_type": "execute_result",
          "data": {
            "text/plain": [
              "<Figure size 185.453x200.667 with 1 Axes>"
            ],
            "image/png": "[encoded data removed]"
          },
          "metadata": {},
          "execution_count": 7
        }
      ],
      "source": [
        "# Creamos el circuito a partir de los registros\n",
        "circuit = QuantumCircuit(quantum_reg, classic_reg)\n",
        "\n",
        "# Añadimos el medidor\n",
        "#   - El primer argumento son los qubits a medir\n",
        "#   - El segundo argumento son los bits donde volcar el resultado de la medición\n",
        "circuit.measure(quantum_reg, classic_reg)\n",
        "\n",
        "# Dibujamos el circuito\n",
        "circuit.draw(output='mpl', style=\"iqp\") # tipo de figura matplotlib (mpl)"
      ]
    },
    {
      "cell_type": "markdown",
      "id": "9c8a883d-2889-4c19-a5cd-25ab47a43c39",
      "metadata": {
        "id": "9c8a883d-2889-4c19-a5cd-25ab47a43c39"
      },
      "source": [
        "Vamos a simular"
      ]
    },
    {
      "cell_type": "code",
      "execution_count": 8,
      "id": "7d69c252-973e-44fc-917f-fef3c517a16f",
      "metadata": {
        "id": "7d69c252-973e-44fc-917f-fef3c517a16f"
      },
      "outputs": [],
      "source": [
        "# Generamos una instancia del simulador;\n",
        "# con \"method\" le especificamos el método de simulación\n",
        "simulador = AerSimulator(method = 'statevector')\n",
        "\n",
        "# Transpilamos\n",
        "circuit_t = transpile(circuit, backend = simulador)\n",
        "\n",
        "# Ejecutamos la simulación, con un buen número de repeticiones\n",
        "# (shots = 1000), ya que tenemos un medidor\n",
        "job = simulador.run(circuit_t, shots = 1000)\n",
        "result = job.result()"
      ]
    },
    {
      "cell_type": "markdown",
      "id": "f1af29cb-c823-4446-9016-7c272e526dec",
      "metadata": {
        "id": "f1af29cb-c823-4446-9016-7c272e526dec"
      },
      "source": [
        "Imprimamos el objeto resultado de la simulación"
      ]
    },
    {
      "cell_type": "code",
      "execution_count": 9,
      "id": "2c0001a4-6ab1-45bc-8d21-34d7e1494dfe",
      "metadata": {
        "colab": {
          "base_uri": "https://localhost:8080/",
          "height": 156
        },
        "id": "2c0001a4-6ab1-45bc-8d21-34d7e1494dfe",
        "outputId": "63f6e92a-7e48-44ba-eff2-cd8a7da8a2b9"
      },
      "outputs": [
        {
          "output_type": "display_data",
          "data": {
            "text/plain": [
              "Result(backend_name='aer_simulator_statevector', backend_version='0.14.2', qobj_id='', job_id='4be21623-dcef-48b9-a4af-d1d99fd1e4eb', success=True, results=[ExperimentResult(shots=1000, success=True, meas_level=2, data=ExperimentResultData(counts={'0x0': 1000}), header=QobjExperimentHeader(creg_sizes=[['c', 1]], global_phase=0.0, memory_slots=1, n_qubits=1, name='circuit-158', qreg_sizes=[['q', 1]], metadata={}), status=DONE, seed_simulator=1263311053, metadata={'time_taken': 0.042271786, 'num_bind_params': 1, 'parallel_state_update': 2, 'parallel_shots': 1, 'required_memory_mb': 1, 'input_qubit_map': [[0, 0]], 'method': 'statevector', 'device': 'CPU', 'num_qubits': 1, 'sample_measure_time': 0.026183896, 'active_input_qubits': [0], 'num_clbits': 1, 'remapped_qubits': False, 'runtime_parameter_bind': False, 'max_memory_mb': 12978, 'noise': 'ideal', 'measure_sampling': True, 'batched_shots_optimization': False, 'fusion': {'applied': False, 'max_fused_qubits': 5, 'threshold': 14, 'enabled': True}}, time_taken=0.042271786)], date=2024-10-20T05:29:50.236222, status=COMPLETED, header=None, metadata={'time_taken_parameter_binding': 3.3488e-05, 'time_taken_execute': 0.042323993, 'omp_enabled': True, 'max_gpu_memory_mb': 0, 'max_memory_mb': 12978, 'parallel_experiments': 1}, time_taken=0.05436301231384277)"
            ]
          },
          "metadata": {}
        }
      ],
      "source": [
        "display(result)"
      ]
    },
    {
      "cell_type": "markdown",
      "id": "d55218e4-3279-4851-a8fc-bf208763236b",
      "metadata": {
        "id": "d55218e4-3279-4851-a8fc-bf208763236b"
      },
      "source": [
        "Vemos que la salida tiene mucha información.\n",
        "Lo más importante es saber cuantas veces se ha medido cada posible medida de nuestro medidor."
      ]
    },
    {
      "cell_type": "code",
      "execution_count": 10,
      "id": "93530252-e667-4aa5-afee-da50e3dcece6",
      "metadata": {
        "colab": {
          "base_uri": "https://localhost:8080/"
        },
        "id": "93530252-e667-4aa5-afee-da50e3dcece6",
        "outputId": "046d52b1-5e84-48d2-a09d-4387c50b443c"
      },
      "outputs": [
        {
          "output_type": "execute_result",
          "data": {
            "text/plain": [
              "{'0': 1000}"
            ]
          },
          "metadata": {},
          "execution_count": 10
        }
      ],
      "source": [
        "counts = result.get_counts()\n",
        "counts"
      ]
    },
    {
      "cell_type": "markdown",
      "id": "1d3b615f-d036-4ca3-adf4-b311bc163024",
      "metadata": {
        "id": "1d3b615f-d036-4ca3-adf4-b311bc163024"
      },
      "source": [
        "Vemos que, como era de esperar, las 1000 ejecuciones del circuito nos han dado $| 0 \\rangle$"
      ]
    },
    {
      "cell_type": "markdown",
      "id": "af0a81e4-7488-4608-ad73-9c17743f5c2c",
      "metadata": {
        "id": "af0a81e4-7488-4608-ad73-9c17743f5c2c"
      },
      "source": [
        "Podemos hacer un histograma con las cuentas.\n",
        "\n",
        "Nuevamente, el histograma es una figura de Matplotlib, así que podríamos usar `savefig()`"
      ]
    },
    {
      "cell_type": "code",
      "execution_count": 11,
      "id": "1c26e1d8-d1f6-46c1-94f2-29ce56cfd36d",
      "metadata": {
        "colab": {
          "base_uri": "https://localhost:8080/",
          "height": 262
        },
        "id": "1c26e1d8-d1f6-46c1-94f2-29ce56cfd36d",
        "outputId": "d39bee49-0da5-4187-b769-e70856c77056"
      },
      "outputs": [
        {
          "output_type": "display_data",
          "data": {
            "text/plain": [
              "<Figure size 250x250 with 1 Axes>"
            ],
            "image/png": "[encoded data removed]"
          },
          "metadata": {}
        }
      ],
      "source": [
        "fig = plot_histogram(counts, figsize=(2.5,2.5))\n",
        "#Fig.savefig('/tmp/Fig_circuit_1_hist')\n",
        "display(fig)"
      ]
    },
    {
      "cell_type": "markdown",
      "id": "aa3a119d-f7bb-4e17-98ed-6ad9664a3056",
      "metadata": {
        "id": "aa3a119d-f7bb-4e17-98ed-6ad9664a3056"
      },
      "source": [
        "<a id='sec_Notebooks_Circ_1_qubit_1.2'></a>\n",
        "### Circuito de un qubit con puertas y medidor"
      ]
    },
    {
      "cell_type": "code",
      "execution_count": 12,
      "id": "a397d4e6-9d19-4ff8-a876-2db726b8fed5",
      "metadata": {
        "colab": {
          "base_uri": "https://localhost:8080/",
          "height": 191
        },
        "id": "a397d4e6-9d19-4ff8-a876-2db726b8fed5",
        "outputId": "a408fefe-e64e-4097-9b83-c3ab3f0ec8b2",
        "scrolled": true
      },
      "outputs": [
        {
          "output_type": "display_data",
          "data": {
            "text/plain": [
              "<Figure size 436.286x200.667 with 1 Axes>"
            ],
            "image/png": "[encoded data removed]"
          },
          "metadata": {}
        }
      ],
      "source": [
        "# Creamos el circuito pasandole los registros.\n",
        "circuit = QuantumCircuit(quantum_reg, classic_reg)\n",
        "\n",
        "# Añadimos una puerta X seguida de una H al primer (y único) qúbit\n",
        "circuit.x(0)\n",
        "circuit.h(0)\n",
        "circuit.y(0)\n",
        "\n",
        "# Añadimos el medidor\n",
        "circuit.measure(quantum_reg, classic_reg)\n",
        "\n",
        "# Dibujemos el circuito\n",
        "display(circuit.draw(output='mpl', style=\"iqp\"))\n"
      ]
    },
    {
      "cell_type": "code",
      "execution_count": 13,
      "id": "d63d9abb-d28e-4c3d-b9e9-cd07c2b22aef",
      "metadata": {
        "colab": {
          "base_uri": "https://localhost:8080/",
          "height": 262
        },
        "id": "d63d9abb-d28e-4c3d-b9e9-cd07c2b22aef",
        "outputId": "a8e2ab18-3eb3-4b8e-ec69-64388addcf65",
        "scrolled": true
      },
      "outputs": [
        {
          "output_type": "display_data",
          "data": {
            "text/plain": [
              "<Figure size 250x250 with 1 Axes>"
            ],
            "image/png": "[encoded data removed]"
          },
          "metadata": {}
        }
      ],
      "source": [
        "# Usemos nuestra función de utilería que simula y nos da el resultado\n",
        "result = my_circuit_simulation(circuit, 1000)\n",
        "\n",
        "# Visualicemos el estado y las probabilidades\n",
        "counts = result.get_counts()\n",
        "display(plot_histogram(counts, figsize=(2.5,2.5)))"
      ]
    },
    {
      "cell_type": "code",
      "execution_count": 14,
      "id": "26e4c52f-5387-408a-beab-29faa209f17d",
      "metadata": {
        "colab": {
          "base_uri": "https://localhost:8080/"
        },
        "id": "26e4c52f-5387-408a-beab-29faa209f17d",
        "outputId": "96c95750-1792-45d9-9069-fee5d7122e03"
      },
      "outputs": [
        {
          "output_type": "stream",
          "name": "stdout",
          "text": [
            "probability distribution = {'0': 0.506, '1': 0.494}\n"
          ]
        }
      ],
      "source": [
        "# Vamos a definir una función para calcular la distribución de probabilidad\n",
        "\n",
        "# Toma un histograma en formato diccionario tal como lo devuelve get_counts()\n",
        "# y lo transforma en otro diccionario con las frecuencias relativas (distribución\n",
        "# de probabilidad)\n",
        "def my_get_prob_dist(counts, nd=3):\n",
        "    N = 0\n",
        "    for i in counts.items():\n",
        "        N += i[1]\n",
        "    prob = {}\n",
        "    for i in counts.items():\n",
        "        prob[i[0]] = np.round(i[1]/N, nd)\n",
        "    return prob\n",
        "\n",
        "\n",
        "prob_dist = my_get_prob_dist(counts)\n",
        "print(\"probability distribution =\", prob_dist)"
      ]
    },
    {
      "cell_type": "markdown",
      "id": "fb3c3a70-c553-45f4-9719-6af6f504eb5c",
      "metadata": {
        "id": "fb3c3a70-c553-45f4-9719-6af6f504eb5c"
      },
      "source": [
        "<div style=\"background-color:#c8e6c9\">\n",
        "<hr>\n",
        "<b>Ejercicio:</b>\n",
        "Con lápiz y papel, en este circuito, ¿cuál es el estado final del qubit antes del medidor?\n",
        "    \n",
        "Observa las frecuencias de aparición de las medidas ¿son aproximadamente las que deben salir?\n",
        "<hr>\n",
        "</div>"
      ]
    },
    {
      "cell_type": "markdown",
      "id": "bmzBI01eaFkL",
      "metadata": {
        "id": "bmzBI01eaFkL"
      },
      "source": [
        "### Resolución del ejercicio:\n",
        "\n",
        "1. **Estado inicial**:  \n",
        "   El qubit se inicializa en el estado  $|0\\rangle $:\n",
        "   $\n",
        "   |\\Psi_0\\rangle = |0\\rangle\n",
        "   $\n",
        "\n",
        "2. **Aplicación de la puerta X**:  \n",
        "   La puerta X cambia el estado del qubit de $|0\\rangle$ a $|1\\rangle$:\n",
        "   $\n",
        "   |\\Psi_1\\rangle = X|0\\rangle = |1\\rangle\n",
        "   $\n",
        "\n",
        "3. **Aplicación de la puerta H (Hadamard)**:  \n",
        "   La puerta Hadamard crea una superposición entre los estados $|0\\rangle$ y $|1\\rangle$. Aplicada sobre el estado $|1\\rangle$:\n",
        "   $\n",
        "   H|1\\rangle = \\frac{|0\\rangle - |1\\rangle}{\\sqrt{2}}\n",
        "   $\n",
        "   Por lo tanto, el estado ahora es:\n",
        "   $\n",
        "   |\\Psi_2\\rangle = \\frac{|0\\rangle - |1\\rangle}{\\sqrt{2}}\n",
        "   $\n",
        "\n",
        "4. **Aplicación de la puerta Y**:  \n",
        "   La puerta Y introduce una rotación en el plano XY con un factor imaginario $i$. Aplicada sobre el estado $\\frac{|0\\rangle - |1\\rangle}{\\sqrt{2}}$, obtenemos:\n",
        "   $\n",
        "   Y \\left( \\frac{|0\\rangle - |1\\rangle}{\\sqrt{2}} \\right) = \\frac{i|1\\rangle + i|0\\rangle}{\\sqrt{2}} = i \\cdot \\frac{|0\\rangle + |1\\rangle}{\\sqrt{2}}\n",
        "   $\n",
        "   Así que el estado final antes de la medición es:\n",
        "   $\n",
        "   |\\Psi_3\\rangle = i \\cdot \\frac{|0\\rangle + |1\\rangle}{\\sqrt{2}}\n",
        "   $\n",
        "\n",
        "5. **Interpretación de las probabilidades**:  \n",
        "   El estado final es una superposición equilibrada entre $|0\\rangle$ y $|1\\rangle$.  \n",
        "   Al medir este estado, las probabilidades de obtener $|0\\rangle$ o $|1\\rangle$ son iguales, ya que el qubit está en una superposición equitativa.  \n",
        "   Las probabilidades esperadas son aproximadamente 50% para $|0\\rangle$ y 50% para $|1\\rangle$.\n",
        "\n",
        "   Esto coincide con los resultados observados en la distribución de probabilidades:\n",
        "   - $``1\": 0.498$\n",
        "   - $``0\": 0.502$"
      ]
    },
    {
      "cell_type": "markdown",
      "id": "f83f7b86-d94d-47f0-a053-b74a04012694",
      "metadata": {
        "id": "f83f7b86-d94d-47f0-a053-b74a04012694"
      },
      "source": [
        "<div style=\"background-color:#c8e6c9\">\n",
        "<hr>\n",
        "<b>Ejercicio:</b>\n",
        "Añade un medidor al circuito del primer ejercicio del cuadernillo anterior, que no era más que una mera inicialización del qubit.\n",
        "\n",
        "Comprueba que el histograma está acorde al cuadrado de las amplitudes 0 y 1 en el vector de ini\n",
        "<hr>\n",
        "</div>"
      ]
    },
    {
      "cell_type": "code",
      "execution_count": 15,
      "id": "BOKo6H6vhdWS",
      "metadata": {
        "colab": {
          "base_uri": "https://localhost:8080/"
        },
        "id": "BOKo6H6vhdWS",
        "outputId": "1a260287-8a5f-4f56-fa1c-a6570fa8fe1e"
      },
      "outputs": [
        {
          "output_type": "stream",
          "name": "stdout",
          "text": [
            "Statevector([0.65453191+0.4765265j , 0.18888727+0.55572662j],\n",
            "            dims=(2,))\n"
          ]
        }
      ],
      "source": [
        "# Vamos a construir el circuito del primer ejercicio del cuadernillo anterior:\n",
        "# Construimos el estado inicial:\n",
        "rm = np.random.rand(2,1) + np.random.rand(2,1)*1j\n",
        "rm = rm/la.norm(rm) # Normalizar\n",
        "initial_state = Statevector(rm)\n",
        "print(initial_state)"
      ]
    },
    {
      "cell_type": "code",
      "execution_count": 16,
      "id": "49ef23e7-7fe5-4cc1-8228-7e34371b5c02",
      "metadata": {
        "colab": {
          "base_uri": "https://localhost:8080/",
          "height": 191
        },
        "id": "49ef23e7-7fe5-4cc1-8228-7e34371b5c02",
        "outputId": "48cb2eb7-95be-408e-9422-d44fd79f0db5"
      },
      "outputs": [
        {
          "output_type": "display_data",
          "data": {
            "text/plain": [
              "<Figure size 436.286x200.667 with 1 Axes>"
            ],
            "image/png": "[encoded data removed]"
          },
          "metadata": {}
        }
      ],
      "source": [
        "# Creamos los registros\n",
        "q_reg = QuantumRegister(1, 'q')\n",
        "c_reg = ClassicalRegister(1, 'c')\n",
        "cir = QuantumCircuit(q_reg, c_reg)\n",
        "# Inicializamos\n",
        "cir.initialize(initial_state)\n",
        "\n",
        "# A continuación añadimos el medidor:\n",
        "cir.measure(quantum_reg, classic_reg)\n",
        "\n",
        "# Mostramos el circuito\n",
        "fig = cir.draw('mpl', style=\"iqp\")\n",
        "display(fig)"
      ]
    },
    {
      "cell_type": "code",
      "execution_count": 17,
      "id": "mWjvd1mMc7Kd",
      "metadata": {
        "colab": {
          "base_uri": "https://localhost:8080/",
          "height": 262
        },
        "id": "mWjvd1mMc7Kd",
        "outputId": "52fb4b2d-a09c-4186-bc17-2643fb9aa788"
      },
      "outputs": [
        {
          "output_type": "display_data",
          "data": {
            "text/plain": [
              "<Figure size 250x250 with 1 Axes>"
            ],
            "image/png": "[encoded data removed]"
          },
          "metadata": {}
        }
      ],
      "source": [
        "# Ejecutamos y mostramos resultados\n",
        "r = my_circuit_simulation(cir, 1000)\n",
        "\n",
        "# Visualicemos el estado y las probabilidades\n",
        "counts = r.get_counts()\n",
        "display(plot_histogram(counts, figsize=(2.5,2.5)))"
      ]
    },
    {
      "cell_type": "code",
      "execution_count": 19,
      "id": "QStqDQNSh6QX",
      "metadata": {
        "colab": {
          "base_uri": "https://localhost:8080/"
        },
        "id": "QStqDQNSh6QX",
        "outputId": "b3ca8d87-f28e-4227-d035-ffee90122fea"
      },
      "outputs": [
        {
          "output_type": "stream",
          "name": "stdout",
          "text": [
            "probability distribution = {'1': 0.343, '0': 0.657}\n"
          ]
        }
      ],
      "source": [
        "prob_dist = my_get_prob_dist(counts)\n",
        "print(\"probability distribution =\", prob_dist)"
      ]
    },
    {
      "cell_type": "markdown",
      "id": "N9H7nMaFiWMd",
      "metadata": {
        "id": "N9H7nMaFiWMd"
      },
      "source": [
        "### Resolución del ejercicio:\n",
        "\n",
        "1. **Estado inicial**:  \n",
        "   El estado inicial del qubit, antes de la medición, es:\n",
        "   $\n",
        "   |\\Psi_0\\rangle = (0.65453191 + 0.4765265i) \\cdot |0\\rangle + (0.18888727 + 0.55572662i) \\cdot |1\\rangle\n",
        "   $\n",
        "\n",
        "   Este estado es una superposición cuántica de $|0\\rangle$ y $|1\\rangle$, con las respectivas amplitudes complejas. Para calcular las probabilidades de medir $|0\\rangle$ o $|1\\rangle$, tomamos el cuadrado del valor absoluto de las amplitudes.\n",
        "\n",
        "2. **Probabilidades teóricas**:\n",
        "   - La probabilidad de medir el estado $|0\\rangle$ es el cuadrado del valor absoluto de la amplitud correspondiente a $|0\\rangle$:\n",
        "   $\n",
        "   P(0) = |0.65453191 + 0.4765265i|^2 = 0.65453191^2 + 0.4765265^2 = 0.42840983 + 0.227157 = 0.65556683\n",
        "   $\n",
        "\n",
        "   - La probabilidad de medir el estado $|1\\rangle$ es el cuadrado del valor absoluto de la amplitud correspondiente a $|1\\rangle$:\n",
        "   $\n",
        "   P(1) = |0.18888727 + 0.55572662i|^2 = 0.18888727^2 + 0.55572662^2 = 0.035668 + 0.30876559 = 0.34443359343\n",
        "   $\n",
        "\n",
        "3. **Resultados del histograma**:  \n",
        "   Tras la simulación, las probabilidades obtenidas son:\n",
        "   - $P(0) = 0.656$\n",
        "   - $P(1) = 0.357$\n",
        "\n",
        "   Estas probabilidades, son aproximadamente, las probabilidades que debe de tener teóricamente, por tanto, podemos afirmar que los resultados están acorde con lo que debería de dar.\n"
      ]
    },
    {
      "cell_type": "markdown",
      "id": "af74aa19-3737-4d20-a2c3-1c6320e5d830",
      "metadata": {
        "id": "af74aa19-3737-4d20-a2c3-1c6320e5d830"
      },
      "source": [
        "<a id='sec_Notebooks_Circ_1_qubit_3'></a>\n",
        "## La moneda cuántica   "
      ]
    },
    {
      "cell_type": "markdown",
      "id": "a7b72e2b-847c-4ceb-a4b9-0de243c62b1b",
      "metadata": {
        "id": "a7b72e2b-847c-4ceb-a4b9-0de243c62b1b"
      },
      "source": [
        "Vamos a ver aquí a modo de ejemplo un experimento simple: **la moneda cuántica**.\n",
        "\n",
        "El resultado de tirar una moneda al aire es una variable aleatoria con dos resultados equiprobables:  cara y cruz.  Es irrelevante si analizamos el resultado cada tirada o cada dos, o tres tiradas. Las frecuencias relativas de caras y cruces, siempre serán próximas a $1/2$. Es decir, podemos tirar la moneda, recogerla sin mirarla, volver a tirar, y las probabilidades no cambian.\n",
        "\n",
        "Podemos imaginar un experimento similar con un qúbit, donde cara $\\to 0$ y cruz $\\to 1$ son los resultados posibles de la medida en la base $Z$. Como al tirar la moneda, mientras esta está en el aire podemos pensar que está en ``una superposición equiprobable del cara y cruz'', el hecho de **tirar la moneda** en computación cuántica será aplicar el operador $H$.\n",
        "\n",
        "Haciendo esta consideración, podemos ver que no es lo mismo tirar la moneda 1 vez y mirar\n",
        "\n",
        "$$\n",
        "\\ket{0}~ \\stackrel{\\rm tirar}{\\longrightarrow} ~ H \\ket{0}= \\ket{+} ~ \\stackrel{\\rm medir}{\\longrightarrow} ~p(0) = p(1) = 0.5\n",
        "$$\n",
        "\n",
        "que tirarla dos veces y mirar\n",
        "\n",
        "$$\n",
        "\\ket{0}~ \\stackrel{\\rm tirar}{\\longrightarrow} ~ H \\ket{0}~ \\stackrel{\\rm tirar}{\\longrightarrow} H^2\\ket{0} = \\ket{0} ~ \\stackrel{\\rm medir}{\\longrightarrow} ~p(0) = 1 ~,~p(1) = 0\n",
        "$$\n",
        "\n",
        "El objetivo de este experimento es simplemente ver que ciertas puertas son sus propias inversas y que cuando aplicamos las aplicamos un número par de veces seguidas, es como si no aplicáramos nada."
      ]
    },
    {
      "cell_type": "markdown",
      "id": "af5bbdee-27c6-4deb-8c4c-f3090e34d9ff",
      "metadata": {
        "id": "af5bbdee-27c6-4deb-8c4c-f3090e34d9ff"
      },
      "source": [
        "Hagamos dos circuitos para hacer dos pruebas. Veamos que pasa si medimos después de la primero $H$ y si no:"
      ]
    },
    {
      "cell_type": "code",
      "execution_count": 20,
      "id": "c4175664-4cb9-45d2-8d8d-b877cfa3de88",
      "metadata": {
        "colab": {
          "base_uri": "https://localhost:8080/",
          "height": 171
        },
        "id": "c4175664-4cb9-45d2-8d8d-b877cfa3de88",
        "outputId": "f08e7846-9335-482d-9e60-08ae4b0e9dd3"
      },
      "outputs": [
        {
          "output_type": "display_data",
          "data": {
            "text/plain": [
              "      ┌───┐┌─┐┌───┐┌─┐\n",
              "   q: ┤ H ├┤M├┤ H ├┤M├\n",
              "      └───┘└╥┘└───┘└╥┘\n",
              "c0: 2/══════╩═══════╩═\n",
              "            0       1 "
            ],
            "text/html": [
              "<pre style=\"word-wrap: normal;white-space: pre;background: #fff0;line-height: 1.1;font-family: &quot;Courier New&quot;,Courier,monospace\">      ┌───┐┌─┐┌───┐┌─┐\n",
              "   q: ┤ H ├┤M├┤ H ├┤M├\n",
              "      └───┘└╥┘└───┘└╥┘\n",
              "c0: 2/══════╩═══════╩═\n",
              "            0       1 </pre>"
            ]
          },
          "metadata": {}
        },
        {
          "output_type": "display_data",
          "data": {
            "text/plain": [
              "     ┌───┐┌───┐┌─┐\n",
              "  q: ┤ H ├┤ H ├┤M├\n",
              "     └───┘└───┘└╥┘\n",
              "c: 1/═══════════╩═\n",
              "                0 "
            ],
            "text/html": [
              "<pre style=\"word-wrap: normal;white-space: pre;background: #fff0;line-height: 1.1;font-family: &quot;Courier New&quot;,Courier,monospace\">     ┌───┐┌───┐┌─┐\n",
              "  q: ┤ H ├┤ H ├┤M├\n",
              "     └───┘└───┘└╥┘\n",
              "c: 1/═══════════╩═\n",
              "                0 </pre>"
            ]
          },
          "metadata": {}
        }
      ],
      "source": [
        "classic_reg_2_bits = ClassicalRegister(2)\n",
        "\n",
        "circuit_coin_1 = QuantumCircuit(quantum_reg, classic_reg_2_bits)\n",
        "circuit_coin_1.h(0)\n",
        "circuit_coin_1.measure(quantum_reg, classic_reg_2_bits[0]) # Añadimos una medida intermedia.\n",
        "circuit_coin_1.h(0)\n",
        "circuit_coin_1.measure(quantum_reg, classic_reg_2_bits[1])\n",
        "\n",
        "circuit_coin_2 = QuantumCircuit(quantum_reg, classic_reg)\n",
        "circuit_coin_2.h(0)\n",
        "circuit_coin_2.h(0)\n",
        "circuit_coin_2.measure(quantum_reg, classic_reg)\n",
        "\n",
        "display(circuit_coin_1.draw(), circuit_coin_2.draw())"
      ]
    },
    {
      "cell_type": "code",
      "execution_count": 21,
      "id": "f3f37bba-f89c-49a7-b298-ec02b8c032f4",
      "metadata": {
        "colab": {
          "base_uri": "https://localhost:8080/",
          "height": 191
        },
        "id": "f3f37bba-f89c-49a7-b298-ec02b8c032f4",
        "outputId": "1cbc57d9-e4b3-43c0-8206-e1983b16aa21"
      },
      "outputs": [
        {
          "output_type": "display_data",
          "data": {
            "text/plain": [
              "<Figure size 451.911x200.667 with 1 Axes>"
            ],
            "image/png": "[encoded data removed]"
          },
          "metadata": {}
        }
      ],
      "source": [
        "fig_coin_1 = circuit_coin_1.draw(output='mpl', style=\"iqp\") # mpl es de Matplolib\n",
        "display(fig_coin_1)"
      ]
    },
    {
      "cell_type": "code",
      "execution_count": 22,
      "id": "ad35e284-4afb-4e5e-85e9-49d4fb1a2251",
      "metadata": {
        "colab": {
          "base_uri": "https://localhost:8080/",
          "height": 191
        },
        "id": "ad35e284-4afb-4e5e-85e9-49d4fb1a2251",
        "outputId": "250dd8ba-2b6f-4117-a3fe-46c418d472fe"
      },
      "outputs": [
        {
          "output_type": "display_data",
          "data": {
            "text/plain": [
              "<Figure size 352.675x200.667 with 1 Axes>"
            ],
            "image/png": "[encoded data removed]"
          },
          "metadata": {}
        }
      ],
      "source": [
        "fig_coin_2 = circuit_coin_2.draw(output='mpl', style=\"iqp\") # mpl es de Matplolib\n",
        "display(fig_coin_2)"
      ]
    },
    {
      "cell_type": "code",
      "execution_count": 23,
      "id": "7e8b761e-c318-497d-8ed0-d51c29e38b63",
      "metadata": {
        "colab": {
          "base_uri": "https://localhost:8080/"
        },
        "id": "7e8b761e-c318-497d-8ed0-d51c29e38b63",
        "outputId": "626ec7e8-a21e-4dd5-d859-a613d634563e"
      },
      "outputs": [
        {
          "output_type": "stream",
          "name": "stdout",
          "text": [
            "Resultado (circuito 1):  {'11': 248, '01': 228, '10': 253, '00': 271}\n",
            "Resultado (circuito 2):  {'0': 1000}\n"
          ]
        }
      ],
      "source": [
        "# transpilamos\n",
        "\n",
        "result_coin_1 = my_circuit_simulation(circuit_coin_1, 1000)\n",
        "result_coin_2 = my_circuit_simulation(circuit_coin_2, 1000)\n",
        "\n",
        "# Conteo de medidas\n",
        "counts_coin_1 = result_coin_1.get_counts()\n",
        "print(\"Resultado (circuito 1): \", counts_coin_1)\n",
        "counts_coin_2 = result_coin_2.get_counts()\n",
        "print(\"Resultado (circuito 2): \", counts_coin_2)"
      ]
    },
    {
      "cell_type": "code",
      "execution_count": 24,
      "id": "453fad13-d6c9-4fed-b644-21c352e43337",
      "metadata": {
        "colab": {
          "base_uri": "https://localhost:8080/",
          "height": 310
        },
        "id": "453fad13-d6c9-4fed-b644-21c352e43337",
        "outputId": "bbac1c21-a900-4bb0-910e-7a7a98b1e1e3"
      },
      "outputs": [
        {
          "output_type": "display_data",
          "data": {
            "text/plain": [
              "<Figure size 500x300 with 1 Axes>"
            ],
            "image/png": "[encoded data removed]"
          },
          "metadata": {}
        }
      ],
      "source": [
        "display(plot_histogram(counts_coin_1, figsize=(5,3)))"
      ]
    },
    {
      "cell_type": "markdown",
      "id": "94e308d4-3b87-41f8-86f8-8f464015dc23",
      "metadata": {
        "id": "94e308d4-3b87-41f8-86f8-8f464015dc23"
      },
      "source": [
        "Lo resultados $00$ y$11$ son aquellos en los que hemos medido los mismo en los dos medidores, es decir, en los dos tiradas ha salido cara o cruz.\n",
        "En los otros casos, no hemos medido lo mismo, es decir, en una tirada ha salido cara y en la otra cruz."
      ]
    },
    {
      "cell_type": "code",
      "execution_count": 25,
      "id": "2a35e71d-4558-4c83-9ff5-1475e64dc969",
      "metadata": {
        "colab": {
          "base_uri": "https://localhost:8080/",
          "height": 225
        },
        "id": "2a35e71d-4558-4c83-9ff5-1475e64dc969",
        "outputId": "3b75a76f-49e4-4b84-db67-11d32c3345c2"
      },
      "outputs": [
        {
          "output_type": "display_data",
          "data": {
            "text/plain": [
              "<Figure size 200x200 with 1 Axes>"
            ],
            "image/png": "[encoded data removed]"
          },
          "metadata": {}
        }
      ],
      "source": [
        "display(plot_histogram(counts_coin_2, figsize=(2,2)))"
      ]
    },
    {
      "cell_type": "markdown",
      "id": "4b138397-2c8d-4b60-83bf-6d3b7604154e",
      "metadata": {
        "id": "4b138397-2c8d-4b60-83bf-6d3b7604154e"
      },
      "source": [
        "Vemos que **medir altera nuestro resultado**"
      ]
    },
    {
      "cell_type": "markdown",
      "id": "2399645f-fa80-44c1-9207-bc0189c2361c",
      "metadata": {
        "id": "2399645f-fa80-44c1-9207-bc0189c2361c"
      },
      "source": [
        "<a id='sec_Notebooks_Circ_1_qubit_4'></a>\n",
        "## Valores esperados  "
      ]
    },
    {
      "cell_type": "markdown",
      "id": "2d208db4-0d2b-45a2-8503-81dd5419aba3",
      "metadata": {
        "id": "2d208db4-0d2b-45a2-8503-81dd5419aba3"
      },
      "source": [
        "<a id='sec_Notebooks_Circ_1_qubit_4.1'></a>\n",
        "### Valor esperado de un observable arbitrario (operador hermítico)."
      ]
    },
    {
      "cell_type": "markdown",
      "id": "97efb596-8415-4a21-8606-140edc16bee8",
      "metadata": {
        "id": "97efb596-8415-4a21-8606-140edc16bee8"
      },
      "source": [
        "Vamos a ver como se mide el valor esperado de un observable arbitrario $A$ en un estado arbitrario $\\ket{\\Psi}$. Estos valores esperados se denotan de la siguiente forma: $\\langle Z \\rangle_\\Psi$.\n",
        "\n",
        "Cualquier observable sobre un cúbit cumple $A = A^\\dagger$ (es hermítico) con lo que puede expresarse en la base\n",
        "\t\\begin{equation} \\label{ec_medidas1_expansion_A_en_Paulis}\n",
        "\tA = a I + n_x X + n_y Y  + n_z Z \\, .\n",
        "\t\\end{equation}\n",
        "Los coeficientes se obtienen haciendo uso de las relaciones $\\frac{1}{2}$ tr$ (\\sigma_i \\sigma_j) = \\delta_{ij}$ y de tr$(\\sigma_i)=0$, de las cuales se obtiene\n",
        "\t\\begin{align}\n",
        "\t&\\boxed{a  = \\frac{1}{2} \\text{ tr}(A)},        &         &\\boxed{n_i = \\frac{1}{2} \\text{ tr}  (A \\sigma_i)},\n",
        "\t\\end{align}\n",
        "Entonces, podremos obtener el valor esperado de $A$  si somos capaces de medir los valores esperados de $X,$ $Y$ y $Z$.\n",
        "\t\\begin{equation}\n",
        "\t\\boxed{\\langle A\\rangle_\\Psi = a + n_x \\langle X\\rangle_\\Psi + n_y \\langle Y\\rangle_\\Psi + n_z \\langle Z\\rangle_\\Psi}\n",
        "\t\\end{equation}"
      ]
    },
    {
      "cell_type": "markdown",
      "id": "e652c9af-5ec8-403e-9dc3-b64bb355b794",
      "metadata": {
        "id": "e652c9af-5ec8-403e-9dc3-b64bb355b794"
      },
      "source": [
        "<a id='sec_Notebooks_Circ_1_qubit_4.1.1'></a>\n",
        "#### Inicializando estado $| \\Psi \\rangle $"
      ]
    },
    {
      "cell_type": "code",
      "execution_count": 26,
      "id": "cd10f185-f0b1-4ad0-bc11-abc85a63a9b1",
      "metadata": {
        "colab": {
          "base_uri": "https://localhost:8080/",
          "height": 116
        },
        "id": "cd10f185-f0b1-4ad0-bc11-abc85a63a9b1",
        "outputId": "09213434-808a-4554-b494-ace540202c7f"
      },
      "outputs": [
        {
          "output_type": "display_data",
          "data": {
            "text/plain": [
              "<IPython.core.display.Latex object>"
            ],
            "text/latex": "$$0.9689124217 |0\\rangle+(0.2363540298 + 0.0731128692 i) |1\\rangle$$"
          },
          "metadata": {}
        },
        {
          "output_type": "display_data",
          "data": {
            "text/plain": [
              "     ┌───────────────────────────────────────┐┌─┐\n",
              "  q: ┤ Initialize(0.96891,0.23635+0.073113j) ├┤M├\n",
              "     └───────────────────────────────────────┘└╥┘\n",
              "c: 1/══════════════════════════════════════════╩═\n",
              "                                               0 "
            ],
            "text/html": [
              "<pre style=\"word-wrap: normal;white-space: pre;background: #fff0;line-height: 1.1;font-family: &quot;Courier New&quot;,Courier,monospace\">     ┌───────────────────────────────────────┐┌─┐\n",
              "  q: ┤ Initialize(0.96891,0.23635+0.073113j) ├┤M├\n",
              "     └───────────────────────────────────────┘└╥┘\n",
              "c: 1/══════════════════════════════════════════╩═\n",
              "                                               0 </pre>"
            ]
          },
          "metadata": {}
        }
      ],
      "source": [
        "# Vamos a definir un circuito con un valor inicial arbitario\n",
        "# y vamos a simularlo calculando su distribución de probabilidad\n",
        "\n",
        "# Inicializamos un estado arbitrario en la esfera de Bloch\n",
        "theta = 0.5  #rad\n",
        "phi   = 0.3  #rad\n",
        "psi_state = [np.cos(theta/2),(np.exp(1j*phi))*np.sin(theta/2)]\n",
        "\n",
        "# Veamos el vector de estado\n",
        "Psi = Statevector(psi_state)\n",
        "display(Psi.draw('latex'))\n",
        "\n",
        "qc = QuantumCircuit(quantum_reg, classic_reg)\n",
        "qc.initialize(Psi)\n",
        "qc.measure(quantum_reg, classic_reg)\n",
        "display(qc.draw('text',style=\"iqp\"))\n",
        "r = my_circuit_simulation(qc, 1000)\n",
        "counts_state = r.get_counts()\n",
        "prob_distr_state = my_get_prob_dist(counts_state)\n"
      ]
    },
    {
      "cell_type": "code",
      "execution_count": 27,
      "id": "a5a090ec-b790-49eb-b8de-c31193636f79",
      "metadata": {
        "colab": {
          "base_uri": "https://localhost:8080/"
        },
        "id": "a5a090ec-b790-49eb-b8de-c31193636f79",
        "outputId": "37332266-926c-4bfa-8d1f-5a483e33790a"
      },
      "outputs": [
        {
          "output_type": "stream",
          "name": "stdout",
          "text": [
            "p_0= 0.939 , p_1= 0.061\n",
            "probability distribution = {'1': 0.061, '0': 0.939}\n"
          ]
        }
      ],
      "source": [
        "print('p_0=', np.round(np.abs(psi_state[0])**2,3),', p_1=', np.round(np.abs(psi_state[1])**2,3))\n",
        "print(\"probability distribution =\", prob_distr_state)"
      ]
    },
    {
      "cell_type": "markdown",
      "id": "ab8b10f1-c463-43ed-a9f4-1e3107ad793b",
      "metadata": {
        "id": "ab8b10f1-c463-43ed-a9f4-1e3107ad793b"
      },
      "source": [
        "<a id='sec_Notebooks_Circ_1_qubit_4.1.2'></a>\n",
        "#### Midiendo $\\langle Z \\rangle$"
      ]
    },
    {
      "cell_type": "code",
      "execution_count": 28,
      "id": "d9b8e8a9-01aa-4685-967f-ab36934b5080",
      "metadata": {
        "colab": {
          "base_uri": "https://localhost:8080/",
          "height": 146
        },
        "id": "d9b8e8a9-01aa-4685-967f-ab36934b5080",
        "outputId": "1eb79466-30d4-4eb7-a7ac-519391a178d3"
      },
      "outputs": [
        {
          "output_type": "display_data",
          "data": {
            "text/plain": [
              "     ┌───────────────────────────────────────┐┌─┐\n",
              "  q: ┤ Initialize(0.96891,0.23635+0.073113j) ├┤M├\n",
              "     └───────────────────────────────────────┘└╥┘\n",
              "c: 1/══════════════════════════════════════════╩═\n",
              "                                               0 "
            ],
            "text/html": [
              "<pre style=\"word-wrap: normal;white-space: pre;background: #fff0;line-height: 1.1;font-family: &quot;Courier New&quot;,Courier,monospace\">     ┌───────────────────────────────────────┐┌─┐\n",
              "  q: ┤ Initialize(0.96891,0.23635+0.073113j) ├┤M├\n",
              "     └───────────────────────────────────────┘└╥┘\n",
              "c: 1/══════════════════════════════════════════╩═\n",
              "                                               0 </pre>"
            ]
          },
          "metadata": {}
        },
        {
          "output_type": "stream",
          "name": "stdout",
          "text": [
            "Resultado:  {'1': 64, '0': 936}\n",
            "probability distribution = {'1': 0.064, '0': 0.936}\n",
            "<Z> = 0.872\n"
          ]
        }
      ],
      "source": [
        "# Circuito\n",
        "circuit_Z_mean = QuantumCircuit(quantum_reg, classic_reg)\n",
        "circuit_Z_mean.initialize(Psi,0)\n",
        "circuit_Z_mean.measure(quantum_reg, classic_reg)\n",
        "\n",
        "display(circuit_Z_mean.draw())\n",
        "\n",
        "# Ejecutamos\n",
        "result_Z_mean = my_circuit_simulation(circuit_Z_mean, 1000)\n",
        "counts_Z_mean = result_Z_mean.get_counts()\n",
        "print(\"Resultado: \", counts_Z_mean)\n",
        "\n",
        "# Distribución de probabilidad\n",
        "prob_distr_Z_mean = my_get_prob_dist(counts_Z_mean)\n",
        "print(\"probability distribution =\", prob_distr_Z_mean)\n",
        "\n",
        "# Calculamos <Z>\n",
        "mean_Z = 0\n",
        "\n",
        "for bits, probs  in prob_distr_Z_mean.items():\n",
        "    mean_Z += (-1)**(int(bits)) * probs\n",
        "\n",
        "print('<Z> =',np.round(mean_Z,5))"
      ]
    },
    {
      "cell_type": "markdown",
      "id": "6eea4966-d8bc-4914-9b17-c00502b4ef70",
      "metadata": {
        "id": "6eea4966-d8bc-4914-9b17-c00502b4ef70"
      },
      "source": [
        "<a id='sec_Notebooks_Circ_1_qubit_4.1.3'></a>\n",
        "#### Midiendo $\\langle X \\rangle$"
      ]
    },
    {
      "cell_type": "code",
      "execution_count": 29,
      "id": "546617e4-b185-4149-81ee-e3752f5d5c39",
      "metadata": {
        "colab": {
          "base_uri": "https://localhost:8080/",
          "height": 146
        },
        "id": "546617e4-b185-4149-81ee-e3752f5d5c39",
        "outputId": "8118d2a1-f9db-4d5c-86f1-9d26b73aeb4d"
      },
      "outputs": [
        {
          "output_type": "display_data",
          "data": {
            "text/plain": [
              "     ┌───────────────────────────────────────┐┌───┐┌─┐\n",
              "  q: ┤ Initialize(0.96891,0.23635+0.073113j) ├┤ H ├┤M├\n",
              "     └───────────────────────────────────────┘└───┘└╥┘\n",
              "c: 1/═══════════════════════════════════════════════╩═\n",
              "                                                    0 "
            ],
            "text/html": [
              "<pre style=\"word-wrap: normal;white-space: pre;background: #fff0;line-height: 1.1;font-family: &quot;Courier New&quot;,Courier,monospace\">     ┌───────────────────────────────────────┐┌───┐┌─┐\n",
              "  q: ┤ Initialize(0.96891,0.23635+0.073113j) ├┤ H ├┤M├\n",
              "     └───────────────────────────────────────┘└───┘└╥┘\n",
              "c: 1/═══════════════════════════════════════════════╩═\n",
              "                                                    0 </pre>"
            ]
          },
          "metadata": {}
        },
        {
          "output_type": "stream",
          "name": "stdout",
          "text": [
            "Resultado:  {'1': 267, '0': 733}\n",
            "probability distribution = {'1': 0.267, '0': 0.733}\n",
            "<X> = 0.466\n"
          ]
        }
      ],
      "source": [
        "# Circuito\n",
        "circuit_X_mean = QuantumCircuit(quantum_reg, classic_reg)\n",
        "circuit_X_mean.initialize(Psi,0)\n",
        "circuit_X_mean.h(quantum_reg)\n",
        "circuit_X_mean.measure(quantum_reg, classic_reg)\n",
        "\n",
        "display(circuit_X_mean.draw())\n",
        "\n",
        "# Ejecutamos\n",
        "result_X_mean = my_circuit_simulation(circuit_X_mean, 1000)\n",
        "counts_X_mean = result_X_mean.get_counts()\n",
        "print(\"Resultado: \", counts_X_mean)\n",
        "\n",
        "# Distribución de probabilidad\n",
        "prob_distr_X_mean = my_get_prob_dist(counts_X_mean)\n",
        "print(\"probability distribution =\", prob_distr_X_mean)\n",
        "\n",
        "# Calculamos <X>\n",
        "mean_X = 0\n",
        "\n",
        "for bits, probs  in prob_distr_X_mean.items():\n",
        "    mean_X += (-1)**(int(bits)) * probs\n",
        "\n",
        "print('<X> =',np.round(mean_X,5))"
      ]
    },
    {
      "cell_type": "markdown",
      "id": "75b9ddc8-99bc-45b2-9313-4f406a6982b5",
      "metadata": {
        "id": "75b9ddc8-99bc-45b2-9313-4f406a6982b5"
      },
      "source": [
        "<a id='sec_Notebooks_Circ_1_qubit_4.1.4'></a>\n",
        "#### Midiendo $\\langle Y \\rangle$"
      ]
    },
    {
      "cell_type": "code",
      "execution_count": 30,
      "id": "d72bc7d9-1dea-4e9c-a037-7a06875ce3bb",
      "metadata": {
        "colab": {
          "base_uri": "https://localhost:8080/",
          "height": 146
        },
        "id": "d72bc7d9-1dea-4e9c-a037-7a06875ce3bb",
        "outputId": "a03ccb86-2ab8-48df-a46b-4a1c50cdd944"
      },
      "outputs": [
        {
          "output_type": "display_data",
          "data": {
            "text/plain": [
              "     ┌───────────────────────────────────────┐┌─────┐┌───┐┌─┐\n",
              "  q: ┤ Initialize(0.96891,0.23635+0.073113j) ├┤ Sdg ├┤ H ├┤M├\n",
              "     └───────────────────────────────────────┘└─────┘└───┘└╥┘\n",
              "c: 1/══════════════════════════════════════════════════════╩═\n",
              "                                                           0 "
            ],
            "text/html": [
              "<pre style=\"word-wrap: normal;white-space: pre;background: #fff0;line-height: 1.1;font-family: &quot;Courier New&quot;,Courier,monospace\">     ┌───────────────────────────────────────┐┌─────┐┌───┐┌─┐\n",
              "  q: ┤ Initialize(0.96891,0.23635+0.073113j) ├┤ Sdg ├┤ H ├┤M├\n",
              "     └───────────────────────────────────────┘└─────┘└───┘└╥┘\n",
              "c: 1/══════════════════════════════════════════════════════╩═\n",
              "                                                           0 </pre>"
            ]
          },
          "metadata": {}
        },
        {
          "output_type": "stream",
          "name": "stdout",
          "text": [
            "Resultado:  {'0': 571, '1': 429}\n",
            "probability distribution = {'0': 0.571, '1': 0.429}\n",
            "<Y> = 0.142\n"
          ]
        }
      ],
      "source": [
        "# Circuito\n",
        "circuit_Y_mean = QuantumCircuit(quantum_reg, classic_reg)\n",
        "circuit_Y_mean.initialize(Psi,0)\n",
        "circuit_Y_mean.sdg(quantum_reg)\n",
        "circuit_Y_mean.h(quantum_reg)\n",
        "circuit_Y_mean.measure(quantum_reg, classic_reg)\n",
        "\n",
        "display(circuit_Y_mean.draw())\n",
        "\n",
        "# Ejecutamos\n",
        "result_Y_mean = my_circuit_simulation(circuit_Y_mean, 1000)\n",
        "counts_Y_mean = result_Y_mean.get_counts()\n",
        "print(\"Resultado: \", counts_Y_mean)\n",
        "\n",
        "# Distribución de probabilidad\n",
        "prob_distr_Y_mean = my_get_prob_dist(counts_Y_mean)\n",
        "print(\"probability distribution =\", prob_distr_Y_mean)\n",
        "\n",
        "# Calculamos <Y>\n",
        "mean_Y = 0\n",
        "\n",
        "for bits, probs  in prob_distr_Y_mean.items():\n",
        "    mean_Y += (-1)**(int(bits)) * probs\n",
        "\n",
        "print('<Y> =',np.round(mean_Y,5))"
      ]
    },
    {
      "cell_type": "markdown",
      "id": "1e58bc13-0a1d-4ff3-8bb3-824927475193",
      "metadata": {
        "id": "1e58bc13-0a1d-4ff3-8bb3-824927475193"
      },
      "source": [
        "<div style=\"background-color:#c8e6c9\">\n",
        "<hr>\n",
        "<b>Ejercicio:</b>\n",
        "\n",
        "Toma los valores medios medidos anteriores $x=\\langle X \\rangle$, $y=\\langle Y \\rangle$, $z=\\langle Z \\rangle$ y a partir de ellos:\n",
        "- Construye el vector cartesiano $\\vec{n}=(x,y,z)$\n",
        "- Normalízalo: $\\hat{n}$\n",
        "- Dibúja estas coordenadas de $\\hat{n}$ sobre la esfera de Bloch (sugerencia: consulta la conversión de coordenadas cartesianas a esféricas: https://en.wikipedia.org/wiki/Spherical_coordinate_system#Cartesian_coordinates ; puedes dibujar un estado con las coordenadas esféricas resultantes)\n",
        "\n",
        "¿Qué observas? Explica el resultado\n",
        "<hr>\n",
        "</div>"
      ]
    },
    {
      "cell_type": "code",
      "execution_count": 31,
      "id": "23Vhr65Ak22D",
      "metadata": {
        "colab": {
          "base_uri": "https://localhost:8080/",
          "height": 553
        },
        "id": "23Vhr65Ak22D",
        "outputId": "d709127a-ae91-4ac0-bda2-50973921b2c9"
      },
      "outputs": [
        {
          "output_type": "stream",
          "name": "stdout",
          "text": [
            "Coordenadas esféricas: θ (polar) = 29.19º, φ (azimutal) = 16.95º\n"
          ]
        },
        {
          "output_type": "execute_result",
          "data": {
            "text/plain": [
              "<Figure size 500x500 with 1 Axes>"
            ],
            "image/png": "[encoded data removed]"
          },
          "metadata": {},
          "execution_count": 31
        }
      ],
      "source": [
        "from math import sqrt, acos, atan2, pi\n",
        "from qiskit.visualization import plot_bloch_vector\n",
        "# Creamos el vector cartesiano\n",
        "n = np.array([mean_X, mean_Y, mean_Z])\n",
        "\n",
        "# Lo normalizamos\n",
        "norm = np.linalg.norm(n)\n",
        "n_hat = n / norm\n",
        "\n",
        "# Convertimos las coordenadas cartesianas a coordenadas esféricas\n",
        "#  - theta es el ángulo respecto al eje Z (coordenada polar)\n",
        "#  - phi es el ángulo en el plano XY (coordenada azimutal)\n",
        "theta = acos(n_hat[2])  # Z component\n",
        "phi = atan2(n_hat[1], n_hat[0])  # Y, X components\n",
        "\n",
        "# Convertimos phi de radianes a grados para dibujar correctamente\n",
        "phi_deg = phi * 180 / pi\n",
        "theta_deg = theta * 180 / pi\n",
        "\n",
        "print(f\"Coordenadas esféricas: θ (polar) = {theta_deg:.2f}º, φ (azimutal) = {phi_deg:.2f}º\")\n",
        "\n",
        "# Pintamos esfera de Bloch\n",
        "plot_bloch_vector(n_hat)"
      ]
    },
    {
      "cell_type": "markdown",
      "id": "mtleXULSn3YG",
      "metadata": {
        "id": "mtleXULSn3YG"
      },
      "source": [
        "### Observación\n",
        "\n",
        "\n",
        "El vector normalizado $ \\hat{n} $ representa el estado cuántico del sistema en la esfera de Bloch, como podemos observar, está apuntando casi al 0, por lo que existe una mayor probabilidad de obtener el estado $|0\\rangle$, al realizar la medición.\n"
      ]
    },
    {
      "cell_type": "markdown",
      "id": "59981803-08de-454f-92e8-f40077c22041",
      "metadata": {
        "id": "59981803-08de-454f-92e8-f40077c22041"
      },
      "source": [
        "<a id='sec_Notebooks_Circ_1_qubit_4.2'></a>\n",
        "### Valor esperado de un operador unitario (no necesariamente hermítico)"
      ]
    },
    {
      "cell_type": "markdown",
      "id": "4d48db7b-92da-4a2e-aff0-a3c3827f2040",
      "metadata": {
        "id": "4d48db7b-92da-4a2e-aff0-a3c3827f2040"
      },
      "source": [
        "Vamos a construir dos operadores U y V y calcular\n",
        "$$\\langle V \\rangle_\\Psi = \\langle \\Psi | V| \\Psi \\rangle = \\langle 0 | U^\\dagger V U |0\\rangle = \\langle 0 | {\\tilde \\Psi} \\rangle\n",
        "$$"
      ]
    },
    {
      "cell_type": "code",
      "execution_count": 32,
      "id": "8ec7b05d-a778-406f-adba-f1f93c896a7a",
      "metadata": {
        "colab": {
          "base_uri": "https://localhost:8080/",
          "height": 221
        },
        "id": "8ec7b05d-a778-406f-adba-f1f93c896a7a",
        "outputId": "35a3940e-a40f-49a2-9908-795b2c70e168"
      },
      "outputs": [
        {
          "output_type": "display_data",
          "data": {
            "text/plain": [
              "     ┌───────────────┐┌──────────────────┐┌──────────────────┐┌─┐\n",
              "  q: ┤ U3(π/6,π/2,π) ├┤ U3(π/2,π/3,2π/7) ├┤ U3(-π/6,-π,-π/2) ├┤M├\n",
              "     └───────────────┘└──────────────────┘└──────────────────┘└╥┘\n",
              "c: 1/══════════════════════════════════════════════════════════╩═\n",
              "                                                               0 "
            ],
            "text/html": [
              "<pre style=\"word-wrap: normal;white-space: pre;background: #fff0;line-height: 1.1;font-family: &quot;Courier New&quot;,Courier,monospace\">     ┌───────────────┐┌──────────────────┐┌──────────────────┐┌─┐\n",
              "  q: ┤ U3(π/6,π/2,π) ├┤ U3(π/2,π/3,2π/7) ├┤ U3(-π/6,-π,-π/2) ├┤M├\n",
              "     └───────────────┘└──────────────────┘└──────────────────┘└╥┘\n",
              "c: 1/══════════════════════════════════════════════════════════╩═\n",
              "                                                               0 </pre>"
            ]
          },
          "metadata": {}
        },
        {
          "output_type": "display_data",
          "data": {
            "text/plain": [
              "global phase: 6.1192\n",
              "     ┌────────────────────────────┐┌─┐\n",
              "  q: ┤ U3(0.65757,2.8716,-0.5988) ├┤M├\n",
              "     └────────────────────────────┘└╥┘\n",
              "c: 1/═══════════════════════════════╩═\n",
              "                                    0 "
            ],
            "text/html": [
              "<pre style=\"word-wrap: normal;white-space: pre;background: #fff0;line-height: 1.1;font-family: &quot;Courier New&quot;,Courier,monospace\">global phase: 6.1192\n",
              "     ┌────────────────────────────┐┌─┐\n",
              "  q: ┤ U3(0.65757,2.8716,-0.5988) ├┤M├\n",
              "     └────────────────────────────┘└╥┘\n",
              "c: 1/═══════════════════════════════╩═\n",
              "                                    0 </pre>"
            ]
          },
          "metadata": {}
        },
        {
          "output_type": "stream",
          "name": "stdout",
          "text": [
            "Resultado:  {'0': 44808, '1': 5192}\n",
            " |<V>| =  0.9466572769487381 ,  ||<V>||^2 =  0.8961599999999998\n"
          ]
        }
      ],
      "source": [
        "from qiskit.circuit.library import U3Gate\n",
        "\n",
        "circuit_V_mean = QuantumCircuit(quantum_reg, classic_reg)\n",
        "\n",
        "theta_U  = np.pi/6\n",
        "phi_U    = np.pi/2\n",
        "varphi_U = np.pi\n",
        "U        = U3Gate(theta_U, phi_U, varphi_U)\n",
        "U_dagger = U3Gate(theta_U, phi_U, varphi_U).inverse()\n",
        "\n",
        "theta_V  = np.pi/2\n",
        "phi_V    = np.pi/3\n",
        "varphi_V = 2*np.pi/7\n",
        "V        = U3Gate(theta_V, phi_V, varphi_V)\n",
        "\n",
        "circuit_V_mean.append(U, quantum_reg)\n",
        "circuit_V_mean.append(V, quantum_reg)\n",
        "circuit_V_mean.append(U_dagger, quantum_reg)\n",
        "circuit_V_mean.measure(quantum_reg, classic_reg)\n",
        "\n",
        "display(circuit_V_mean.draw())\n",
        "\n",
        "# Transpilamos\n",
        "t_circuit_V_mean = transpile(circuit_V_mean, backend = simulador)\n",
        "\n",
        "display(t_circuit_V_mean.draw())\n",
        "\n",
        "# Ejecutamos\n",
        "shots = 50000\n",
        "result_V_mean = simulador.run(t_circuit_V_mean, shots = shots).result()\n",
        "counts_V_mean = result_V_mean.get_counts()\n",
        "print(\"Resultado: \", counts_V_mean)\n",
        "\n",
        "# Media\n",
        "V_mean = np.sqrt(counts_V_mean['0']/shots)\n",
        "print(\" |<V>| = \", V_mean, \",  ||<V>||^2 = \", np.abs(V_mean) ** 2)"
      ]
    },
    {
      "cell_type": "markdown",
      "id": "00ad3bd9-a960-4924-8edf-b42429db903e",
      "metadata": {
        "id": "00ad3bd9-a960-4924-8edf-b42429db903e"
      },
      "source": [
        "<div style=\"background-color:#c8e6c9\">\n",
        "<hr>\n",
        "<b>Ejercicio:</b>\n",
        "\n",
        "<!--\n",
        "<b> <font size=\"+1\"><span style=\"color:red\">[OPCIONAL, PARA OPTAR A NOTA] </span></font></b>\n",
        "-->\n",
        "\n",
        "Con el método Qiskit ```.to_matrix()``` de los operadores, como, U y V, se puede obtener la representación matricial de los mismos.\n",
        "\n",
        "A partir de dicha representación, determina numéricamente las siguientes espressiones, que son equivalentes a la medición anterior (nótese que $|\\Psi\\rangle = U |0\\rangle$ y $| \\tilde{\\Psi}\\rangle = U^{\\dagger} V U |0\\rangle$):\n",
        "\n",
        "- $||\\langle \\Psi | V| \\Psi\\rangle ||^2$\n",
        "- $||\\langle 0 | U^{\\dagger} V U | 0 \\rangle ||^2$\n",
        "- $||\\langle 0|\\tilde{\\Psi} \\rangle||^2$\n",
        "\n",
        "Observando los valores de las expresiones $\\langle \\Psi | V| \\Psi \\rangle$, $\\langle 0|\\tilde{\\Psi} \\rangle$:\n",
        "- ¿pueden tener un _valor complejo_ en este caso?\n",
        "\n",
        "<hr>\n",
        "</div>"
      ]
    },
    {
      "cell_type": "markdown",
      "id": "qMtdLwPJqm1r",
      "metadata": {
        "id": "qMtdLwPJqm1r"
      },
      "source": [
        "$||\\langle \\Psi | V| \\Psi\\rangle ||^2$"
      ]
    },
    {
      "cell_type": "code",
      "source": [
        "# Estado ket 0\n",
        "zero_ket = np.array([1,0])"
      ],
      "metadata": {
        "id": "aIFT5eLWbybl"
      },
      "id": "aIFT5eLWbybl",
      "execution_count": 38,
      "outputs": []
    },
    {
      "cell_type": "code",
      "execution_count": 43,
      "id": "hHw5c_SBqhE_",
      "metadata": {
        "id": "hHw5c_SBqhE_",
        "colab": {
          "base_uri": "https://localhost:8080/"
        },
        "outputId": "f6487f6b-f5d8-47d4-b3d8-b1e4942caa1f"
      },
      "outputs": [
        {
          "output_type": "stream",
          "name": "stdout",
          "text": [
            "(0.9337371317025526-0.15451395671589407j)\n",
            "0.8957395939401109\n"
          ]
        }
      ],
      "source": [
        "# Inicializamos el estado psi\n",
        "psi_state = np.dot(U.to_matrix(), zero_ket)\n",
        "# Operamos psi, V, psi\n",
        "v_psi = np.dot(V, psi_state)\n",
        "psi_v_psi = np.dot((np.conjugate(psi_state.T)), v_psi)\n",
        "print(psi_v_psi)\n",
        "# Mostramos resultado\n",
        "r_1 = np.abs(psi_v_psi)**2\n",
        "print(r_1)"
      ]
    },
    {
      "cell_type": "markdown",
      "id": "Q_iIWDlAqobH",
      "metadata": {
        "id": "Q_iIWDlAqobH"
      },
      "source": [
        "$||\\langle 0 | U^{\\dagger} V U | 0 \\rangle ||^2$"
      ]
    },
    {
      "cell_type": "code",
      "execution_count": 40,
      "id": "VIfOL7j1qo-m",
      "metadata": {
        "id": "VIfOL7j1qo-m",
        "colab": {
          "base_uri": "https://localhost:8080/"
        },
        "outputId": "3e593110-92a3-41ac-b963-8a8d36fa477a"
      },
      "outputs": [
        {
          "output_type": "stream",
          "name": "stdout",
          "text": [
            "0.8957395939401112\n"
          ]
        }
      ],
      "source": [
        "# Obtenemos la matriz resultante de las operaciones entre las matrices U dagger, V y U, la llamamos A\n",
        "A = np.dot(np.dot(U_dagger,V),U)\n",
        "zero_A = np.dot(A, zero_ket)\n",
        "zero_A_zero = np.dot(np.conjugate(zero_ket.T), zero_A)\n",
        "# Mostramos resultado\n",
        "r_2 = np.abs(zero_A_zero)**2\n",
        "print(r_2)"
      ]
    },
    {
      "cell_type": "markdown",
      "id": "vSyHAa32qpb0",
      "metadata": {
        "id": "vSyHAa32qpb0"
      },
      "source": [
        "$||\\langle 0|\\tilde{\\Psi} \\rangle||^2$"
      ]
    },
    {
      "cell_type": "code",
      "execution_count": 50,
      "id": "gUCYKHqQqrCv",
      "metadata": {
        "id": "gUCYKHqQqrCv",
        "colab": {
          "base_uri": "https://localhost:8080/"
        },
        "outputId": "a082ddae-ab19-4aa5-f0f8-b833f2cd97f1"
      },
      "outputs": [
        {
          "output_type": "stream",
          "name": "stdout",
          "text": [
            "[ 0.93373713-0.15451396j -0.29295764+0.13578007j]\n",
            "0.8957395939401112\n"
          ]
        }
      ],
      "source": [
        "# El estado psi_tilde, es el resultado de aplicar U dagger, V, U al estado zero, es decir A al estado 0\n",
        "zero_psi_tilde = np.dot(A, zero_ket)\n",
        "zero_psi_tilde_zero = np.dot(np.conjugate(zero_ket.T), zero_psi_tilde)\n",
        "# Mostramos resultado\n",
        "print(zero_psi_tilde)\n",
        "r_3 = np.abs(zero_psi_tilde_zero)**2\n",
        "print(r_3)\n"
      ]
    },
    {
      "cell_type": "markdown",
      "source": [
        "### Conclusión\n",
        "Como podemos ver, los tres resultados dan el mismo valor.\n",
        "\n",
        "En cuanto a si pueden o no devolver valor complejo, hemos mostrado el resultado antes de calcular el cuadrado del valor absoluto y observamos que tienen componente j (i), por tanto, si pueden tomar valor complejo."
      ],
      "metadata": {
        "id": "zcWu1t6Sjoa5"
      },
      "id": "zcWu1t6Sjoa5"
    },
    {
      "cell_type": "code",
      "execution_count": 49,
      "id": "3aaf7268-89d0-4cbd-93d3-2d661fc12001",
      "metadata": {
        "colab": {
          "base_uri": "https://localhost:8080/",
          "height": 311
        },
        "id": "3aaf7268-89d0-4cbd-93d3-2d661fc12001",
        "outputId": "f592baeb-c680-444d-b6dc-7e92dce96314"
      },
      "outputs": [
        {
          "output_type": "display_data",
          "data": {
            "text/plain": [
              "<IPython.core.display.HTML object>"
            ],
            "text/html": [
              "<h3>Version Information</h3><table><tr><th>Software</th><th>Version</th></tr><tr><td><code>qiskit</code></td><td>0.45.2</td></tr><tr><td><code>qiskit_ibm_runtime</code></td><td>0.20.0</td></tr><tr><td><code>qiskit_aer</code></td><td>0.14.2</td></tr><tr><th colspan='2'>System information</th></tr><tr><td>Python version</td><td>3.10.12</td></tr><tr><td>Python compiler</td><td>GCC 11.4.0</td></tr><tr><td>Python build</td><td>main, Sep 11 2024 15:47:36</td></tr><tr><td>OS</td><td>Linux</td></tr><tr><td>CPUs</td><td>1</td></tr><tr><td>Memory (Gb)</td><td>12.67477035522461</td></tr><tr><td colspan='2'>Sun Oct 20 06:12:53 2024 UTC</td></tr></table>"
            ]
          },
          "metadata": {}
        }
      ],
      "source": [
        "import qiskit\n",
        "from qiskit_aer import AerSimulator\n",
        "import qiskit.tools.jupyter\n",
        "%qiskit_version_table"
      ]
    },
    {
      "cell_type": "code",
      "source": [],
      "metadata": {
        "id": "FiXI4sNWjqRf"
      },
      "id": "FiXI4sNWjqRf",
      "execution_count": null,
      "outputs": []
    }
  ],
  "metadata": {
    "colab": {
      "provenance": []
    },
    "kernelspec": {
      "display_name": "Python 3 (ipykernel)",
      "language": "python",
      "name": "python3"
    },
    "language_info": {
      "codemirror_mode": {
        "name": "ipython",
        "version": 3
      },
      "file_extension": ".py",
      "mimetype": "text/x-python",
      "name": "python",
      "nbconvert_exporter": "python",
      "pygments_lexer": "ipython3",
      "version": "3.12.5"
    }
  },
  "nbformat": 4,
  "nbformat_minor": 5
}