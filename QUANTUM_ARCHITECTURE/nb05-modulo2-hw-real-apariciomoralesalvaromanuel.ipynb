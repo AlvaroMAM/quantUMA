{
  "cells": [
    {
      "cell_type": "markdown",
      "id": "6c521b83",
      "metadata": {
        "id": "6c521b83"
      },
      "source": [
        "**Bloque 2**: Arquitecturas Cuánticas  \n",
        "**Alumno**: Álvaro Manuel Aparicio Morales  \n",
        "*I Certificado de Extensión Universitaria en Computación Cuántica*"
      ]
    },
    {
      "cell_type": "code",
      "execution_count": 4,
      "id": "cdfc07da-b773-4048-a6b8-1258f41edd85",
      "metadata": {
        "collapsed": true,
        "id": "cdfc07da-b773-4048-a6b8-1258f41edd85",
        "outputId": "e3a51130-f50c-43d5-ac43-f10b748e6ee7",
        "colab": {
          "base_uri": "https://localhost:8080/"
        }
      },
      "outputs": [
        {
          "output_type": "stream",
          "name": "stdout",
          "text": [
            "In colab, let's install things...\n",
            "Collecting qiskit==1.2.2 (from qiskit[visualization]==1.2.2)\n",
            "  Downloading qiskit-1.2.2-cp38-abi3-manylinux_2_17_x86_64.manylinux2014_x86_64.whl.metadata (12 kB)\n",
            "Collecting qiskit-aer\n",
            "  Downloading qiskit_aer-0.15.1-cp310-cp310-manylinux_2_17_x86_64.manylinux2014_x86_64.whl.metadata (8.0 kB)\n",
            "Collecting qiskit-ibm-runtime\n",
            "  Downloading qiskit_ibm_runtime-0.31.0-py3-none-any.whl.metadata (19 kB)\n",
            "Collecting rustworkx>=0.15.0 (from qiskit==1.2.2->qiskit[visualization]==1.2.2)\n",
            "  Downloading rustworkx-0.15.1-cp38-abi3-manylinux_2_17_x86_64.manylinux2014_x86_64.whl.metadata (9.9 kB)\n",
            "Requirement already satisfied: numpy<3,>=1.17 in /usr/local/lib/python3.10/dist-packages (from qiskit==1.2.2->qiskit[visualization]==1.2.2) (1.26.4)\n",
            "Requirement already satisfied: scipy>=1.5 in /usr/local/lib/python3.10/dist-packages (from qiskit==1.2.2->qiskit[visualization]==1.2.2) (1.13.1)\n",
            "Requirement already satisfied: sympy>=1.3 in /usr/local/lib/python3.10/dist-packages (from qiskit==1.2.2->qiskit[visualization]==1.2.2) (1.13.3)\n",
            "Collecting dill>=0.3 (from qiskit==1.2.2->qiskit[visualization]==1.2.2)\n",
            "  Downloading dill-0.3.9-py3-none-any.whl.metadata (10 kB)\n",
            "Requirement already satisfied: python-dateutil>=2.8.0 in /usr/local/lib/python3.10/dist-packages (from qiskit==1.2.2->qiskit[visualization]==1.2.2) (2.8.2)\n",
            "Collecting stevedore>=3.0.0 (from qiskit==1.2.2->qiskit[visualization]==1.2.2)\n",
            "  Downloading stevedore-5.3.0-py3-none-any.whl.metadata (2.3 kB)\n",
            "Requirement already satisfied: typing-extensions in /usr/local/lib/python3.10/dist-packages (from qiskit==1.2.2->qiskit[visualization]==1.2.2) (4.12.2)\n",
            "Collecting symengine>=0.11 (from qiskit==1.2.2->qiskit[visualization]==1.2.2)\n",
            "  Downloading symengine-0.13.0-cp310-cp310-manylinux_2_17_x86_64.manylinux2014_x86_64.whl.metadata (1.2 kB)\n",
            "Requirement already satisfied: matplotlib>=3.3 in /usr/local/lib/python3.10/dist-packages (from qiskit[visualization]==1.2.2) (3.7.1)\n",
            "Requirement already satisfied: pydot in /usr/local/lib/python3.10/dist-packages (from qiskit[visualization]==1.2.2) (3.0.2)\n",
            "Requirement already satisfied: Pillow>=4.2.1 in /usr/local/lib/python3.10/dist-packages (from qiskit[visualization]==1.2.2) (10.4.0)\n",
            "Collecting pylatexenc>=1.4 (from qiskit[visualization]==1.2.2)\n",
            "  Downloading pylatexenc-2.10.tar.gz (162 kB)\n",
            "\u001b[2K     \u001b[90m━━━━━━━━━━━━━━━━━━━━━━━━━━━━━━━━━━━━━━━━\u001b[0m \u001b[32m162.6/162.6 kB\u001b[0m \u001b[31m15.2 MB/s\u001b[0m eta \u001b[36m0:00:00\u001b[0m\n",
            "\u001b[?25h  Preparing metadata (setup.py) ... \u001b[?25l\u001b[?25hdone\n",
            "Requirement already satisfied: seaborn>=0.9.0 in /usr/local/lib/python3.10/dist-packages (from qiskit[visualization]==1.2.2) (0.13.2)\n",
            "Requirement already satisfied: psutil>=5 in /usr/local/lib/python3.10/dist-packages (from qiskit-aer) (5.9.5)\n",
            "Requirement already satisfied: requests>=2.19 in /usr/local/lib/python3.10/dist-packages (from qiskit-ibm-runtime) (2.32.3)\n",
            "Collecting requests-ntlm>=1.1.0 (from qiskit-ibm-runtime)\n",
            "  Downloading requests_ntlm-1.3.0-py3-none-any.whl.metadata (2.4 kB)\n",
            "Requirement already satisfied: urllib3>=1.21.1 in /usr/local/lib/python3.10/dist-packages (from qiskit-ibm-runtime) (2.2.3)\n",
            "Requirement already satisfied: websocket-client>=1.5.1 in /usr/local/lib/python3.10/dist-packages (from qiskit-ibm-runtime) (1.8.0)\n",
            "Collecting ibm-platform-services>=0.22.6 (from qiskit-ibm-runtime)\n",
            "  Downloading ibm_platform_services-0.57.2-py3-none-any.whl.metadata (9.1 kB)\n",
            "Requirement already satisfied: pydantic>=2.5.0 in /usr/local/lib/python3.10/dist-packages (from qiskit-ibm-runtime) (2.9.2)\n",
            "Collecting ibm-cloud-sdk-core<4.0.0,>=3.22.0 (from ibm-platform-services>=0.22.6->qiskit-ibm-runtime)\n",
            "  Downloading ibm_cloud_sdk_core-3.22.0-py3-none-any.whl.metadata (8.6 kB)\n",
            "Requirement already satisfied: contourpy>=1.0.1 in /usr/local/lib/python3.10/dist-packages (from matplotlib>=3.3->qiskit[visualization]==1.2.2) (1.3.0)\n",
            "Requirement already satisfied: cycler>=0.10 in /usr/local/lib/python3.10/dist-packages (from matplotlib>=3.3->qiskit[visualization]==1.2.2) (0.12.1)\n",
            "Requirement already satisfied: fonttools>=4.22.0 in /usr/local/lib/python3.10/dist-packages (from matplotlib>=3.3->qiskit[visualization]==1.2.2) (4.54.1)\n",
            "Requirement already satisfied: kiwisolver>=1.0.1 in /usr/local/lib/python3.10/dist-packages (from matplotlib>=3.3->qiskit[visualization]==1.2.2) (1.4.7)\n",
            "Requirement already satisfied: packaging>=20.0 in /usr/local/lib/python3.10/dist-packages (from matplotlib>=3.3->qiskit[visualization]==1.2.2) (24.1)\n",
            "Requirement already satisfied: pyparsing>=2.3.1 in /usr/local/lib/python3.10/dist-packages (from matplotlib>=3.3->qiskit[visualization]==1.2.2) (3.2.0)\n",
            "Requirement already satisfied: annotated-types>=0.6.0 in /usr/local/lib/python3.10/dist-packages (from pydantic>=2.5.0->qiskit-ibm-runtime) (0.7.0)\n",
            "Requirement already satisfied: pydantic-core==2.23.4 in /usr/local/lib/python3.10/dist-packages (from pydantic>=2.5.0->qiskit-ibm-runtime) (2.23.4)\n",
            "Requirement already satisfied: six>=1.5 in /usr/local/lib/python3.10/dist-packages (from python-dateutil>=2.8.0->qiskit==1.2.2->qiskit[visualization]==1.2.2) (1.16.0)\n",
            "Requirement already satisfied: charset-normalizer<4,>=2 in /usr/local/lib/python3.10/dist-packages (from requests>=2.19->qiskit-ibm-runtime) (3.4.0)\n",
            "Requirement already satisfied: idna<4,>=2.5 in /usr/local/lib/python3.10/dist-packages (from requests>=2.19->qiskit-ibm-runtime) (3.10)\n",
            "Requirement already satisfied: certifi>=2017.4.17 in /usr/local/lib/python3.10/dist-packages (from requests>=2.19->qiskit-ibm-runtime) (2024.8.30)\n",
            "Requirement already satisfied: cryptography>=1.3 in /usr/local/lib/python3.10/dist-packages (from requests-ntlm>=1.1.0->qiskit-ibm-runtime) (43.0.1)\n",
            "Collecting pyspnego>=0.4.0 (from requests-ntlm>=1.1.0->qiskit-ibm-runtime)\n",
            "  Downloading pyspnego-0.11.1-py3-none-any.whl.metadata (5.4 kB)\n",
            "Requirement already satisfied: pandas>=1.2 in /usr/local/lib/python3.10/dist-packages (from seaborn>=0.9.0->qiskit[visualization]==1.2.2) (2.2.2)\n",
            "Collecting pbr>=2.0.0 (from stevedore>=3.0.0->qiskit==1.2.2->qiskit[visualization]==1.2.2)\n",
            "  Downloading pbr-6.1.0-py2.py3-none-any.whl.metadata (3.4 kB)\n",
            "Requirement already satisfied: mpmath<1.4,>=1.1.0 in /usr/local/lib/python3.10/dist-packages (from sympy>=1.3->qiskit==1.2.2->qiskit[visualization]==1.2.2) (1.3.0)\n",
            "Requirement already satisfied: cffi>=1.12 in /usr/local/lib/python3.10/dist-packages (from cryptography>=1.3->requests-ntlm>=1.1.0->qiskit-ibm-runtime) (1.17.1)\n",
            "Requirement already satisfied: PyJWT<3.0.0,>=2.8.0 in /usr/local/lib/python3.10/dist-packages (from ibm-cloud-sdk-core<4.0.0,>=3.22.0->ibm-platform-services>=0.22.6->qiskit-ibm-runtime) (2.9.0)\n",
            "Requirement already satisfied: pytz>=2020.1 in /usr/local/lib/python3.10/dist-packages (from pandas>=1.2->seaborn>=0.9.0->qiskit[visualization]==1.2.2) (2024.2)\n",
            "Requirement already satisfied: tzdata>=2022.7 in /usr/local/lib/python3.10/dist-packages (from pandas>=1.2->seaborn>=0.9.0->qiskit[visualization]==1.2.2) (2024.2)\n",
            "Requirement already satisfied: pycparser in /usr/local/lib/python3.10/dist-packages (from cffi>=1.12->cryptography>=1.3->requests-ntlm>=1.1.0->qiskit-ibm-runtime) (2.22)\n",
            "Downloading qiskit-1.2.2-cp38-abi3-manylinux_2_17_x86_64.manylinux2014_x86_64.whl (4.7 MB)\n",
            "\u001b[2K   \u001b[90m━━━━━━━━━━━━━━━━━━━━━━━━━━━━━━━━━━━━━━━━\u001b[0m \u001b[32m4.7/4.7 MB\u001b[0m \u001b[31m69.8 MB/s\u001b[0m eta \u001b[36m0:00:00\u001b[0m\n",
            "\u001b[?25hDownloading qiskit_aer-0.15.1-cp310-cp310-manylinux_2_17_x86_64.manylinux2014_x86_64.whl (12.3 MB)\n",
            "\u001b[2K   \u001b[90m━━━━━━━━━━━━━━━━━━━━━━━━━━━━━━━━━━━━━━━━\u001b[0m \u001b[32m12.3/12.3 MB\u001b[0m \u001b[31m95.7 MB/s\u001b[0m eta \u001b[36m0:00:00\u001b[0m\n",
            "\u001b[?25hDownloading qiskit_ibm_runtime-0.31.0-py3-none-any.whl (2.9 MB)\n",
            "\u001b[2K   \u001b[90m━━━━━━━━━━━━━━━━━━━━━━━━━━━━━━━━━━━━━━━━\u001b[0m \u001b[32m2.9/2.9 MB\u001b[0m \u001b[31m77.2 MB/s\u001b[0m eta \u001b[36m0:00:00\u001b[0m\n",
            "\u001b[?25hDownloading dill-0.3.9-py3-none-any.whl (119 kB)\n",
            "\u001b[2K   \u001b[90m━━━━━━━━━━━━━━━━━━━━━━━━━━━━━━━━━━━━━━━━\u001b[0m \u001b[32m119.4/119.4 kB\u001b[0m \u001b[31m10.4 MB/s\u001b[0m eta \u001b[36m0:00:00\u001b[0m\n",
            "\u001b[?25hDownloading ibm_platform_services-0.57.2-py3-none-any.whl (343 kB)\n",
            "\u001b[2K   \u001b[90m━━━━━━━━━━━━━━━━━━━━━━━━━━━━━━━━━━━━━━━━\u001b[0m \u001b[32m343.3/343.3 kB\u001b[0m \u001b[31m30.5 MB/s\u001b[0m eta \u001b[36m0:00:00\u001b[0m\n",
            "\u001b[?25hDownloading requests_ntlm-1.3.0-py3-none-any.whl (6.6 kB)\n",
            "Downloading rustworkx-0.15.1-cp38-abi3-manylinux_2_17_x86_64.manylinux2014_x86_64.whl (2.0 MB)\n",
            "\u001b[2K   \u001b[90m━━━━━━━━━━━━━━━━━━━━━━━━━━━━━━━━━━━━━━━━\u001b[0m \u001b[32m2.0/2.0 MB\u001b[0m \u001b[31m73.5 MB/s\u001b[0m eta \u001b[36m0:00:00\u001b[0m\n",
            "\u001b[?25hDownloading stevedore-5.3.0-py3-none-any.whl (49 kB)\n",
            "\u001b[2K   \u001b[90m━━━━━━━━━━━━━━━━━━━━━━━━━━━━━━━━━━━━━━━━\u001b[0m \u001b[32m49.7/49.7 kB\u001b[0m \u001b[31m4.4 MB/s\u001b[0m eta \u001b[36m0:00:00\u001b[0m\n",
            "\u001b[?25hDownloading symengine-0.13.0-cp310-cp310-manylinux_2_17_x86_64.manylinux2014_x86_64.whl (49.7 MB)\n",
            "\u001b[2K   \u001b[90m━━━━━━━━━━━━━━━━━━━━━━━━━━━━━━━━━━━━━━━━\u001b[0m \u001b[32m49.7/49.7 MB\u001b[0m \u001b[31m15.8 MB/s\u001b[0m eta \u001b[36m0:00:00\u001b[0m\n",
            "\u001b[?25hDownloading ibm_cloud_sdk_core-3.22.0-py3-none-any.whl (69 kB)\n",
            "\u001b[2K   \u001b[90m━━━━━━━━━━━━━━━━━━━━━━━━━━━━━━━━━━━━━━━━\u001b[0m \u001b[32m69.4/69.4 kB\u001b[0m \u001b[31m6.2 MB/s\u001b[0m eta \u001b[36m0:00:00\u001b[0m\n",
            "\u001b[?25hDownloading pbr-6.1.0-py2.py3-none-any.whl (108 kB)\n",
            "\u001b[2K   \u001b[90m━━━━━━━━━━━━━━━━━━━━━━━━━━━━━━━━━━━━━━━━\u001b[0m \u001b[32m108.5/108.5 kB\u001b[0m \u001b[31m10.4 MB/s\u001b[0m eta \u001b[36m0:00:00\u001b[0m\n",
            "\u001b[?25hDownloading pyspnego-0.11.1-py3-none-any.whl (130 kB)\n",
            "\u001b[2K   \u001b[90m━━━━━━━━━━━━━━━━━━━━━━━━━━━━━━━━━━━━━━━━\u001b[0m \u001b[32m130.5/130.5 kB\u001b[0m \u001b[31m12.8 MB/s\u001b[0m eta \u001b[36m0:00:00\u001b[0m\n",
            "\u001b[?25hBuilding wheels for collected packages: pylatexenc\n",
            "  Building wheel for pylatexenc (setup.py) ... \u001b[?25l\u001b[?25hdone\n",
            "  Created wheel for pylatexenc: filename=pylatexenc-2.10-py3-none-any.whl size=136816 sha256=0a9e4737adbbc1dbd6741a51a3862799da99caf49cc143add2e2bdfe7d47c1b9\n",
            "  Stored in directory: /root/.cache/pip/wheels/d3/31/8b/e09b0386afd80cfc556c00408c9aeea5c35c4d484a9c762fd5\n",
            "Successfully built pylatexenc\n",
            "Installing collected packages: pylatexenc, symengine, rustworkx, pbr, dill, stevedore, ibm-cloud-sdk-core, qiskit, pyspnego, ibm-platform-services, requests-ntlm, qiskit-aer, qiskit-ibm-runtime\n",
            "Successfully installed dill-0.3.9 ibm-cloud-sdk-core-3.22.0 ibm-platform-services-0.57.2 pbr-6.1.0 pylatexenc-2.10 pyspnego-0.11.1 qiskit-1.2.2 qiskit-aer-0.15.1 qiskit-ibm-runtime-0.31.0 requests-ntlm-1.3.0 rustworkx-0.15.1 stevedore-5.3.0 symengine-0.13.0\n"
          ]
        }
      ],
      "source": [
        "# No olvidar que en \"google colab\" hay que instalar qiskit\n",
        "\n",
        "########################\n",
        "# PARA LANZAR EN EL HW DE IBM\n",
        "# SE REQUIERE LA ÚLTIMA VERSIÓN\n",
        "########################\n",
        "# Instalar versión 1.2.2\n",
        "########################\n",
        "# Importante, poner qiskit-aer en la misma linea de \"pip install\" para que coja la versión adecuada\n",
        "try:\n",
        "    import google.colab\n",
        "    print(\"In colab, let's install things...\")\n",
        "    #\n",
        "    !pip install qiskit[visualization]==1.2.2 qiskit-aer qiskit-ibm-runtime\n",
        "except ImportError:\n",
        "    print(\"NOT in colab\")"
      ]
    },
    {
      "cell_type": "code",
      "execution_count": 5,
      "id": "3aaf7268-89d0-4cbd-93d3-2d661fc12001",
      "metadata": {
        "id": "3aaf7268-89d0-4cbd-93d3-2d661fc12001",
        "outputId": "e853ccaf-ab41-422a-f54d-01ca06191f92",
        "colab": {
          "base_uri": "https://localhost:8080/"
        }
      },
      "outputs": [
        {
          "output_type": "stream",
          "name": "stdout",
          "text": [
            "Qiskit version 1.2.2\n",
            "Numpy version 1.26.4\n",
            "Scipy version 1.13.1\n"
          ]
        }
      ],
      "source": [
        "import qiskit\n",
        "from qiskit_aer import AerSimulator\n",
        "print('Qiskit version', qiskit.__version__)\n",
        "import numpy\n",
        "import scipy\n",
        "print(\"Numpy version\", numpy.__version__)\n",
        "print(\"Scipy version\", scipy.__version__)"
      ]
    },
    {
      "cell_type": "code",
      "execution_count": 6,
      "id": "0e7883d6-0e8f-4f24-af8f-228c4c79e46f",
      "metadata": {
        "id": "0e7883d6-0e8f-4f24-af8f-228c4c79e46f"
      },
      "outputs": [],
      "source": [
        "from IPython.display import display, Latex, Markdown\n",
        "from matplotlib import pyplot as plt\n",
        "import scipy.linalg as la\n",
        "import numpy as np"
      ]
    },
    {
      "cell_type": "code",
      "execution_count": 7,
      "id": "83412cb3-3dac-4059-b2c1-ab9eb7e07fd4",
      "metadata": {
        "id": "83412cb3-3dac-4059-b2c1-ab9eb7e07fd4"
      },
      "outputs": [],
      "source": [
        "from qiskit.circuit import QuantumRegister, ClassicalRegister,QuantumCircuit\n",
        "from qiskit_aer import AerSimulator\n",
        "from qiskit import transpile\n",
        "from qiskit.quantum_info import Statevector\n",
        "from qiskit.quantum_info import Statevector, schmidt_decomposition\n",
        "from qiskit.visualization import plot_histogram, plot_bloch_multivector, array_to_latex"
      ]
    },
    {
      "cell_type": "markdown",
      "id": "565004f4-9361-40cb-b9b5-1cdc6939c9f8",
      "metadata": {
        "id": "565004f4-9361-40cb-b9b5-1cdc6939c9f8"
      },
      "source": [
        "<a id='sec_Notebooks_Circ_1_qubit_2'></a>\n",
        "## Envío de trabajos a un ordenador real de IBM   "
      ]
    },
    {
      "cell_type": "markdown",
      "id": "7857239b-9053-4fb7-a8e5-6d6a98a76ab3",
      "metadata": {
        "id": "7857239b-9053-4fb7-a8e5-6d6a98a76ab3"
      },
      "source": [
        "Para enviar trabajos a los ordenadores cuánticos de IBM, **en primer lugar necesitamos es una cuenta en [IBMid](https://quantum-computing.ibm.com/).**\n",
        "\n",
        "Una vez creada la cuenta, hay que tomar el **token** que aparece en la página principal. Este lo pegamos en la línea comentada más abajo, cuando el cliente realiza la conexión."
      ]
    },
    {
      "cell_type": "markdown",
      "id": "37bb73a3-25bd-4c2e-8c6f-39b42824324a",
      "metadata": {
        "id": "37bb73a3-25bd-4c2e-8c6f-39b42824324a"
      },
      "source": [
        "Vamos a usar ```qiskit_ibm_runtime``` para mandar trabajos y vamos a usar la primitive sampler\n",
        "- Mas información sobre como guardar la cuenta: https://docs.quantum.ibm.com/guides/setup-channel\n",
        "- Más información sobre las primitives: https://docs.quantum.ibm.com/guides/get-started-with-primitives\n",
        "- Más información sobre lanzar sobre el HW real: https://docs.quantum.ibm.com/guides/hello-world#step-4-analyze-the-results"
      ]
    },
    {
      "cell_type": "markdown",
      "id": "481542bb-a4b4-480a-ad48-3b0fe97869e3",
      "metadata": {
        "id": "481542bb-a4b4-480a-ad48-3b0fe97869e3"
      },
      "source": [
        "### Creamos un circuito para probar"
      ]
    },
    {
      "cell_type": "code",
      "execution_count": 8,
      "id": "39aaa46e-2493-4a8c-b7c5-e68ff842297d",
      "metadata": {
        "id": "39aaa46e-2493-4a8c-b7c5-e68ff842297d",
        "outputId": "897e4c4b-69ed-4f32-e9f8-e3be235456b4",
        "colab": {
          "base_uri": "https://localhost:8080/",
          "height": 191
        }
      },
      "outputs": [
        {
          "output_type": "display_data",
          "data": {
            "text/plain": [
              "<Figure size 287.294x200.667 with 1 Axes>"
            ],
            "image/png": "[encoded data removed]"
          },
          "metadata": {}
        }
      ],
      "source": [
        "# Creamos el circuito pasandole los registros\n",
        "qr = QuantumRegister(1)\n",
        "cr = ClassicalRegister(1)\n",
        "circuit_H = QuantumCircuit(qr, cr)\n",
        "\n",
        "# Añadimos la puerta X al primer (y único) qúbit\n",
        "circuit_H.h(0)\n",
        "\n",
        "# Añadimos el medidor\n",
        "circuit_H.measure(qr, cr)\n",
        "\n",
        "# Podemos dibujarlo como figura de matplolib\n",
        "display(circuit_H.draw(output='mpl', style=\"iqp\"))"
      ]
    },
    {
      "cell_type": "markdown",
      "id": "167f2543-c3fc-4f29-b777-c21c4721bcf1",
      "metadata": {
        "id": "167f2543-c3fc-4f29-b777-c21c4721bcf1"
      },
      "source": [
        "### Inicializamos la cuenta"
      ]
    },
    {
      "cell_type": "markdown",
      "id": "07b471fa-f581-4994-873d-499d0cec078d",
      "metadata": {
        "id": "07b471fa-f581-4994-873d-499d0cec078d"
      },
      "source": [
        "Dado que Qiskit Runtime `Sampler` es un servicio gestionado, primero debe inicializar su cuenta. A continuación, puede seleccionar el simulador o el sistema real que desea utilizar para calcular el valor esperado"
      ]
    },
    {
      "cell_type": "code",
      "execution_count": 9,
      "id": "c7e490e9-0f53-4c1f-a93b-64be0c867025",
      "metadata": {
        "scrolled": true,
        "id": "c7e490e9-0f53-4c1f-a93b-64be0c867025"
      },
      "outputs": [],
      "source": [
        "from qiskit_ibm_runtime import QiskitRuntimeService\n",
        "\n",
        "# Save an IBM Quantum account and set it as your default account.\n",
        "#MY_API_TOKEN=\"...\"\n",
        "QiskitRuntimeService.save_account(\n",
        "    channel=\"ibm_quantum\",\n",
        "    token='1f70a0e1c72555855d405f751ac87171ae486bda6ff2bcc0beebdd7d3cde450b6293f72c5dc587a5b13c9b801ed510fd540e84bb2b9476c2ac50ce529604aa1d',\n",
        "    set_as_default=True,\n",
        "    # Use `overwrite=True` if you're updating your token.\n",
        "    overwrite=True,\n",
        ")\n",
        "\n",
        "service = QiskitRuntimeService()\n",
        "backend = service.least_busy(operational=True, simulator=False, min_num_qubits=5)"
      ]
    },
    {
      "cell_type": "markdown",
      "id": "024165d5-07c3-4b8e-bf60-707f4e97d361",
      "metadata": {
        "id": "024165d5-07c3-4b8e-bf60-707f4e97d361"
      },
      "source": [
        "Veamos el backend (ordenador) escogido:"
      ]
    },
    {
      "cell_type": "code",
      "execution_count": 10,
      "id": "8f4c389b-2056-45cb-9326-eaa5728f56a8",
      "metadata": {
        "scrolled": true,
        "id": "8f4c389b-2056-45cb-9326-eaa5728f56a8",
        "outputId": "0e3f3d0b-4b7f-4c74-faa1-9640acf07e8c",
        "colab": {
          "base_uri": "https://localhost:8080/"
        }
      },
      "outputs": [
        {
          "output_type": "stream",
          "name": "stdout",
          "text": [
            "<IBMBackend('ibm_brisbane')>\n"
          ]
        }
      ],
      "source": [
        "print(backend)"
      ]
    },
    {
      "cell_type": "markdown",
      "id": "a5c83201-bd3d-4019-92a0-d07842bbbe09",
      "metadata": {
        "id": "a5c83201-bd3d-4019-92a0-d07842bbbe09"
      },
      "source": [
        "### Preparamos el circuito"
      ]
    },
    {
      "cell_type": "markdown",
      "id": "4138f94c-80bd-4fb0-b1f2-3ce20c373774",
      "metadata": {
        "id": "4138f94c-80bd-4fb0-b1f2-3ce20c373774"
      },
      "source": [
        "Vamos a mandar a ejecutar en hardware real el circuito de la puerta H.\n",
        "\n",
        "Para ello, primero tenemos que generarl el ISA circuit"
      ]
    },
    {
      "cell_type": "code",
      "execution_count": 11,
      "id": "04164261-a17a-4259-befe-7fe5b89decdd",
      "metadata": {
        "id": "04164261-a17a-4259-befe-7fe5b89decdd"
      },
      "outputs": [],
      "source": [
        "from qiskit.transpiler.preset_passmanagers import generate_preset_pass_manager\n",
        "\n",
        "pm = generate_preset_pass_manager(optimization_level=1, backend=backend)\n",
        "isa_circuit_H = pm.run(circuit_H)"
      ]
    },
    {
      "cell_type": "markdown",
      "id": "a43486e5-4263-4755-b4fe-cf490cd3e1a7",
      "metadata": {
        "id": "a43486e5-4263-4755-b4fe-cf490cd3e1a7"
      },
      "source": [
        "### Inicializamos el Qiskit Runtime Sampler"
      ]
    },
    {
      "cell_type": "markdown",
      "id": "17b2b6a8-f349-40c6-a42c-e41b454e2a3a",
      "metadata": {
        "id": "17b2b6a8-f349-40c6-a42c-e41b454e2a3a"
      },
      "source": [
        "Al inicializar el `Sampler`, utilice el parámetro `mode` para especificar el modo en el que desea que se ejecute."
      ]
    },
    {
      "cell_type": "code",
      "execution_count": 12,
      "id": "8d8cd040-5bad-42f2-a43b-85bb96e9a51a",
      "metadata": {
        "id": "8d8cd040-5bad-42f2-a43b-85bb96e9a51a"
      },
      "outputs": [],
      "source": [
        "#from qiskit_ibm_runtime import Sampler\n",
        "#sampler = Sampler(backend=backend)\n",
        "\n",
        "#Para versiones modernas de Qiskit\n",
        "from qiskit_ibm_runtime import SamplerV2 as Sampler\n",
        "sampler = Sampler(mode=backend)"
      ]
    },
    {
      "cell_type": "markdown",
      "id": "904e9351-4748-49dc-9ceb-cff96940191c",
      "metadata": {
        "id": "904e9351-4748-49dc-9ceb-cff96940191c"
      },
      "source": [
        "### Invocamos el sampler y obtenemos los resultados"
      ]
    },
    {
      "cell_type": "code",
      "execution_count": 13,
      "id": "71683f74-8c7c-4653-bff1-5b8dea3bc0b2",
      "metadata": {
        "id": "71683f74-8c7c-4653-bff1-5b8dea3bc0b2",
        "outputId": "65fa6b10-80f6-47a8-93d3-daa4f634b9ea",
        "colab": {
          "base_uri": "https://localhost:8080/"
        }
      },
      "outputs": [
        {
          "output_type": "stream",
          "name": "stdout",
          "text": [
            ">>> Job ID: cw9vsgp2802g0081nxs0\n",
            ">>> Job Status: QUEUED\n"
          ]
        }
      ],
      "source": [
        "job = sampler.run([isa_circuit_H])\n",
        "print(f\">>> Job ID: {job.job_id()}\")\n",
        "print(f\">>> Job Status: {job.status()}\")"
      ]
    },
    {
      "cell_type": "markdown",
      "id": "5caaca16-19f3-48e4-9d0c-1a3359078e4e",
      "metadata": {
        "id": "5caaca16-19f3-48e4-9d0c-1a3359078e4e"
      },
      "source": [
        "Podemos monitorizar desde el notebook en que estado está nuestro trabajo.\n",
        "\n",
        "Otra opción es hacerlo desde la web de los servicios cuánticos de IBM: **[https://quantum-computing.ibm.com/jobs](https://quantum-computing.ibm.com/jobs)**\n",
        "\n",
        "La celda siguiente podemos correrla tantas veces como queramos para ver como está nuestro trabajo."
      ]
    },
    {
      "cell_type": "code",
      "execution_count": 14,
      "id": "cc7ff9fa-623f-4402-b472-cb9185a21c07",
      "metadata": {
        "scrolled": true,
        "id": "cc7ff9fa-623f-4402-b472-cb9185a21c07",
        "outputId": "1ec25a1e-c766-4ac9-b90b-2013b8e311ed",
        "colab": {
          "base_uri": "https://localhost:8080/",
          "height": 36
        }
      },
      "outputs": [
        {
          "output_type": "execute_result",
          "data": {
            "text/plain": [
              "'QUEUED'"
            ],
            "application/vnd.google.colaboratory.intrinsic+json": {
              "type": "string"
            }
          },
          "metadata": {},
          "execution_count": 14
        }
      ],
      "source": [
        "job.status()"
      ]
    },
    {
      "cell_type": "code",
      "execution_count": 15,
      "id": "56a48a12-08c6-46d8-aa63-16c605279ff8",
      "metadata": {
        "id": "56a48a12-08c6-46d8-aa63-16c605279ff8"
      },
      "outputs": [],
      "source": [
        "import time\n",
        "time.sleep(30)"
      ]
    },
    {
      "cell_type": "code",
      "execution_count": 16,
      "id": "21f464a5-ca4b-4fbf-aab9-2b49fe800e00",
      "metadata": {
        "id": "21f464a5-ca4b-4fbf-aab9-2b49fe800e00",
        "colab": {
          "base_uri": "https://localhost:8080/",
          "height": 36
        },
        "outputId": "db123a6e-c095-4a25-eec1-5d16c26f9fb4"
      },
      "outputs": [
        {
          "output_type": "execute_result",
          "data": {
            "text/plain": [
              "'QUEUED'"
            ],
            "application/vnd.google.colaboratory.intrinsic+json": {
              "type": "string"
            }
          },
          "metadata": {},
          "execution_count": 16
        }
      ],
      "source": [
        "job.status()"
      ]
    },
    {
      "cell_type": "code",
      "execution_count": 17,
      "id": "dfa9b051-d3ce-44b5-bb10-1da1fef832c5",
      "metadata": {
        "id": "dfa9b051-d3ce-44b5-bb10-1da1fef832c5",
        "colab": {
          "base_uri": "https://localhost:8080/"
        },
        "outputId": "77225755-c105-4ad8-a717-9164e9c9cc47"
      },
      "outputs": [
        {
          "output_type": "stream",
          "name": "stdout",
          "text": [
            "QUEUED\n"
          ]
        }
      ],
      "source": [
        "print(job.status())"
      ]
    },
    {
      "cell_type": "markdown",
      "id": "70c510cf-2b4f-4a34-96d2-f35d16c5f877",
      "metadata": {
        "id": "70c510cf-2b4f-4a34-96d2-f35d16c5f877"
      },
      "source": [
        "También podemos usar el job_monitor, que se actualiza solo sin tener que ejecutar varias veces la celda."
      ]
    },
    {
      "cell_type": "code",
      "execution_count": null,
      "id": "f9c74836-26b9-4cf6-82a7-512c3ff595cd",
      "metadata": {
        "id": "f9c74836-26b9-4cf6-82a7-512c3ff595cd"
      },
      "outputs": [],
      "source": [
        "#job_monitor(job, interval = 10, line_discipline = '\\n')"
      ]
    },
    {
      "cell_type": "code",
      "source": [
        "jobs = service.jobs()\n",
        "display(jobs)\n",
        "print(\"---\")\n",
        "\n",
        "previous_job = jobs[1]\n",
        "display(previous_job)\n",
        "print(\"Previous---\")\n",
        "job = previous_job"
      ],
      "metadata": {
        "colab": {
          "base_uri": "https://localhost:8080/",
          "height": 138
        },
        "id": "FLAYsyD3H1Tr",
        "outputId": "471543a3-7865-4174-a630-1fdb2c82f6a9"
      },
      "id": "FLAYsyD3H1Tr",
      "execution_count": 30,
      "outputs": [
        {
          "output_type": "display_data",
          "data": {
            "text/plain": [
              "[<RuntimeJob('cw9vsgp2802g0081nxs0', 'sampler')>,\n",
              " <RuntimeJob('cw9s5qpjyrs0008h0ap0', 'sampler')>,\n",
              " <RuntimeJob('cw9rvenjzdhg008eh0wg', 'sampler')>,\n",
              " <RuntimeJob('ctknrwb6g3rg00871c10', 'estimator')>]"
            ]
          },
          "metadata": {}
        },
        {
          "output_type": "stream",
          "name": "stdout",
          "text": [
            "---\n"
          ]
        },
        {
          "output_type": "display_data",
          "data": {
            "text/plain": [
              "<RuntimeJob('cw9s5qpjyrs0008h0ap0', 'sampler')>"
            ]
          },
          "metadata": {}
        },
        {
          "output_type": "stream",
          "name": "stdout",
          "text": [
            "Previous---\n"
          ]
        }
      ]
    },
    {
      "cell_type": "code",
      "execution_count": 31,
      "id": "e48a61b0-6585-4cf0-9131-e5cf3d34b202",
      "metadata": {
        "id": "e48a61b0-6585-4cf0-9131-e5cf3d34b202",
        "colab": {
          "base_uri": "https://localhost:8080/"
        },
        "outputId": "cdf5452a-5c6f-4aa9-e1e8-25fcc1896d6d"
      },
      "outputs": [
        {
          "output_type": "stream",
          "name": "stdout",
          "text": [
            ">>> PrimitiveResult([SamplerPubResult(data=DataBin(c0=BitArray(<shape=(), num_shots=4096, num_bits=1>)), metadata={'circuit_metadata': {}})], metadata={'execution': {'execution_spans': ExecutionSpans([SliceSpan(<start='2024-10-19 11:44:07', stop='2024-10-19 11:44:18', size=4096>)])}, 'version': 2})\n",
            "\n"
          ]
        }
      ],
      "source": [
        "result_IBM = job.result()\n",
        "print(f\">>> {result_IBM}\\n\")\n",
        "try:\n",
        "    print(f\"  > Quasi-probability distribution: {result_IBM.quasi_dists[0]}\\n\")\n",
        "    print(f\"  > Metadata: {result_IBM.metadata[0]}\\n\")\n",
        "except:\n",
        "    pass"
      ]
    },
    {
      "cell_type": "markdown",
      "id": "2b5e3252-19ca-4c93-9ff3-e4c0a4d379fa",
      "metadata": {
        "id": "2b5e3252-19ca-4c93-9ff3-e4c0a4d379fa"
      },
      "source": [
        "<a id='sec_Notebooks_Circ_1_qubit_2.1'></a>\n",
        "### Recuperar resultados de trabajos anteriores con el job id"
      ]
    },
    {
      "cell_type": "markdown",
      "id": "39de67b5-bbdc-4783-a043-640808a1405d",
      "metadata": {
        "id": "39de67b5-bbdc-4783-a043-640808a1405d"
      },
      "source": [
        "Es importante guardar el Job Id, pues con el podemos recuperar los resultados de un trabajo anterior. Por ejemplo, lo que podemos hacer es ejecutar un circuito y si vemos usando `job.status()` que tarda mucho en entrar en ejecución, podemos anotarnos el id y otro ver los resultado, sin tener que dejar el Notebook abierto."
      ]
    },
    {
      "cell_type": "code",
      "execution_count": 32,
      "id": "bf7c84a9-7aa5-4661-b426-91d5cf0c986e",
      "metadata": {
        "id": "bf7c84a9-7aa5-4661-b426-91d5cf0c986e",
        "colab": {
          "base_uri": "https://localhost:8080/"
        },
        "outputId": "cb83a655-6e51-4e97-c4d9-75b3133830c2"
      },
      "outputs": [
        {
          "output_type": "stream",
          "name": "stdout",
          "text": [
            "job id = cw9s5qpjyrs0008h0ap0\n"
          ]
        }
      ],
      "source": [
        "# Utilizar el job anterior o poner uno existente\n",
        "# Ver: https://quantum.ibm.com/workloads para la lista de jobs\n",
        "\n",
        "#job_id=\"cvrkpwk55th0008rv9q0\"\n",
        "job_id = job.job_id()\n",
        "print(f\"job id = {job_id}\")"
      ]
    },
    {
      "cell_type": "code",
      "execution_count": 33,
      "id": "f531dc68-f751-48c7-acaf-ab59ee336389",
      "metadata": {
        "id": "f531dc68-f751-48c7-acaf-ab59ee336389",
        "colab": {
          "base_uri": "https://localhost:8080/",
          "height": 485
        },
        "outputId": "06298bec-14e3-4fa9-86c3-d64b0b5cd97b"
      },
      "outputs": [
        {
          "output_type": "display_data",
          "data": {
            "text/plain": [
              "[<RuntimeJob('cw9vsgp2802g0081nxs0', 'sampler')>,\n",
              " <RuntimeJob('cw9s5qpjyrs0008h0ap0', 'sampler')>,\n",
              " <RuntimeJob('cw9rvenjzdhg008eh0wg', 'sampler')>,\n",
              " <RuntimeJob('ctknrwb6g3rg00871c10', 'estimator')>]"
            ]
          },
          "metadata": {}
        },
        {
          "output_type": "stream",
          "name": "stdout",
          "text": [
            "---\n"
          ]
        },
        {
          "output_type": "display_data",
          "data": {
            "text/plain": [
              "<RuntimeJob('cw9s5qpjyrs0008h0ap0', 'sampler')>"
            ]
          },
          "metadata": {}
        },
        {
          "output_type": "stream",
          "name": "stdout",
          "text": [
            "Previous---\n"
          ]
        },
        {
          "output_type": "display_data",
          "data": {
            "text/plain": [
              "<RuntimeJobV2('cw9s5qpjyrs0008h0ap0', 'sampler')>"
            ]
          },
          "metadata": {}
        },
        {
          "output_type": "stream",
          "name": "stdout",
          "text": [
            "---\n"
          ]
        },
        {
          "output_type": "display_data",
          "data": {
            "text/plain": [
              "{'bss': {'seconds': 3},\n",
              " 'usage': {'quantum_seconds': 3, 'seconds': 3},\n",
              " 'timestamps': {'created': '2024-10-19T11:07:10.920Z',\n",
              "  'finished': '2024-10-19T11:44:28.083Z',\n",
              "  'running': '2024-10-19T11:44:05.378Z'},\n",
              " 'executions': 4096,\n",
              " 'num_circuits': 1,\n",
              " 'num_qubits': [127],\n",
              " 'circuit_depths': [4],\n",
              " 'qiskit_version': 'qiskit_ibm_runtime-0.31.0,qiskit-1.2.2*,qiskit_aer-0.15.1*',\n",
              " 'estimated_start_time': '2024-10-19T11:44:04.577Z',\n",
              " 'estimated_completion_time': '2024-10-19T11:44:07.577Z',\n",
              " 'position_in_queue': None,\n",
              " 'position_in_provider': None}"
            ]
          },
          "metadata": {}
        },
        {
          "output_type": "stream",
          "name": "stdout",
          "text": [
            "---\n"
          ]
        },
        {
          "output_type": "display_data",
          "data": {
            "text/plain": [
              "PrimitiveResult([SamplerPubResult(data=DataBin(c0=BitArray(<shape=(), num_shots=4096, num_bits=1>)), metadata={'circuit_metadata': {}})], metadata={'execution': {'execution_spans': ExecutionSpans([SliceSpan(<start='2024-10-19 11:44:07', stop='2024-10-19 11:44:18', size=4096>)])}, 'version': 2})"
            ]
          },
          "metadata": {}
        },
        {
          "output_type": "stream",
          "name": "stdout",
          "text": [
            "---\n"
          ]
        }
      ],
      "source": [
        "# Podemos listar todos los jobs\n",
        "jobs = service.jobs()\n",
        "display(jobs)\n",
        "print(\"---\")\n",
        "\n",
        "previous_job = jobs[1]\n",
        "display(previous_job)\n",
        "print(\"Previous---\")\n",
        "\n",
        "# Coger uno en particular\n",
        "job = service.job(previous_job.job_id())\n",
        "display(job)\n",
        "print(\"---\")\n",
        "\n",
        "# Métricas de la ejecución\n",
        "jmet = job.metrics()\n",
        "display(jmet)\n",
        "print(\"---\")\n",
        "\n",
        "# Resultado de la ejecución (de aquí obtenemos el histograma)\n",
        "job_result = job.result()\n",
        "display(job_result)\n",
        "print(\"---\")"
      ]
    },
    {
      "cell_type": "code",
      "execution_count": 34,
      "id": "d01106ae-7109-4c8b-8961-204a961f357d",
      "metadata": {
        "id": "d01106ae-7109-4c8b-8961-204a961f357d",
        "colab": {
          "base_uri": "https://localhost:8080/",
          "height": 34
        },
        "outputId": "d0433b1d-b427-43b2-917a-98ba9fb9b108"
      },
      "outputs": [
        {
          "output_type": "display_data",
          "data": {
            "text/plain": [
              "{'1': 2113, '0': 1983}"
            ]
          },
          "metadata": {}
        }
      ],
      "source": [
        "# Pinchando en un job particular en https://quantum.ibm.com/workloads\n",
        "# se muestra un código para obtener los resultados del job\n",
        "\n",
        "# To get counts for a particular pub result, use\n",
        "#\n",
        "# pub_result = job_result[<idx>].data.<classical register>.get_counts()\n",
        "#\n",
        "# where <idx> is the index of the pub and <classical register> is the name of the classical register.\n",
        "# You can use circuit.cregs to find the name of the classical registers.\n",
        "\n",
        "pub_result = job_result[0].data.c0.get_counts()\n",
        "display(pub_result)"
      ]
    },
    {
      "cell_type": "code",
      "execution_count": 35,
      "id": "6509fefc-aec6-4777-a151-50a8324b68e7",
      "metadata": {
        "id": "6509fefc-aec6-4777-a151-50a8324b68e7",
        "colab": {
          "base_uri": "https://localhost:8080/",
          "height": 220
        },
        "outputId": "fc4a261a-9957-4c37-947a-d4a2174c4523"
      },
      "outputs": [
        {
          "output_type": "display_data",
          "data": {
            "text/plain": [
              "<Figure size 200x200 with 1 Axes>"
            ],
            "image/png": "[encoded data removed]"
          },
          "metadata": {}
        }
      ],
      "source": [
        "display(plot_histogram(pub_result, figsize=(2,2)))\n"
      ]
    },
    {
      "cell_type": "markdown",
      "id": "1154b238-4e2d-4ac8-8019-f1e4e7a14e71",
      "metadata": {
        "id": "1154b238-4e2d-4ac8-8019-f1e4e7a14e71"
      },
      "source": [
        "### Más sobre el HW cuántico IBM"
      ]
    },
    {
      "cell_type": "code",
      "execution_count": 36,
      "id": "1bbaaa41-22ca-4db4-a6c9-79d456d5f82a",
      "metadata": {
        "id": "1bbaaa41-22ca-4db4-a6c9-79d456d5f82a",
        "outputId": "a5e0212a-9c73-4d65-aa76-1ecba830bec3",
        "colab": {
          "base_uri": "https://localhost:8080/"
        }
      },
      "outputs": [
        {
          "output_type": "stream",
          "name": "stdout",
          "text": [
            "ibm_brisbane\n",
            "ibm_kyiv\n",
            "ibm_sherbrooke\n"
          ]
        }
      ],
      "source": [
        "# Listar todos los backend públicos disponibles\n",
        "be = []\n",
        "backends = service.backends()\n",
        "for backend in backends:\n",
        "    print(backend.name)\n",
        "    be.append(backend)"
      ]
    },
    {
      "cell_type": "code",
      "execution_count": 37,
      "id": "b04e2798-badc-446b-942b-563d083e00c8",
      "metadata": {
        "id": "b04e2798-badc-446b-942b-563d083e00c8",
        "outputId": "925d7567-6103-4b64-b2b4-2051ce77acb1",
        "colab": {
          "base_uri": "https://localhost:8080/",
          "height": 364
        }
      },
      "outputs": [
        {
          "output_type": "display_data",
          "data": {
            "text/plain": [
              "<qiskit_ibm_runtime.models.backend_status.BackendStatus at 0x7cbf6f23c280>"
            ],
            "text/html": [
              "<pre>&lt;qiskit_ibm_runtime.models.backend_status.BackendStatus object at 0x7cbf6f23c280&gt;</pre><b>name</b>: ibm_brisbane<br/><b>version</b>: , <b>pending jobs</b>: 70<br/><b>status</b>: active<br/>"
            ]
          },
          "metadata": {}
        },
        {
          "output_type": "display_data",
          "data": {
            "text/plain": [
              "{'backend_name': 'ibm_brisbane',\n",
              " 'backend_version': '',\n",
              " 'operational': True,\n",
              " 'pending_jobs': 70,\n",
              " 'status_msg': 'active'}"
            ]
          },
          "metadata": {}
        },
        {
          "output_type": "stream",
          "name": "stdout",
          "text": [
            "--------\n",
            "\n"
          ]
        },
        {
          "output_type": "display_data",
          "data": {
            "text/plain": [
              "<qiskit_ibm_runtime.models.backend_configuration.PulseBackendConfiguration at 0x7cbf6f017070>"
            ]
          },
          "metadata": {}
        },
        {
          "output_type": "stream",
          "name": "stdout",
          "text": [
            "# qubits:127\n",
            "--------\n",
            "\n"
          ]
        },
        {
          "output_type": "display_data",
          "data": {
            "text/plain": [
              "<qiskit_ibm_runtime.models.backend_properties.BackendProperties at 0x7cbf7046ab30>"
            ]
          },
          "metadata": {}
        },
        {
          "output_type": "stream",
          "name": "stdout",
          "text": [
            "qubit 0, T1=0.000224\n",
            "qubit 0, T2=0.000065\n",
            "--------\n",
            "\n"
          ]
        }
      ],
      "source": [
        "# Obtener detalles sobre un 'backend' particular (i.e., 'ibmq_manila')\n",
        "\n",
        "#backend_name = 'ibmq_kyiv'  # Sustituir por el nombre del backend\n",
        "#backend = service.backend(backend_name)\n",
        "\n",
        "backend = be[0] # Vamos a coger uno de ellos, el primero\n",
        "\n",
        "# Backend status\n",
        "display(backend.status())\n",
        "display(backend.status().to_dict())\n",
        "print(\"--------\\n\")\n",
        "\n",
        "\n",
        "# Backend configuration\n",
        "display(backend.configuration())\n",
        "#display(backend.configuration().to_dict())\n",
        "nqubits = backend.configuration().num_qubits\n",
        "print(\"# qubits:{0}\".format(nqubits))\n",
        "print(\"--------\\n\")\n",
        "\n",
        "# Backend properties\n",
        "display(backend.properties())\n",
        "# display(backend.properties().to_dict())\n",
        "# Tiempos de decoherencia qubit 0\n",
        "print(\"qubit 0, T1={:.6f}\".format(backend.properties().t1(0).real))\n",
        "print(\"qubit 0, T2={:.6f}\".format(backend.properties().t2(0).real))\n",
        "print(\"--------\\n\")\n"
      ]
    },
    {
      "cell_type": "markdown",
      "id": "bf696ea2-f965-42eb-b77b-15a3ee26ac13",
      "metadata": {
        "id": "bf696ea2-f965-42eb-b77b-15a3ee26ac13"
      },
      "source": [
        "<div style=\"background-color:#c8e6c9\">\n",
        "<hr>\n",
        "<b>Ejercicio:</b>\n",
        "    \n",
        "<b> <!-- font size=\"+1\"><span style=\"color:red\">[OPCIONAL, PARA OPTAR A NOTA] </span></font --></b>\n",
        "- Busca infomación sobre los parámetros de decoherencia T1, y T2:  \n",
        "  - ¿qué significan?\n",
        "  - ¿de qué manera empírica se podrían obtener?\n",
        "  \n",
        "\n",
        "- Obtén alguna(s) medida(s) de las tasas de error que se proporcionan (por ejemplo de lectura de un qubit, o de alguna puerta). Para ello investiga la lista de propiedades proporcionada por el método <tt>backend.properties()</tt>.\n",
        "\n",
        "<hr>\n",
        "</div>"
      ]
    },
    {
      "cell_type": "markdown",
      "source": [
        "\n",
        "\n",
        "*   T1 mide el tiempo de relajación energética de un qubit, es decir, cuánto tarda en pasar del estado excitado al estado base.\n",
        "*   T2 mide el tiempo de coherencia de fase, es decir, cuánto tiempo puede mantener el qubit una superposición coherente de estados.\n",
        "\n",
        "\n",
        "*   T1 se mide preparando el qubit en el estado |1> y observando su decaimiento hacia |0>.\n",
        "*   T2 se mide con secuencias de interferometría como Ramsey o Spin Echo.\n",
        "\n",
        "\n",
        "Fuentes:\n",
        "* https://quantumcomputinguk.org/tutorials\n",
        "* https://quantumtech.blog/2022/10/20/quantum-computing-modalities-a-qubit-primer-revisited/\n",
        "* https://lss.fnal.gov/archive/2020/poster/fermilab-poster-20-115-scd.pdf\n",
        "\n",
        "\n",
        "\n",
        "\n",
        "\n",
        "\n",
        "\n"
      ],
      "metadata": {
        "id": "3uR_GKBwYpDC"
      },
      "id": "3uR_GKBwYpDC"
    },
    {
      "cell_type": "markdown",
      "source": [
        "Para obtener las tasas de error que se proporcionan para lectura o puerta erc del backend tomado anteriormente, ejecutamos el siguiente código (https://docs.quantum.ibm.com/guides/get-qpu-information#instruction-properties):"
      ],
      "metadata": {
        "id": "0otU4xo0Y5Pc"
      },
      "id": "0otU4xo0Y5Pc"
    },
    {
      "cell_type": "code",
      "source": [
        "backend_json = dict()\n",
        "name = backend.name\n",
        "num_qubits = backend.num_qubits\n",
        "max_shots = backend.max_shots\n",
        "backend_json[\"name\"] = name\n",
        "backend_json[\"measure_0\"] = (backend.target[\"measure\"][(0,)]).error # Error en la lectura del cubit 0\n",
        "backend_json[\"erc_1_0\"] = (backend.target[\"ecr\"][(1,0)]).error # Error en la puerta erc entre el cubit 0 y 1\n",
        "print(backend_json)\n"
      ],
      "metadata": {
        "id": "osQvbJQBYySo",
        "outputId": "2b682c69-4088-448f-c57b-6b1b270d7447",
        "colab": {
          "base_uri": "https://localhost:8080/"
        }
      },
      "id": "osQvbJQBYySo",
      "execution_count": 39,
      "outputs": [
        {
          "output_type": "stream",
          "name": "stdout",
          "text": [
            "{'name': 'ibm_brisbane', 'measure_0': 0.025499999999999967, 'erc_1_0': 0.004133324216024997}\n"
          ]
        }
      ]
    }
  ],
  "metadata": {
    "kernelspec": {
      "display_name": ".venv",
      "language": "python",
      "name": "python3"
    },
    "language_info": {
      "codemirror_mode": {
        "name": "ipython",
        "version": 3
      },
      "file_extension": ".py",
      "mimetype": "text/x-python",
      "name": "python",
      "nbconvert_exporter": "python",
      "pygments_lexer": "ipython3",
      "version": "3.11.9"
    },
    "colab": {
      "provenance": []
    }
  },
  "nbformat": 4,
  "nbformat_minor": 5
}