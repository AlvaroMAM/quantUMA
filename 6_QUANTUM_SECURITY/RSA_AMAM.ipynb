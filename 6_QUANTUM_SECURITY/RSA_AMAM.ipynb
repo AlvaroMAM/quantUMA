{
  "nbformat": 4,
  "nbformat_minor": 0,
  "metadata": {
    "kernelspec": {
      "display_name": "Python 3",
      "language": "python",
      "name": "python3"
    },
    "language_info": {
      "codemirror_mode": {
        "name": "ipython",
        "version": 3
      },
      "file_extension": ".py",
      "mimetype": "text/x-python",
      "name": "python",
      "nbconvert_exporter": "python",
      "pygments_lexer": "ipython3",
      "version": "3.7.3"
    },
    "colab": {
      "provenance": []
    }
  },
  "cells": [
    {
      "cell_type": "markdown",
      "metadata": {
        "id": "7Og5y4BjoK9g"
      },
      "source": [
        "\n",
        "\n",
        "---\n",
        "\n",
        "# RSA encryption\n",
        "RSA is an asymmetric key algorithm where there is an encryption and decryption key. Since it is slow to implemenet, it is used to send the symmetric keys instead of encrypting the data.\n",
        "\n",
        "\n",
        "Let's go through some Maths basics first to refresh what we learned in school."
      ]
    },
    {
      "cell_type": "markdown",
      "metadata": {
        "id": "JInKmo_QrLrv"
      },
      "source": [
        "# Greatest Common Divisor\n",
        "\n",
        "**Euclid's algorithm** for determining the greatest common divisor (GCD).\n",
        "\n",
        "a is larger than b, divide a by b, divide quotient by remainder, repeat till remainder is 0\n"
      ]
    },
    {
      "cell_type": "code",
      "metadata": {
        "id": "KkbTeoSSijGa"
      },
      "source": [
        "#@title Greatest Common Divisor\n",
        "'''\n",
        "Euclid's algorithm for determining the greatest common divisor\n",
        "Use iteration to make it faster for larger integers\n",
        "a is larger than b, divide a by b, divide quotient by remainder, repeat till remainder is 0\n",
        "'''\n",
        "def gcd(a, b):\n",
        "    while b != 0:\n",
        "        a, b = b, a % b\n",
        "    return a"
      ],
      "execution_count": 1,
      "outputs": []
    },
    {
      "cell_type": "code",
      "metadata": {
        "id": "ESkC60fXoiMY",
        "colab": {
          "base_uri": "https://localhost:8080/"
        },
        "outputId": "075e4b23-0320-4566-9b06-e9736a0315b6"
      },
      "source": [
        "gcd(5,10)"
      ],
      "execution_count": 2,
      "outputs": [
        {
          "output_type": "execute_result",
          "data": {
            "text/plain": [
              "5"
            ]
          },
          "metadata": {},
          "execution_count": 2
        }
      ]
    },
    {
      "cell_type": "markdown",
      "metadata": {
        "id": "VpdkZHRe1f1J"
      },
      "source": [
        "# Relatively prime or coprimes\n",
        "Two numbers a and b are relatively primes iff $gcd(a,b) = 1$ which means that they only share $1$ as their common factor.\n",
        "\n",
        "For example, $14$ and $15$ are relatively primes"
      ]
    },
    {
      "cell_type": "markdown",
      "metadata": {
        "id": "F_WYBk6uu36s"
      },
      "source": [
        "# Congurent numbers\n",
        "\n",
        "> $a \\equiv b \\pmod{m}$ ---> $a$ is congruent to $b$ modulo $m$\n",
        "\n",
        "which implies $m$ divides $a-b$\n",
        "\n",
        "> $a - b = m * k$\n",
        "\n",
        "> $b = remainder(a,m)$"
      ]
    },
    {
      "cell_type": "markdown",
      "metadata": {
        "id": "WjF3yxgcrjZX"
      },
      "source": [
        "# Multliplicative inverse\n",
        "\n",
        "x and a are multiplicate inverse of each other mod m if\n",
        "\n",
        "> $a * x ≡ 1 \\pmod{m}$, where $x\\in\\{1, .. , m-1\\}$\n",
        "\n",
        "which means $m$ divides $a * x - 1$\n",
        "\n",
        "> $a*x - 1 = m * k$\n",
        "\n",
        "> $a*x = m * k + 1$\n",
        "\n",
        "> $1 = remainder(ax,m)$\n",
        "\n",
        "*It can be shown that if $gcd(n,k) =1$, then $k$ has a multiplicative inverse mod n*"
      ]
    },
    {
      "cell_type": "code",
      "metadata": {
        "id": "oIskXnuxijGk"
      },
      "source": [
        "#@title Naive Modular multiplicative inverse\n",
        "'''\n",
        "Euclid's extended algorithm for finding the multiplicative inverse of two numbers\n",
        "ax ≡ 1 (mod m), x lies in [1, .. , m-1]\n",
        "'''\n",
        "def modular_multiplicative_inverse(a, m):\n",
        "    a = a % m;\n",
        "    for x in range(1, m) :\n",
        "        if ((a * x) % m == 1) :\n",
        "            return x\n",
        "    return 1"
      ],
      "execution_count": 3,
      "outputs": []
    },
    {
      "cell_type": "code",
      "source": [
        "#@title Modular Multiplicative Inverse Function\n",
        "def mod_inv(a, m):\n",
        "    \"\"\"\n",
        "    Computes the modular multiplicative inverse of a modulo m using the Extended Euclidean Algorithm.\n",
        "\n",
        "    Parameters:\n",
        "        a (int): The number to find the inverse of.\n",
        "        m (int): The modulus.\n",
        "\n",
        "    Returns:\n",
        "        int: The modular multiplicative inverse of a mod m, or None if no inverse exists.\n",
        "    \"\"\"\n",
        "    def extended_gcd(a, b):\n",
        "        \"\"\"Helper function to implement the Extended Euclidean Algorithm.\"\"\"\n",
        "        if b == 0:\n",
        "            return a, 1, 0\n",
        "        gcd, x1, y1 = extended_gcd(b, a % b)\n",
        "        x = y1\n",
        "        y = x1 - (a // b) * y1\n",
        "        return gcd, x, y\n",
        "\n",
        "    gcd, x, _ = extended_gcd(a, m)\n",
        "    if gcd != 1:\n",
        "        # Modular inverse doesn't exist if gcd(a, m) != 1\n",
        "        return None\n",
        "    else:\n",
        "        # Ensure the result is positive\n",
        "        return x % m\n",
        "\n",
        "# Example Usage\n",
        "a = 75  #@param {type:\"number\"}\n",
        "m = 29  #@param {type:\"number\"}\n",
        "\n",
        "inverse = mod_inv(a, m)\n",
        "if inverse is not None:\n",
        "    print(f\"The modular multiplicative inverse of {a} mod {m} is {inverse}.\")\n",
        "else:\n",
        "    print(f\"No modular multiplicative inverse exists for {a} mod {m}.\")"
      ],
      "metadata": {
        "colab": {
          "base_uri": "https://localhost:8080/"
        },
        "id": "jb2Xx3psQN7a",
        "outputId": "4e0cd633-84ba-41c4-d33e-dd02a49d4ace"
      },
      "execution_count": 4,
      "outputs": [
        {
          "output_type": "stream",
          "name": "stdout",
          "text": [
            "The modular multiplicative inverse of 75 mod 29 is 12.\n"
          ]
        }
      ]
    },
    {
      "cell_type": "markdown",
      "metadata": {
        "id": "xBPvOknLxK-I"
      },
      "source": [
        "# Prime number\n",
        "\n",
        "In order to check if a number N is prime, we start dividing it with numbers from 2 onwards. Since\n",
        "\n",
        "$N = \\sqrt{N} * \\sqrt{N} $\n",
        "\n",
        "the factor can't be greater than $\\sqrt{N}$\n",
        "\n",
        "So we only have to check numbers till then."
      ]
    },
    {
      "cell_type": "code",
      "metadata": {
        "id": "vvT__qzvijGw"
      },
      "source": [
        "#@title Naive is prime implementation\n",
        "'''\n",
        "Tests to see if a number is prime.\n",
        "'''\n",
        "def is_prime(num):\n",
        "    if num == 2:\n",
        "        return True\n",
        "    if num < 2 or num % 2 == 0:\n",
        "        return False\n",
        "    for n in range(3, int(num**0.5)+2, 2): # you can speed it up a bit more with similar tricks ...\n",
        "        if num % n == 0:\n",
        "            return False\n",
        "    return True"
      ],
      "execution_count": 5,
      "outputs": []
    },
    {
      "cell_type": "code",
      "metadata": {
        "id": "ArwHymVzijG3",
        "colab": {
          "base_uri": "https://localhost:8080/"
        },
        "outputId": "8f048eca-8126-41ae-c4b3-c18c25975cf0"
      },
      "source": [
        "# example\n",
        "is_prime(6320312)"
      ],
      "execution_count": 6,
      "outputs": [
        {
          "output_type": "execute_result",
          "data": {
            "text/plain": [
              "False"
            ]
          },
          "metadata": {},
          "execution_count": 6
        }
      ]
    },
    {
      "cell_type": "markdown",
      "source": [
        "If you need to check whether a long number is a primer number the previous approach won't work, you'll need a probabilistic primality test. There are different packages that include those kind of test, one of the simplest one is sympy"
      ],
      "metadata": {
        "id": "_ZxLJyApSH_l"
      }
    },
    {
      "cell_type": "code",
      "source": [
        "from sympy import isprime\n",
        "\n",
        "# Check primality\n",
        "\n",
        "number = 63203128476040426868745407319982284176275751373812593808244917063767803882168756818789652917269943419 #@param {type:\"number\"}\n",
        "\n",
        "if isprime(number):\n",
        "    print(f\"{number} is prime.\")\n",
        "else:\n",
        "    print(f\"{number} is not prime.\")"
      ],
      "metadata": {
        "colab": {
          "base_uri": "https://localhost:8080/"
        },
        "id": "Yrml6HdpRp8G",
        "outputId": "a1c8758c-b9aa-4e5c-fb52-35c71ffd0b35"
      },
      "execution_count": 7,
      "outputs": [
        {
          "output_type": "stream",
          "name": "stdout",
          "text": [
            "63203128476040426868745407319982284176275751373812593808244917063767803882168756818789652917269943419 is prime.\n"
          ]
        }
      ]
    },
    {
      "cell_type": "code",
      "source": [
        "#@title Generate Prime greater than a given number\n",
        "from sympy import nextprime\n",
        "\n",
        "number = 67004178 #@param {type:\"number\"}\n",
        "number = nextprime(number)\n",
        "\n",
        "if isprime(number):\n",
        "    print(f\"{number} is prime.\")\n",
        "else:\n",
        "    print(f\"{number} is not prime.\")"
      ],
      "metadata": {
        "colab": {
          "base_uri": "https://localhost:8080/"
        },
        "id": "1jrUtwV9WIB2",
        "outputId": "a11e2e66-6319-42e5-c6c9-4aa10696a90b"
      },
      "execution_count": 8,
      "outputs": [
        {
          "output_type": "stream",
          "name": "stdout",
          "text": [
            "67004207 is prime.\n"
          ]
        }
      ]
    },
    {
      "cell_type": "markdown",
      "metadata": {
        "id": "8pDjlRE10VuR"
      },
      "source": [
        "# RSA - Rivest–Shamir–Adleman\n",
        "Published in 1977 in MIT [pdf](https://people.csail.mit.edu/rivest/Rsapaper.pdf)\n",
        "\n",
        "# Generation of public and private keys\n",
        "\n",
        "1.   Generate two prime numbers $p$ and $q$\n",
        "\n",
        "2.   Define $N = p * q$ called a *semiprime* (product of two primes)\n",
        "\n",
        "3.   Define $ \\phi =  (p-1) * (q-1)$ which is Euler Totient function (see Euler's theorem)\n",
        "\n",
        "4.   Generate encryption key $e$ such that $gcd(e, \\phi) = 1 $ where e lies between $1$ to $\\phi -1 $\n",
        "\n",
        "    i.e. e is relatively prime to $\\phi$\n",
        "\n",
        "   **Public key**: $(e, N)$ visible to everyone\n",
        "\n",
        "5.   Generate decryption key $d$ such that $d$ is multiplicate inverse of $e$ module $\\phi$\n",
        "\n",
        "    $d*e ≡ 1 \\pmod{\\phi}$\n",
        "\n",
        "    **Private key**: $(d, N)$ visible only to sender and your receiver.\n"
      ]
    },
    {
      "cell_type": "code",
      "metadata": {
        "id": "PXy8P0huijG8"
      },
      "source": [
        "#@title RSA Keypair Generator\n",
        "from sympy import isprime\n",
        "\n",
        "def generate_keypair(p, q):\n",
        "    if not (isprime(p) and isprime(q)):\n",
        "        raise ValueError('Both numbers must be prime.')\n",
        "    elif p == q:\n",
        "        raise ValueError('p and q cannot be equal')\n",
        "    #n = pq\n",
        "    n = p * q\n",
        "\n",
        "    #Phi is the totient of n\n",
        "    phi = (p-1) * (q-1)\n",
        "\n",
        "    #Choose an integer e such that e and phi(n) are coprime or relatively prime\n",
        "    e = 5 # most common value is 65537\n",
        "\n",
        "    #Use Euclid's Algorithm to verify that e and phi(n) are coprime\n",
        "    if gcd(e, phi) != 1:\n",
        "        raise ValueError(\"e and phi(n) are not coprime!\") # You need to generate new primes\n",
        "\n",
        "    #Use Extended Euclid's Algorithm to generate the private key de ≡ 1 (mod phi)\n",
        "    d = mod_inv(e, phi)\n",
        "\n",
        "    #Return public and private keypair\n",
        "    #Public key is (e, n) and private key is (d, n)\n",
        "    return ((e, n), (d, n))"
      ],
      "execution_count": 9,
      "outputs": []
    },
    {
      "cell_type": "code",
      "metadata": {
        "id": "V83pgmbBi-ES",
        "outputId": "44f8d084-efc2-4116-a8be-9d89c217acf8",
        "colab": {
          "base_uri": "https://localhost:8080/"
        }
      },
      "source": [
        "from sympy import randprime\n",
        "\n",
        "min_digits = 100 #@param {type:\"number\"}\n",
        "a= 10**min_digits\n",
        "b= 10**(min_digits+1)-1\n",
        "\n",
        "p = randprime(a,b)\n",
        "q = randprime(a,b)\n",
        "\n",
        "print(\"Prime p:\", p)\n",
        "print(\"Prime q:\", q)\n",
        "\n",
        "print(\"Generating your public/private keypairs now . . .\")\n",
        "public, private = generate_keypair(p, q)\n",
        "(e,n)= public\n",
        "print(\"Modulus N:\", n)\n",
        "print(\"Public key : \", public)\n",
        "print(\"Private key: \", private)"
      ],
      "execution_count": 11,
      "outputs": [
        {
          "output_type": "stream",
          "name": "stdout",
          "text": [
            "Prime p: 26326488540592080939948888067597039299235561151460658345259970097213787157800692789733154566541871717\n",
            "Prime q: 18792068060526795555032127831541289340738058730527809621308458936455836975671959216258100408367139667\n",
            "Generating your public/private keypairs now . . .\n",
            "Modulus N: 494729164449485134863336435783876565969394175401747774713189440964610869401510954867717469059619907527501416336968683131361287469484684391735326056860524830914686154692240233071345497661072659736098239\n",
            "Public key :  (5, 494729164449485134863336435783876565969394175401747774713189440964610869401510954867717469059619907527501416336968683131361287469484684391735326056860524830914686154692240233071345497661072659736098239)\n",
            "Private key:  (395783331559588107890669148627101252775515340321398219770551552771688695521208763894173975247695925985906287788679845309104217256277084601409364939897645491477005696818092879678954793335854147861669485, 494729164449485134863336435783876565969394175401747774713189440964610869401510954867717469059619907527501416336968683131361287469484684391735326056860524830914686154692240233071345497661072659736098239)\n"
          ]
        }
      ]
    },
    {
      "cell_type": "markdown",
      "metadata": {
        "id": "Wi8B_TCc3oPh"
      },
      "source": [
        "# Encryption step\n",
        "\n",
        "\n",
        ">   $C = M^e \\pmod{N}$\n",
        "\n"
      ]
    },
    {
      "cell_type": "code",
      "metadata": {
        "id": "0-9lV5pjijHC"
      },
      "source": [
        "def encrypt(key,n, plaintext):\n",
        "    #Convert each letter in the plaintext to numbers based on the character using rem(m^e,n) i.e. m^e mod n\n",
        "    cipher = [pow(ord(char), key,n) for char in plaintext]\n",
        "    #Return the array of bytes\n",
        "    return cipher"
      ],
      "execution_count": 14,
      "outputs": []
    },
    {
      "cell_type": "code",
      "metadata": {
        "id": "Dyv9O09sjv9T",
        "colab": {
          "base_uri": "https://localhost:8080/"
        },
        "outputId": "821997f5-5fc2-4fbe-95bb-57f55ef7b681"
      },
      "source": [
        "\n",
        "message = input(\"Enter a message to encrypt with your public key:\")\n",
        "n = int(input(\"Enter the RSA modulus:\"))\n",
        "key = int(input(\"Enter the public key exponent:\"))\n",
        "\n",
        "encrypted_msg = encrypt(key,n, message)\n",
        "print(\"Your encrypted message is: \")\n",
        "print(encrypted_msg)"
      ],
      "execution_count": 17,
      "outputs": [
        {
          "output_type": "stream",
          "name": "stdout",
          "text": [
            "Enter a message to encrypt with your public key:La estoy liando parda\n",
            "Enter the RSA modulus:4045560166591560551274253345695887446796704517189811150402904998224164794919626022001792997265314408530586357807185736296454261264323625410838246763254703871369947574392985711944957597720819334581184659\n",
            "Enter the public key exponent:5\n",
            "Your encrypted message is: \n",
            "[2535525376, 8587340257, 33554432, 10510100501, 20113571875, 21003416576, 16850581551, 25937424601, 33554432, 14693280768, 12762815625, 8587340257, 16105100000, 10000000000, 16850581551, 33554432, 17623416832, 8587340257, 19254145824, 10000000000, 8587340257]\n"
          ]
        }
      ]
    },
    {
      "cell_type": "markdown",
      "metadata": {
        "id": "1iAorvMZ5N1-"
      },
      "source": [
        "# Decryption step\n",
        "\n",
        "\n",
        ">   $M' = C^d \\pmod{N}$\n"
      ]
    },
    {
      "cell_type": "code",
      "metadata": {
        "id": "gtTRMJCS5K01"
      },
      "source": [
        "def decrypt(key,n, ciphertext):\n",
        "    #Generate the plaintext based on the ciphertext and key using rem(m'^d,n)\n",
        "    plain = [chr(pow(char, key,n)) for char in ciphertext]\n",
        "    #Return the array of bytes as a string\n",
        "    return ''.join(plain)"
      ],
      "execution_count": 12,
      "outputs": []
    },
    {
      "cell_type": "code",
      "metadata": {
        "id": "BAjTfzQFijHL",
        "colab": {
          "base_uri": "https://localhost:8080/"
        },
        "outputId": "5d43dff2-9bb6-4e4c-da7b-b0df6ba3687d"
      },
      "source": [
        "\n",
        "# Input string\n",
        "input_string = input(\"Enter the encrypted message:\")\n",
        "\n",
        "# Convert the string to a list\n",
        "encrypted_msg = list(map(int, input_string.strip(\"[]\").split(\", \")))\n",
        "\n",
        "n = int(input(\"Enter the RSA modulus:\"))\n",
        "key = int(input(\"Enter the private key exponent:\"))\n",
        "\n",
        "print(\"Your message is:\")\n",
        "print(decrypt(key,n, encrypted_msg))"
      ],
      "execution_count": 13,
      "outputs": [
        {
          "output_type": "stream",
          "name": "stdout",
          "text": [
            "Enter the encrypted message:[15386239549, 10510100501, 16105100000, 20113571875, 8587340257, 13382255776, 10510100501, 33554432, 10510100501, 16105100000, 9509900499, 19254145824, 12762815625, 17623416832, 21003416576, 8587340257, 10000000000, 16850581551]\n",
            "Enter the RSA modulus:494729164449485134863336435783876565969394175401747774713189440964610869401510954867717469059619907527501416336968683131361287469484684391735326056860524830914686154692240233071345497661072659736098239\n",
            "Enter the private key exponent:395783331559588107890669148627101252775515340321398219770551552771688695521208763894173975247695925985906287788679845309104217256277084601409364939897645491477005696818092879678954793335854147861669485\n",
            "Your message is:\n",
            "mensaje encriptado\n"
          ]
        }
      ]
    }
  ]
}