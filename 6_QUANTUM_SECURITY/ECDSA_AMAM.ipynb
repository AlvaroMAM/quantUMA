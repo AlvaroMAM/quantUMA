{
  "nbformat": 4,
  "nbformat_minor": 0,
  "metadata": {
    "colab": {
      "provenance": []
    },
    "kernelspec": {
      "name": "python3",
      "display_name": "Python 3"
    }
  },
  "cells": [
    {
      "cell_type": "markdown",
      "source": [
        "# **Alumno**: Álvaro Manuel Aparicio Morales\n",
        "\n",
        "## **Módulo 6**: Seguridad Cuántica\n",
        "\n",
        "I CERTIFICADO DE EXTENSIÓN UNIVERSITARIA EN COMPUTACIÓN CUÁNTICA\n",
        "\n",
        "(2024-25)"
      ],
      "metadata": {
        "id": "CU6sFMKC_3NS"
      }
    },
    {
      "cell_type": "markdown",
      "metadata": {
        "id": "yBJq6ZBGJkoi"
      },
      "source": [
        "# Elliptic Curve Digital Signature Algorithm (ECDSA)"
      ]
    },
    {
      "cell_type": "markdown",
      "metadata": {
        "id": "d_JpLBG9r--p"
      },
      "source": [
        "# Setup\n",
        "\n",
        "btclib is needed: let's install/update it and imported straight away some of its functions"
      ]
    },
    {
      "cell_type": "code",
      "metadata": {
        "id": "LwhoTndVSaz3",
        "colab": {
          "base_uri": "https://localhost:8080/"
        },
        "outputId": "c59b3514-80e4-4508-f687-a4948fb9e32c"
      },
      "source": [
        "!pip install --upgrade btclib\n",
        "\n",
        "from btclib.number_theory import mod_inv\n",
        "from btclib.ec.curve import mult\n",
        "from btclib.ec import bytes_from_point, point_from_octets\n"
      ],
      "execution_count": null,
      "outputs": [
        {
          "output_type": "stream",
          "name": "stdout",
          "text": [
            "Collecting btclib\n",
            "  Downloading btclib-2023.7.12-py3-none-any.whl.metadata (10 kB)\n",
            "Collecting btclib-libsecp256k1 (from btclib)\n",
            "  Downloading btclib_libsecp256k1-0.4.0-cp310-cp310-manylinux_2_17_x86_64.manylinux2014_x86_64.whl.metadata (6.1 kB)\n",
            "Requirement already satisfied: cffi>=1.0.0 in /usr/local/lib/python3.10/dist-packages (from btclib-libsecp256k1->btclib) (1.17.1)\n",
            "Requirement already satisfied: pycparser in /usr/local/lib/python3.10/dist-packages (from cffi>=1.0.0->btclib-libsecp256k1->btclib) (2.22)\n",
            "Downloading btclib-2023.7.12-py3-none-any.whl (188 kB)\n",
            "\u001b[2K   \u001b[90m━━━━━━━━━━━━━━━━━━━━━━━━━━━━━━━━━━━━━━━━\u001b[0m \u001b[32m188.6/188.6 kB\u001b[0m \u001b[31m3.4 MB/s\u001b[0m eta \u001b[36m0:00:00\u001b[0m\n",
            "\u001b[?25hDownloading btclib_libsecp256k1-0.4.0-cp310-cp310-manylinux_2_17_x86_64.manylinux2014_x86_64.whl (1.3 MB)\n",
            "\u001b[2K   \u001b[90m━━━━━━━━━━━━━━━━━━━━━━━━━━━━━━━━━━━━━━━━\u001b[0m \u001b[32m1.3/1.3 MB\u001b[0m \u001b[31m14.0 MB/s\u001b[0m eta \u001b[36m0:00:00\u001b[0m\n",
            "\u001b[?25hInstalling collected packages: btclib-libsecp256k1, btclib\n",
            "Successfully installed btclib-2023.7.12 btclib-libsecp256k1-0.4.0\n"
          ]
        }
      ]
    },
    {
      "cell_type": "markdown",
      "metadata": {
        "id": "bjYHR3nlIIoC"
      },
      "source": [
        "For this exercise we use secp256k1 as elliptic curve and SHA256 as hash function:"
      ]
    },
    {
      "cell_type": "code",
      "metadata": {
        "id": "ByGdee-DFiZb",
        "colab": {
          "base_uri": "https://localhost:8080/"
        },
        "outputId": "17bb9b7c-e213-40f7-e373-4e2f644eabe0"
      },
      "source": [
        "from btclib.ec.curve import secp256k1 as ec\n",
        "from hashlib import sha256 as hash\n",
        "print(ec)"
      ],
      "execution_count": null,
      "outputs": [
        {
          "output_type": "stream",
          "name": "stdout",
          "text": [
            "Curve\n",
            " p   = FFFFFFFF FFFFFFFF FFFFFFFF FFFFFFFF FFFFFFFF FFFFFFFF FFFFFFFE FFFFFC2F\n",
            " a   = 0\n",
            " b   = 7\n",
            " x_G = 79BE667E F9DCBBAC 55A06295 CE870B07 029BFCDB 2DCE28D9 59F2815B 16F81798\n",
            " y_G = 483ADA77 26A3C465 5DA4FBFC 0E1108A8 FD17B448 A6855419 9C47D08F FB10D4B8\n",
            " n   = FFFFFFFF FFFFFFFF FFFFFFFF FFFFFFFE BAAEDCE6 AF48A03B BFD25E8C D0364141\n",
            " cofactor = 1\n"
          ]
        }
      ]
    },
    {
      "cell_type": "markdown",
      "metadata": {
        "id": "XiRpjtu8MwI3"
      },
      "source": [
        "Normally, hf is chosen such that its output size is roughly equal to the size of ec.n, since the overall security of the signature scheme will depend on the smallest of the two; however, the ECDSA standard support all combinations of sizes"
      ]
    },
    {
      "cell_type": "code",
      "metadata": {
        "id": "Jf4YS8X6M26W",
        "colab": {
          "base_uri": "https://localhost:8080/"
        },
        "outputId": "cd502ab1-1680-4587-f029-3e2094db1b13"
      },
      "source": [
        "print(hash().digest_size)\n",
        "print(ec.n_size)"
      ],
      "execution_count": null,
      "outputs": [
        {
          "output_type": "stream",
          "name": "stdout",
          "text": [
            "32\n",
            "32\n"
          ]
        }
      ]
    },
    {
      "cell_type": "markdown",
      "metadata": {
        "id": "ZR6PrjhMPwkr"
      },
      "source": [
        "# 1. Key Generation\n",
        "\n",
        "**Private Key** (generated elsewhere, a fixed value here):"
      ]
    },
    {
      "cell_type": "code",
      "metadata": {
        "id": "XzwPBqVoMZmg",
        "colab": {
          "base_uri": "https://localhost:8080/"
        },
        "outputId": "10ba0e73-eba3-442f-cb81-4f3f42130549"
      },
      "source": [
        "q = 0x18E14A7B6A307F426A94F8114701E7D8E774E7F9A47E2C2035DB29A206324725\n",
        "assert 0 < q < ec.n, \"Invalid private key\"\n",
        "print(\"q:\", q)\n",
        "print(\"Hex(q):\", hex(q))"
      ],
      "execution_count": null,
      "outputs": [
        {
          "output_type": "stream",
          "name": "stdout",
          "text": [
            "q: 11253563012059685825953619222107823554536665569766687653799784088259834038053\n",
            "Hex(q): 0x18e14a7b6a307f426a94f8114701e7d8e774e7f9a47e2c2035db29a206324725\n"
          ]
        }
      ]
    },
    {
      "cell_type": "markdown",
      "metadata": {
        "id": "ON5UFxzaSrM6"
      },
      "source": [
        "and the corresponding **Public Key**:"
      ]
    },
    {
      "cell_type": "code",
      "metadata": {
        "id": "1o0xWjJMQ5ST",
        "colab": {
          "base_uri": "https://localhost:8080/"
        },
        "outputId": "cb2dd70c-7033-4c6b-88c3-571747fdfa11"
      },
      "source": [
        "Q = mult(q, ec.G)\n",
        "Q_hex = bytes_from_point(Q).hex()\n",
        "print(\"Pubkey point: \",Q)\n",
        "print(\"PubKey: \",Q_hex)\n"
      ],
      "execution_count": null,
      "outputs": [
        {
          "output_type": "stream",
          "name": "stdout",
          "text": [
            "Pubkey point:  (20499248199127347513744745245647133074212871529272136658537990292998099609108, 55596051396810578486326870485040051763133240522441939960331386877950977471380)\n",
            "PubKey:  022d5229cf0bf551ec7050a966e76e7326318a2c80d5c29b7d0f5d2cf4c74ca614\n"
          ]
        }
      ]
    },
    {
      "cell_type": "markdown",
      "metadata": {
        "id": "BdMTqEUBTHZs"
      },
      "source": [
        "## Message\n",
        "The message to be signed msg is first processed by hf, yielding to the so-called 'non-interactive challenge' c:"
      ]
    },
    {
      "cell_type": "code",
      "metadata": {
        "id": "YnDNcblIS4UU",
        "colab": {
          "base_uri": "https://localhost:8080/"
        },
        "outputId": "290eaa8d-5f7d-4bc5-82f9-9dad67c5d619"
      },
      "source": [
        "msg = \"Ejercicio de comprobación de firma\"\n",
        "\n",
        "# challenge is an integer modulo ec.n:\n",
        "msg_hash = hash(msg.encode()).digest()\n",
        "c = int.from_bytes(msg_hash, 'big') % ec.n\n",
        "assert c != 0\n",
        "print(\"c:\", hex(c))"
      ],
      "execution_count": null,
      "outputs": [
        {
          "output_type": "stream",
          "name": "stdout",
          "text": [
            "c: 0x522a568c75f86a4b828503d3ed43461a794a7c2e841d740297f2ea80d6f695f2\n"
          ]
        }
      ]
    },
    {
      "cell_type": "markdown",
      "metadata": {
        "id": "ZqSVkyLRUuAG"
      },
      "source": [
        "## Deterministic Ephemeral Key\n",
        "An ephemeral key k is required for signing; it must be kept secret and never reused. A good choice is to use a deterministic key:\n",
        "\n",
        "`k = hash(q||c)`\n",
        "\n",
        "different for each msg, private because of q"
      ]
    },
    {
      "cell_type": "code",
      "metadata": {
        "id": "UxKdGjpyUctt",
        "colab": {
          "base_uri": "https://localhost:8080/"
        },
        "outputId": "59b36577-c4ab-49e0-8cce-fc9c1abd73f5"
      },
      "source": [
        "k_bytes = hash(q.to_bytes(32, 'big') + c.to_bytes(32, 'big')).digest()\n",
        "k = int.from_bytes(k_bytes, 'big') % ec.n\n",
        "assert 0 < k < ec.n, \"Invalid ephemeral key\"\n",
        "print(\"k:\", hex(k))"
      ],
      "execution_count": null,
      "outputs": [
        {
          "output_type": "stream",
          "name": "stdout",
          "text": [
            "k: 0xdbedf61507e740abb9273dc870fee8b7bec9e626e8755235e25c12212141cde\n"
          ]
        }
      ]
    },
    {
      "cell_type": "markdown",
      "metadata": {
        "id": "40K9Y6q1bh0V"
      },
      "source": [
        "## Signature Algorithm"
      ]
    },
    {
      "cell_type": "markdown",
      "source": [
        "Assuming $c$ is the hashed message and $q$ the private key, choose a random k and compute $ (x_1, y_1) = k \\cdot G $\n",
        "\n",
        "Then $r = x_1 \\pmod{n}$ and $s = k^{-1} \\cdot (c + r \\cdot q) \\pmod{n}$ is signature\n"
      ],
      "metadata": {
        "id": "Dv4irOOuH6p9"
      }
    },
    {
      "cell_type": "code",
      "metadata": {
        "id": "uj3GStNgWZIG",
        "colab": {
          "base_uri": "https://localhost:8080/"
        },
        "outputId": "089669ac-732f-42cb-c297-7384928940de"
      },
      "source": [
        "K = mult(k, ec.G)\n",
        "\n",
        "r = K[0] % ec.n\n",
        "# if r == 0 (extremely unlikely for large ec.n) go back to a different k\n",
        "assert r != 0\n",
        "\n",
        "s = mod_inv(k, ec.n) * (c + r*q) % ec.n\n",
        "# if s == 0 (extremely unlikely for large ec.n) go back to a different k\n",
        "assert s != 0\n",
        "\n",
        "print(\"r:\", hex(r))\n",
        "print(\"s:\", hex(s))"
      ],
      "execution_count": null,
      "outputs": [
        {
          "output_type": "stream",
          "name": "stdout",
          "text": [
            "r: 0xe6917770edcfe6ffc765deb86a416969ca39e97cbc092e48dab333b54090948a\n",
            "s: 0xb4ba35eb5169aa152ff9ee8eb9a2b93e4d327ab6f3422c24f66b31d843c362ac\n"
          ]
        }
      ]
    },
    {
      "cell_type": "code",
      "source": [],
      "metadata": {
        "id": "65cNkw0oHctc"
      },
      "execution_count": null,
      "outputs": []
    },
    {
      "cell_type": "markdown",
      "metadata": {
        "id": "mjNR4BIMZ7Id"
      },
      "source": [
        "# 3. Verify Signature"
      ]
    },
    {
      "cell_type": "markdown",
      "source": [
        "Compute\n",
        "\n",
        "$u = c \\cdot s^{-1} \\pmod{n}, \\quad v = r \\cdot s^{-1} \\pmod{n}$\n",
        "\n",
        "Then ,\n",
        "\n",
        "$(x_1, y_1) = u \\cdot G + v \\cdot Q$\n",
        "\n",
        "Finally check if $r \\equiv x_1 \\pmod{n}$\n",
        "\n",
        "Where:\n",
        "* $c$: The hashed message (truncated if longer than $n$'s bit-length).\n",
        "* $r$: The first part of the ECDSA signature.\n",
        "* $s$: The second part of the ECDSA signature.\n",
        "* $G$: The generator point on the elliptic curve.\n",
        "* $Q$: The signer's public key.\n",
        "* $n$: The order of the group generated by $G$.\n",
        "* $(x_1, y_1)$: The resulting point on the elliptic curve."
      ],
      "metadata": {
        "id": "9QviqW9SG2PP"
      }
    },
    {
      "cell_type": "code",
      "metadata": {
        "id": "VnnCnKJeZLJm",
        "colab": {
          "base_uri": "https://localhost:8080/"
        },
        "outputId": "2571e6c4-34d4-41b9-8d0d-4d336c4ce339"
      },
      "source": [
        "Q_hex=input(\"Paste the public key\")\n",
        "Q=point_from_octets(bytes.fromhex(Q_hex))\n",
        "msg = input(\"Paste the message\")\n",
        "msg_hash = hash(msg.encode()).digest()\n",
        "r = int(input(\"Paste r\"),0)\n",
        "s = int(input(\"Paste s\"),0)\n",
        "\n",
        "c = int.from_bytes(msg_hash, 'big') % ec.n\n",
        "s_inv = mod_inv(s, ec.n)\n",
        "u = c*s_inv % ec.n\n",
        "v = r*s_inv % ec.n\n",
        "assert u != 0\n",
        "assert v != 0\n",
        "U = mult(u, ec.G)\n",
        "V = mult(v, Q)\n",
        "x, y = ec.add(U, V)\n",
        "print(r == x % ec.n)"
      ],
      "execution_count": null,
      "outputs": [
        {
          "output_type": "stream",
          "name": "stdout",
          "text": [
            "Paste the public key022d5229cf0bf551ec7050a966e76e7326318a2c80d5c29b7d0f5d2cf4c74ca614\n",
            "Paste the messageEjercicio de comprobación de firma\n",
            "Paste r0xe6917770edcfe6ffc765deb86a416969ca39e97cbc092e48dab333b54090948a\n",
            "Paste s0xb4ba35eb5169aa152ff9ee8eb9a2b93e4d327ab6f3422c24f66b31d843c362ac\n",
            "True\n"
          ]
        }
      ]
    },
    {
      "cell_type": "markdown",
      "metadata": {
        "id": "dWP713sQdM12"
      },
      "source": [
        "# Key recovery by nonce reuse"
      ]
    },
    {
      "cell_type": "markdown",
      "metadata": {
        "id": "lZBMrXuligvc"
      },
      "source": [
        "## Second Message\n",
        "A second different message to be signed and its corresponding challenge:"
      ]
    },
    {
      "cell_type": "code",
      "metadata": {
        "id": "aecLiCr2dNIz",
        "colab": {
          "base_uri": "https://localhost:8080/"
        },
        "outputId": "77e376ca-0bb3-4a79-ac96-94c7c90f4c4e"
      },
      "source": [
        "msg2 = \"and Paolo is right to be afraid\"\n",
        "\n",
        "# challenge is an integer modulo ec.n:\n",
        "msghd2 = hash(msg2.encode()).digest()\n",
        "c2 = int.from_bytes(msghd2, 'big') % ec.n\n",
        "assert c2 != 0\n",
        "print(\"c2:\", hex(c2))"
      ],
      "execution_count": null,
      "outputs": [
        {
          "output_type": "stream",
          "name": "stdout",
          "text": [
            "c2: 0x7adb91982ec03ef87efcae7f0199aefa231d8855e0bd03319460e58c0bd18049\n"
          ]
        }
      ]
    },
    {
      "cell_type": "markdown",
      "metadata": {
        "id": "NQi4pK-UevXN"
      },
      "source": [
        "## The Mistake\n",
        "Reuse the same ephemeral key as the previous message:"
      ]
    },
    {
      "cell_type": "code",
      "metadata": {
        "id": "Q4siGdMUev3t",
        "colab": {
          "base_uri": "https://localhost:8080/"
        },
        "outputId": "2579394b-03b3-44c4-e478-75dc122ad7a1"
      },
      "source": [
        "#very bad! Never reuse an ephemeral key!!!\n",
        "k2 = k\n",
        "print(\"k :\", hex(k))\n",
        "print(\"k2:\", hex(k2))"
      ],
      "execution_count": null,
      "outputs": [
        {
          "output_type": "stream",
          "name": "stdout",
          "text": [
            "k : 0xdbedf61507e740abb9273dc870fee8b7bec9e626e8755235e25c12212141cde\n",
            "k2: 0xdbedf61507e740abb9273dc870fee8b7bec9e626e8755235e25c12212141cde\n"
          ]
        }
      ]
    },
    {
      "cell_type": "markdown",
      "metadata": {
        "id": "-wCVmqtgfM4C"
      },
      "source": [
        "## Sign Second Message"
      ]
    },
    {
      "cell_type": "code",
      "metadata": {
        "id": "QGvDYriVfcvC",
        "colab": {
          "base_uri": "https://localhost:8080/"
        },
        "outputId": "fb84b48e-f1e4-4a26-dca8-a4d0558aef31"
      },
      "source": [
        "K2 = mult(k2, ec.G)\n",
        "\n",
        "r = K2[0] % ec.n\n",
        "# if r == 0 (extremely unlikely for large ec.n) go back to a different k\n",
        "assert r != 0\n",
        "\n",
        "s2 = mod_inv(k2, ec.n) * (c2 + r*q) % ec.n\n",
        "# if s2 == 0 (extremely unlikely for large ec.n) go back to a different k\n",
        "assert s2 != 0\n",
        "\n",
        "print(\"r :\", hex(r))\n",
        "print(\"s2:\", hex(s2))"
      ],
      "execution_count": null,
      "outputs": [
        {
          "output_type": "stream",
          "name": "stdout",
          "text": [
            "r : 0xe6917770edcfe6ffc765deb86a416969ca39e97cbc092e48dab333b54090948a\n",
            "s2: 0x52417c3e63faddf8209ecbb51d58c6b5fb6f138a1fdd39d681c2833329ad8bc0\n"
          ]
        }
      ]
    },
    {
      "cell_type": "markdown",
      "metadata": {
        "id": "xnatEJTMfnhd"
      },
      "source": [
        "## Verify Second Signature"
      ]
    },
    {
      "cell_type": "code",
      "metadata": {
        "id": "ddtLyjfIbLgw",
        "colab": {
          "base_uri": "https://localhost:8080/"
        },
        "outputId": "1f0b3014-2b48-462e-a307-028194e2be91"
      },
      "source": [
        "w = mod_inv(s2, ec.n)\n",
        "u = c2*w % ec.n\n",
        "v = r*w % ec.n\n",
        "assert u != 0\n",
        "assert v != 0\n",
        "U = mult(u, ec.G)\n",
        "V = mult(v, Q)\n",
        "x, y = ec.add(U, V)\n",
        "print(r == x % ec.n)"
      ],
      "execution_count": null,
      "outputs": [
        {
          "output_type": "stream",
          "name": "stdout",
          "text": [
            "True\n"
          ]
        }
      ]
    },
    {
      "cell_type": "markdown",
      "metadata": {
        "id": "hfQElvlnitgL"
      },
      "source": [
        "# Exercise\n",
        "Because of the ephemeral key reuse is possible to calculate the private key from the 2 signatures."
      ]
    },
    {
      "cell_type": "code",
      "metadata": {
        "id": "RENovvlCi0Ww",
        "colab": {
          "base_uri": "https://localhost:8080/"
        },
        "outputId": "9f37fda4-6747-41c5-aec6-9599d6549ae6"
      },
      "source": [
        "# forget k, k2, q\n",
        "k=k2=q=0\n",
        "q_rev=0\n",
        "# solve the problem of calculating q:\n",
        "# k\n",
        "# q\n",
        "\n",
        "print(\"Introduce the following values:\")\n",
        "r = int(input(\"Paste r value: \"), 0)\n",
        "s1 = int(input(\"Paste s1: \"), 0)\n",
        "s2 = int(input(\"Paste s2: \"), 0)\n",
        "c1 = int(input(\"Paste c1: \"), 0)\n",
        "c2 = int(input(\"Paste c2: \"), 0)\n",
        "\n",
        "\n",
        "signature_diff = (s1 - s2) % ec.n\n",
        "c_diff =  c1 - c2 % ec.n\n",
        "s_diff_inv = mod_inv(signature_diff, ec.n)\n",
        "k = (c_diff * s_diff_inv) % ec.n\n",
        "\n",
        "\n",
        "q_rev = ((s1 * k - c1) * mod_inv(r, ec.n)) % ec.n\n",
        "\n",
        "# Imprimir la clave privada recuperada\n",
        "print(\"La clave privada recuperada es:\")\n",
        "print(hex(q_rev))\n",
        "print(mult(q_rev, ec.G) == Q) # check it is the correct private key"
      ],
      "execution_count": null,
      "outputs": [
        {
          "output_type": "stream",
          "name": "stdout",
          "text": [
            "Introduce the following values:\n",
            "Paste r value: 0xe6917770edcfe6ffc765deb86a416969ca39e97cbc092e48dab333b54090948a\n",
            "Paste s1: 0xb4ba35eb5169aa152ff9ee8eb9a2b93e4d327ab6f3422c24f66b31d843c362ac\n",
            "Paste s2: 0x52417c3e63faddf8209ecbb51d58c6b5fb6f138a1fdd39d681c2833329ad8bc0\n",
            "Paste c1: 0x522a568c75f86a4b828503d3ed43461a794a7c2e841d740297f2ea80d6f695f2\n",
            "Paste c2: 0x7adb91982ec03ef87efcae7f0199aefa231d8855e0bd03319460e58c0bd18049\n",
            "La clave privada recuperada es:\n",
            "0x18e14a7b6a307f426a94f8114701e7d8e774e7f9a47e2c2035db29a206324725\n",
            "True\n"
          ]
        }
      ]
    },
    {
      "cell_type": "markdown",
      "source": [
        "# Ejemplo de prueba\n",
        "\n",
        "r: 0xe6917770edcfe6ffc765deb86a416969ca39e97cbc092e48dab333b54090948a\n",
        "\n",
        "\n",
        "s1: 0xb4ba35eb5169aa152ff9ee8eb9a2b93e4d327ab6f3422c24f66b31d843c362ac\n",
        "\n",
        "s2: 0x52417c3e63faddf8209ecbb51d58c6b5fb6f138a1fdd39d681c2833329ad8bc0\n",
        "\n",
        "c1: 0x522a568c75f86a4b828503d3ed43461a794a7c2e841d740297f2ea80d6f695f2\n",
        "\n",
        "c2: 0x7adb91982ec03ef87efcae7f0199aefa231d8855e0bd03319460e58c0bd18049"
      ],
      "metadata": {
        "id": "-M0V-3_iRgSC"
      }
    }
  ]
}